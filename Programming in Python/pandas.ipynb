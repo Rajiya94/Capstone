{
 "cells": [
  {
   "cell_type": "code",
   "execution_count": 1,
   "id": "dbc7e54f",
   "metadata": {},
   "outputs": [],
   "source": [
    "import pandas as pd"
   ]
  },
  {
   "cell_type": "code",
   "execution_count": null,
   "id": "aafea18f",
   "metadata": {},
   "outputs": [],
   "source": [
    "#reads the file\n",
    "data1 = pd.read_csv('filename',index_col=0)"
   ]
  },
  {
   "cell_type": "code",
   "execution_count": null,
   "id": "550177a4",
   "metadata": {},
   "outputs": [],
   "source": [
    "# shows the numbers of rows and columns\n",
    "data1.shape()"
   ]
  },
  {
   "cell_type": "code",
   "execution_count": null,
   "id": "05cfc6b3",
   "metadata": {},
   "outputs": [],
   "source": [
    "# shows the values in the data\n",
    "data1.head()"
   ]
  },
  {
   "cell_type": "code",
   "execution_count": null,
   "id": "7a9a4067",
   "metadata": {},
   "outputs": [],
   "source": [
    "# loc gives the values we want\n",
    "data1.loc[['rows'],['column1','column2']]"
   ]
  },
  {
   "cell_type": "code",
   "execution_count": null,
   "id": "fd8b9d6a",
   "metadata": {},
   "outputs": [],
   "source": [
    "data1.loc['rows',['column1','column2']]"
   ]
  },
  {
   "cell_type": "code",
   "execution_count": null,
   "id": "45d6c462",
   "metadata": {},
   "outputs": [],
   "source": [
    "# gives the values from row1 to row 2\n",
    "data1.loc['rows1':'row2',['column1','column2']]"
   ]
  },
  {
   "cell_type": "code",
   "execution_count": null,
   "id": "1f31f891",
   "metadata": {},
   "outputs": [],
   "source": [
    "row=slice('','')\n",
    "cols=[[''],['']]"
   ]
  },
  {
   "cell_type": "code",
   "execution_count": null,
   "id": "71291061",
   "metadata": {},
   "outputs": [],
   "source": [
    "data1.loc[rows,cols]"
   ]
  },
  {
   "cell_type": "code",
   "execution_count": null,
   "id": "80f73cf6",
   "metadata": {},
   "outputs": [],
   "source": [
    "# iloc uses indexes as parameters\n",
    "data1.iloc[1:5,[0,1]]"
   ]
  },
  {
   "cell_type": "code",
   "execution_count": null,
   "id": "7af45776",
   "metadata": {},
   "outputs": [],
   "source": [
    "# adds the column\n",
    "data1.iloc[1:5,[0,1,5]]"
   ]
  },
  {
   "cell_type": "code",
   "execution_count": null,
   "id": "cf5ea2e7",
   "metadata": {},
   "outputs": [],
   "source": [
    "# takes negative indexing\n",
    "data1.iloc[1:5,[0,1,-1]]"
   ]
  },
  {
   "cell_type": "code",
   "execution_count": null,
   "id": "b75add41",
   "metadata": {},
   "outputs": [],
   "source": [
    "# filtering the list whose score is greater than 4\n",
    "data1[data1.iloc[1:5,[0,1,-1]] ['score']<4]"
   ]
  }
 ],
 "metadata": {
  "kernelspec": {
   "display_name": "Python 3",
   "language": "python",
   "name": "python3"
  },
  "language_info": {
   "codemirror_mode": {
    "name": "ipython",
    "version": 3
   },
   "file_extension": ".py",
   "mimetype": "text/x-python",
   "name": "python",
   "nbconvert_exporter": "python",
   "pygments_lexer": "ipython3",
   "version": "3.8.8"
  }
 },
 "nbformat": 4,
 "nbformat_minor": 5
}
