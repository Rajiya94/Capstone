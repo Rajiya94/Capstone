{
 "cells": [
  {
   "cell_type": "code",
   "execution_count": 1,
   "id": "d27a8cb6",
   "metadata": {},
   "outputs": [],
   "source": [
    "from keras.datasets import cifar10\n",
    "from keras.utils import np_utils"
   ]
  },
  {
   "cell_type": "code",
   "execution_count": 2,
   "id": "327d08db",
   "metadata": {},
   "outputs": [],
   "source": [
    "(X_train,y_train),(X_test,y_test)=cifar10.load_data()"
   ]
  },
  {
   "cell_type": "code",
   "execution_count": 3,
   "id": "de8e8e4e",
   "metadata": {},
   "outputs": [
    {
     "name": "stdout",
     "output_type": "stream",
     "text": [
      "X train shape : (50000, 32, 32, 3)\n",
      "y train shape : (50000, 1)\n",
      "X test shape : (10000, 32, 32, 3)\n",
      "y test shape : (10000, 1)\n"
     ]
    }
   ],
   "source": [
    "print(\"X train shape :\",X_train.shape)\n",
    "print(\"y train shape :\",y_train.shape)\n",
    "print(\"X test shape :\",X_test.shape)\n",
    "print(\"y test shape :\",y_test.shape)"
   ]
  },
  {
   "cell_type": "markdown",
   "id": "ecc6cbdd",
   "metadata": {},
   "source": [
    "Before we train a CNN model, lets build a basic fully connected neural network for the dataset. Basic steps to build an image calssification model using neural network\n",
    "1. Flattern the input dimensions to 1D(width pixel x height pixels)\n",
    "2. Normalize the image pixel value (divide by 255)\n",
    "3. One - Hot encode the categorical column\n",
    "4. Build a model architecture (sequential) with Dense layer\n",
    "5. Train the model and make predictions"
   ]
  },
  {
   "cell_type": "code",
   "execution_count": 4,
   "id": "d7fd4b66",
   "metadata": {},
   "outputs": [],
   "source": [
    "# Flattern the input dimensions to 1D(width pixel x height pixels)\n",
    "X_train=X_train.reshape(X_train.shape[0],32,32,3)\n",
    "X_test=X_test.reshape(X_test.shape[0],32,32,3)\n",
    "X_train =X_train.astype('float32')\n",
    "X_test =X_test.astype('float32')"
   ]
  },
  {
   "cell_type": "code",
   "execution_count": 5,
   "id": "730c7c73",
   "metadata": {},
   "outputs": [],
   "source": [
    "# Normalize the image pixel value (divide by 255)\n",
    "X_train=X_train/255\n",
    "X_test=X_test/255"
   ]
  },
  {
   "cell_type": "code",
   "execution_count": 6,
   "id": "0ded0ad4",
   "metadata": {},
   "outputs": [
    {
     "name": "stdout",
     "output_type": "stream",
     "text": [
      "shape of y train : (50000, 10)\n",
      "shape of y test : (10000, 10)\n"
     ]
    }
   ],
   "source": [
    "# One - Hot encode the categorical column\n",
    "n_classes=10\n",
    "y_train=np_utils.to_categorical(y_train,n_classes)\n",
    "y_test=np_utils.to_categorical(y_test,n_classes)\n",
    "print(\"shape of y train :\",y_train.shape)\n",
    "print(\"shape of y test :\",y_test.shape)"
   ]
  },
  {
   "cell_type": "code",
   "execution_count": 7,
   "id": "67658926",
   "metadata": {},
   "outputs": [],
   "source": [
    "# Build a model architecture (sequential) with Dense layer\n",
    "from keras.models import Sequential\n",
    "model = Sequential()"
   ]
  },
  {
   "cell_type": "code",
   "execution_count": 8,
   "id": "b68dcfa4",
   "metadata": {},
   "outputs": [],
   "source": [
    "# add convolution layer ,max pooling layer and the flattening layer\n",
    "from keras.layers import Dense,Conv2D,MaxPool2D,Flatten, Dropout\n",
    "model.add(Conv2D(50,kernel_size=(3,3), strides=(1,1), padding='same' ,activation='relu',input_shape=(32,32,3)))\n",
    "\n",
    "model.add(Conv2D(75,kernel_size=(3,3), strides=(1,1), padding='same' ,activation='relu'))\n",
    "model.add(MaxPool2D(pool_size=(2,2)))\n",
    "model.add(Dropout(0.25))\n",
    "\n",
    "model.add(Conv2D(125,kernel_size=(3,3), strides=(1,1), padding='same' ,activation='relu'))\n",
    "model.add(MaxPool2D(pool_size=(2,2)))\n",
    "model.add(Dropout(0.25))\n",
    "\n",
    "model.add(Flatten())"
   ]
  },
  {
   "cell_type": "code",
   "execution_count": 9,
   "id": "0aec938a",
   "metadata": {},
   "outputs": [
    {
     "name": "stdout",
     "output_type": "stream",
     "text": [
      "Model: \"sequential\"\n",
      "_________________________________________________________________\n",
      "Layer (type)                 Output Shape              Param #   \n",
      "=================================================================\n",
      "conv2d (Conv2D)              (None, 32, 32, 50)        1400      \n",
      "_________________________________________________________________\n",
      "conv2d_1 (Conv2D)            (None, 32, 32, 75)        33825     \n",
      "_________________________________________________________________\n",
      "max_pooling2d (MaxPooling2D) (None, 16, 16, 75)        0         \n",
      "_________________________________________________________________\n",
      "dropout (Dropout)            (None, 16, 16, 75)        0         \n",
      "_________________________________________________________________\n",
      "conv2d_2 (Conv2D)            (None, 16, 16, 125)       84500     \n",
      "_________________________________________________________________\n",
      "max_pooling2d_1 (MaxPooling2 (None, 8, 8, 125)         0         \n",
      "_________________________________________________________________\n",
      "dropout_1 (Dropout)          (None, 8, 8, 125)         0         \n",
      "_________________________________________________________________\n",
      "flatten (Flatten)            (None, 8000)              0         \n",
      "_________________________________________________________________\n",
      "dense (Dense)                (None, 500)               4000500   \n",
      "_________________________________________________________________\n",
      "dropout_2 (Dropout)          (None, 500)               0         \n",
      "_________________________________________________________________\n",
      "dense_1 (Dense)              (None, 250)               125250    \n",
      "_________________________________________________________________\n",
      "dropout_3 (Dropout)          (None, 250)               0         \n",
      "_________________________________________________________________\n",
      "dense_2 (Dense)              (None, 10)                2510      \n",
      "=================================================================\n",
      "Total params: 4,247,985\n",
      "Trainable params: 4,247,985\n",
      "Non-trainable params: 0\n",
      "_________________________________________________________________\n"
     ]
    }
   ],
   "source": [
    "model.add(Dense(500,activation='relu'))\n",
    "model.add(Dropout(0.4))\n",
    "model.add(Dense(250,activation='relu'))\n",
    "model.add(Dropout(0.3))\n",
    "model.add(Dense(10,activation='softmax'))\n",
    "model.summary()"
   ]
  },
  {
   "cell_type": "code",
   "execution_count": 12,
   "id": "b11dc3d8",
   "metadata": {},
   "outputs": [],
   "source": [
    "# compiling the model\n",
    "model.compile(optimizer='adam',loss='categorical_crossentropy',metrics=['accuracy'])"
   ]
  },
  {
   "cell_type": "code",
   "execution_count": 13,
   "id": "ff134168",
   "metadata": {},
   "outputs": [
    {
     "name": "stdout",
     "output_type": "stream",
     "text": [
      "Epoch 1/10\n",
      "98/98 [==============================] - 302s 3s/step - loss: 1.8251 - accuracy: 0.3208 - val_loss: 1.4228 - val_accuracy: 0.4851\n",
      "Epoch 2/10\n",
      "98/98 [==============================] - 232s 2s/step - loss: 1.3619 - accuracy: 0.5050 - val_loss: 1.1406 - val_accuracy: 0.5979\n",
      "Epoch 3/10\n",
      "98/98 [==============================] - 189s 2s/step - loss: 1.1334 - accuracy: 0.5954 - val_loss: 0.9830 - val_accuracy: 0.6519\n",
      "Epoch 4/10\n",
      "98/98 [==============================] - 191s 2s/step - loss: 0.9868 - accuracy: 0.6520 - val_loss: 0.8868 - val_accuracy: 0.6940\n",
      "Epoch 5/10\n",
      "98/98 [==============================] - 203s 2s/step - loss: 0.8822 - accuracy: 0.6905 - val_loss: 0.7936 - val_accuracy: 0.7236\n",
      "Epoch 6/10\n",
      "98/98 [==============================] - 209s 2s/step - loss: 0.7922 - accuracy: 0.7219 - val_loss: 0.7573 - val_accuracy: 0.7363\n",
      "Epoch 7/10\n",
      "98/98 [==============================] - 226s 2s/step - loss: 0.7312 - accuracy: 0.7442 - val_loss: 0.7114 - val_accuracy: 0.7538\n",
      "Epoch 8/10\n",
      "98/98 [==============================] - 222s 2s/step - loss: 0.6725 - accuracy: 0.7650 - val_loss: 0.6914 - val_accuracy: 0.7600\n",
      "Epoch 9/10\n",
      "98/98 [==============================] - 226s 2s/step - loss: 0.6165 - accuracy: 0.7835 - val_loss: 0.7045 - val_accuracy: 0.7575\n",
      "Epoch 10/10\n",
      "98/98 [==============================] - 224s 2s/step - loss: 0.5759 - accuracy: 0.7967 - val_loss: 0.6571 - val_accuracy: 0.7753\n"
     ]
    },
    {
     "data": {
      "text/plain": [
       "<keras.callbacks.History at 0x1d31cbdfa90>"
      ]
     },
     "execution_count": 13,
     "metadata": {},
     "output_type": "execute_result"
    }
   ],
   "source": [
    "# fit the model\n",
    "model.fit(X_train, y_train, batch_size=512,epochs=10,validation_data=(X_test,y_test))"
   ]
  },
  {
   "cell_type": "code",
   "execution_count": null,
   "id": "ab4c0f99",
   "metadata": {},
   "outputs": [],
   "source": []
  }
 ],
 "metadata": {
  "kernelspec": {
   "display_name": "Python 3",
   "language": "python",
   "name": "python3"
  },
  "language_info": {
   "codemirror_mode": {
    "name": "ipython",
    "version": 3
   },
   "file_extension": ".py",
   "mimetype": "text/x-python",
   "name": "python",
   "nbconvert_exporter": "python",
   "pygments_lexer": "ipython3",
   "version": "3.8.8"
  }
 },
 "nbformat": 4,
 "nbformat_minor": 5
}
