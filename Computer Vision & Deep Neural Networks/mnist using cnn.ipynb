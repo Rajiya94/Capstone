{
 "cells": [
  {
   "cell_type": "code",
   "execution_count": 18,
   "id": "7af9ae15",
   "metadata": {},
   "outputs": [],
   "source": [
    "from keras.datasets import mnist\n",
    "from keras.utils import np_utils"
   ]
  },
  {
   "cell_type": "markdown",
   "id": "2768f5e6",
   "metadata": {},
   "source": [
    "we have several layers in Convolution Neural Network\n",
    "1. The convolution layer\n",
    "2. The pooling layer\n",
    "3. Flatten layer\n",
    "4. Output layer\n",
    "\\\n",
    "If background is light and the image is brighter we use min pooling\n",
    "\\\n",
    "If backgroud is dark and the image is lighter we use max pooling\n",
    "\\\n",
    "we also have average pooling which takes average values \n",
    "\\\n",
    "the original 6x6 is converted in to 4x4 after convolution which is converted into 2x2 after pooling layer\n",
    "\\"
   ]
  },
  {
   "cell_type": "code",
   "execution_count": 19,
   "id": "2effefe3",
   "metadata": {},
   "outputs": [],
   "source": [
    "(X_train,y_train),(X_test,y_test)=mnist.load_data()"
   ]
  },
  {
   "cell_type": "code",
   "execution_count": 20,
   "id": "025e0897",
   "metadata": {},
   "outputs": [
    {
     "name": "stdout",
     "output_type": "stream",
     "text": [
      "X train shape : (60000, 28, 28)\n",
      "y train shape : (60000,)\n",
      "X test shape : (10000, 28, 28)\n",
      "y test shape : (10000,)\n"
     ]
    }
   ],
   "source": [
    "print(\"X train shape :\",X_train.shape)\n",
    "print(\"y train shape :\",y_train.shape)\n",
    "print(\"X test shape :\",X_test.shape)\n",
    "print(\"y test shape :\",y_test.shape)"
   ]
  },
  {
   "cell_type": "code",
   "execution_count": 21,
   "id": "b518aed0",
   "metadata": {},
   "outputs": [],
   "source": [
    "# Flattern the input dimensions to 1D(width pixel x height pixels)\n",
    "X_train=X_train.reshape(X_train.shape[0],28,28,1)\n",
    "X_test=X_test.reshape(X_test.shape[0],28,28,1)\n",
    "X_train =X_train.astype('float32')\n",
    "X_test =X_test.astype('float32')"
   ]
  },
  {
   "cell_type": "markdown",
   "id": "6386bc87",
   "metadata": {},
   "source": [
    "Before we train a CNN model, lets build a basic fully connected neural network for the dataset. Basic steps to build an image calssification model using neural network\n",
    "1. Normalize the image pixel value (divide by 255)\n",
    "2. One - Hot encode the categorical column\n",
    "3. Build a model architecture (sequential) with Dense layer\n",
    "4. Train the model and make predictions"
   ]
  },
  {
   "cell_type": "code",
   "execution_count": 22,
   "id": "75bd490b",
   "metadata": {},
   "outputs": [],
   "source": [
    "# Normalize the image pixel value (divide by 255)\n",
    "X_train=X_train/255\n",
    "X_test=X_test/255"
   ]
  },
  {
   "cell_type": "code",
   "execution_count": 23,
   "id": "d593b011",
   "metadata": {},
   "outputs": [
    {
     "name": "stdout",
     "output_type": "stream",
     "text": [
      "shape of y train : (60000, 10)\n",
      "shape of y test : (10000, 10)\n"
     ]
    }
   ],
   "source": [
    "# One - Hot encode the categorical column\n",
    "n_classes=10\n",
    "y_train=np_utils.to_categorical(y_train,n_classes)\n",
    "y_test=np_utils.to_categorical(y_test,n_classes)\n",
    "print(\"shape of y train :\",y_train.shape)\n",
    "print(\"shape of y test :\",y_test.shape)"
   ]
  },
  {
   "cell_type": "code",
   "execution_count": 24,
   "id": "278e675c",
   "metadata": {},
   "outputs": [],
   "source": [
    "# Build a model architecture (sequential) with Dense layer\n",
    "from keras.models import Sequential\n",
    "model = Sequential()"
   ]
  },
  {
   "cell_type": "code",
   "execution_count": 25,
   "id": "b9a38324",
   "metadata": {},
   "outputs": [],
   "source": [
    "# add convolution layer ,max pooling layer and the flattening layer\n",
    "\n",
    "from keras.layers import Dense,Conv2D,MaxPool2D,Flatten,Dropout\n",
    "model.add(Conv2D(25,kernel_size=(3,3), strides=(1,1),padding='valid',input_shape=(28,28,1) ,activation='relu'))\n",
    "model.add(MaxPool2D(pool_size=(2,2)))\n",
    "model.add(Dropout(0.25))\n",
    "model.add(Flatten())"
   ]
  },
  {
   "cell_type": "code",
   "execution_count": 26,
   "id": "816d6404",
   "metadata": {},
   "outputs": [],
   "source": [
    "# adding input and output layers\n",
    "model.add(Dense(100,activation='relu'))\n",
    "model.add(Dense(10,activation='softmax'))"
   ]
  },
  {
   "cell_type": "code",
   "execution_count": 27,
   "id": "3f40f705",
   "metadata": {},
   "outputs": [
    {
     "name": "stdout",
     "output_type": "stream",
     "text": [
      "Model: \"sequential_1\"\n",
      "_________________________________________________________________\n",
      "Layer (type)                 Output Shape              Param #   \n",
      "=================================================================\n",
      "conv2d_3 (Conv2D)            (None, 26, 26, 25)        250       \n",
      "_________________________________________________________________\n",
      "max_pooling2d_1 (MaxPooling2 (None, 13, 13, 25)        0         \n",
      "_________________________________________________________________\n",
      "dropout (Dropout)            (None, 13, 13, 25)        0         \n",
      "_________________________________________________________________\n",
      "flatten_1 (Flatten)          (None, 4225)              0         \n",
      "_________________________________________________________________\n",
      "dense_2 (Dense)              (None, 100)               422600    \n",
      "_________________________________________________________________\n",
      "dense_3 (Dense)              (None, 10)                1010      \n",
      "=================================================================\n",
      "Total params: 423,860\n",
      "Trainable params: 423,860\n",
      "Non-trainable params: 0\n",
      "_________________________________________________________________\n"
     ]
    }
   ],
   "source": [
    "model.summary()"
   ]
  },
  {
   "cell_type": "code",
   "execution_count": 32,
   "id": "c2e5a99d",
   "metadata": {},
   "outputs": [],
   "source": [
    "# compiling the model\n",
    "model.compile(optimizer='adam',loss='categorical_crossentropy',metrics=['accuracy'])"
   ]
  },
  {
   "cell_type": "code",
   "execution_count": 33,
   "id": "c4e1da17",
   "metadata": {},
   "outputs": [
    {
     "name": "stdout",
     "output_type": "stream",
     "text": [
      "Epoch 1/10\n",
      "469/469 [==============================] - 35s 69ms/step - loss: 0.0185 - accuracy: 0.9940 - val_loss: 0.0376 - val_accuracy: 0.9879\n",
      "Epoch 2/10\n",
      "469/469 [==============================] - 28s 61ms/step - loss: 0.0158 - accuracy: 0.9945 - val_loss: 0.0383 - val_accuracy: 0.9876\n",
      "Epoch 3/10\n",
      "469/469 [==============================] - 30s 63ms/step - loss: 0.0142 - accuracy: 0.9952 - val_loss: 0.0380 - val_accuracy: 0.9878\n",
      "Epoch 4/10\n",
      "469/469 [==============================] - 28s 60ms/step - loss: 0.0119 - accuracy: 0.9960 - val_loss: 0.0410 - val_accuracy: 0.9871\n",
      "Epoch 5/10\n",
      "469/469 [==============================] - 28s 60ms/step - loss: 0.0102 - accuracy: 0.9966 - val_loss: 0.0394 - val_accuracy: 0.9880\n",
      "Epoch 6/10\n",
      "469/469 [==============================] - 28s 61ms/step - loss: 0.0093 - accuracy: 0.9971 - val_loss: 0.0384 - val_accuracy: 0.9883\n",
      "Epoch 7/10\n",
      "469/469 [==============================] - 28s 60ms/step - loss: 0.0081 - accuracy: 0.9972 - val_loss: 0.0463 - val_accuracy: 0.9859\n",
      "Epoch 8/10\n",
      "469/469 [==============================] - 29s 61ms/step - loss: 0.0079 - accuracy: 0.9973 - val_loss: 0.0433 - val_accuracy: 0.9869\n",
      "Epoch 9/10\n",
      "469/469 [==============================] - 28s 61ms/step - loss: 0.0070 - accuracy: 0.9977 - val_loss: 0.0394 - val_accuracy: 0.9869\n",
      "Epoch 10/10\n",
      "469/469 [==============================] - 30s 63ms/step - loss: 0.0065 - accuracy: 0.9979 - val_loss: 0.0420 - val_accuracy: 0.9886\n"
     ]
    },
    {
     "data": {
      "text/plain": [
       "<keras.callbacks.History at 0x269bc146850>"
      ]
     },
     "execution_count": 33,
     "metadata": {},
     "output_type": "execute_result"
    }
   ],
   "source": [
    "# fit the model\n",
    "model.fit(X_train,y_train, batch_size=128, epochs=10, validation_data=(X_test,y_test))"
   ]
  },
  {
   "cell_type": "code",
   "execution_count": null,
   "id": "01526a2a",
   "metadata": {},
   "outputs": [],
   "source": []
  },
  {
   "cell_type": "code",
   "execution_count": null,
   "id": "8bc5902d",
   "metadata": {},
   "outputs": [],
   "source": []
  },
  {
   "cell_type": "code",
   "execution_count": null,
   "id": "b1552d2e",
   "metadata": {},
   "outputs": [],
   "source": []
  }
 ],
 "metadata": {
  "kernelspec": {
   "display_name": "Python 3",
   "language": "python",
   "name": "python3"
  },
  "language_info": {
   "codemirror_mode": {
    "name": "ipython",
    "version": 3
   },
   "file_extension": ".py",
   "mimetype": "text/x-python",
   "name": "python",
   "nbconvert_exporter": "python",
   "pygments_lexer": "ipython3",
   "version": "3.8.8"
  }
 },
 "nbformat": 4,
 "nbformat_minor": 5
}
