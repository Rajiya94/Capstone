{
 "cells": [
  {
   "cell_type": "markdown",
   "id": "bd9c2795",
   "metadata": {},
   "source": [
    "http://cse19-iiith.vlabs.ac.in/theory.php?exp=morph"
   ]
  },
  {
   "cell_type": "code",
   "execution_count": 1,
   "id": "d27a8cb6",
   "metadata": {},
   "outputs": [],
   "source": [
    "from keras.datasets import mnist\n",
    "from keras.utils import np_utils"
   ]
  },
  {
   "cell_type": "code",
   "execution_count": 2,
   "id": "327d08db",
   "metadata": {},
   "outputs": [],
   "source": [
    "(X_train,y_train),(X_test,y_test)=mnist.load_data()"
   ]
  },
  {
   "cell_type": "code",
   "execution_count": 3,
   "id": "de8e8e4e",
   "metadata": {},
   "outputs": [
    {
     "name": "stdout",
     "output_type": "stream",
     "text": [
      "X train shape : (60000, 28, 28)\n",
      "y train shape : (60000,)\n",
      "X test shape : (10000, 28, 28)\n",
      "y test shape : (10000,)\n"
     ]
    }
   ],
   "source": [
    "print(\"X train shape :\",X_train.shape)\n",
    "print(\"y train shape :\",y_train.shape)\n",
    "print(\"X test shape :\",X_test.shape)\n",
    "print(\"y test shape :\",y_test.shape)"
   ]
  },
  {
   "cell_type": "markdown",
   "id": "ecc6cbdd",
   "metadata": {},
   "source": [
    "Before we train a CNN model, lets build a basic fully connected neural network for the dataset. Basic steps to build an image calssification model using neural network\n",
    "1. Flattern the input dimensions to 1D(width pixel x height pixels)\n",
    "2. Normalize the image pixel value (divide by 255)\n",
    "3. One - Hot encode the categorical column\n",
    "4. Build a model architecture (sequential) with Dense layer\n",
    "5. Train the model and make predictions"
   ]
  },
  {
   "cell_type": "code",
   "execution_count": 4,
   "id": "d7fd4b66",
   "metadata": {},
   "outputs": [],
   "source": [
    "# Flattern the input dimensions to 1D(width pixel x height pixels)\n",
    "X_train=X_train.reshape(60000,784)\n",
    "X_test=X_test.reshape(10000,784)\n",
    "X_train =X_train.astype('float32')\n",
    "X_test =X_test.astype('float32')"
   ]
  },
  {
   "cell_type": "code",
   "execution_count": 5,
   "id": "730c7c73",
   "metadata": {},
   "outputs": [],
   "source": [
    "# Normalize the image pixel value (divide by 255)\n",
    "X_train=X_train/255\n",
    "X_test=X_test/255"
   ]
  },
  {
   "cell_type": "code",
   "execution_count": 6,
   "id": "0ded0ad4",
   "metadata": {},
   "outputs": [
    {
     "name": "stdout",
     "output_type": "stream",
     "text": [
      "shape of y train : (60000, 10)\n",
      "shape of y test : (10000, 10)\n"
     ]
    }
   ],
   "source": [
    "# One - Hot encode the categorical column\n",
    "n_classes=10\n",
    "y_train=np_utils.to_categorical(y_train,n_classes)\n",
    "y_test=np_utils.to_categorical(y_test,n_classes)\n",
    "print(\"shape of y train :\",y_train.shape)\n",
    "print(\"shape of y test :\",y_test.shape)"
   ]
  },
  {
   "cell_type": "code",
   "execution_count": 7,
   "id": "bd9438ba",
   "metadata": {},
   "outputs": [
    {
     "data": {
      "text/plain": [
       "array([[0., 0., 0., 0., 0., 1., 0., 0., 0., 0.],\n",
       "       [1., 0., 0., 0., 0., 0., 0., 0., 0., 0.],\n",
       "       [0., 0., 0., 0., 1., 0., 0., 0., 0., 0.],\n",
       "       [0., 1., 0., 0., 0., 0., 0., 0., 0., 0.],\n",
       "       [0., 0., 0., 0., 0., 0., 0., 0., 0., 1.],\n",
       "       [0., 0., 1., 0., 0., 0., 0., 0., 0., 0.],\n",
       "       [0., 1., 0., 0., 0., 0., 0., 0., 0., 0.],\n",
       "       [0., 0., 0., 1., 0., 0., 0., 0., 0., 0.],\n",
       "       [0., 1., 0., 0., 0., 0., 0., 0., 0., 0.],\n",
       "       [0., 0., 0., 0., 1., 0., 0., 0., 0., 0.]], dtype=float32)"
      ]
     },
     "execution_count": 7,
     "metadata": {},
     "output_type": "execute_result"
    }
   ],
   "source": [
    "y_train[:10]"
   ]
  },
  {
   "cell_type": "code",
   "execution_count": 8,
   "id": "175e99a3",
   "metadata": {},
   "outputs": [
    {
     "data": {
      "text/plain": [
       "array([[0., 0., 0., 0., 0., 0., 0., 1., 0., 0.],\n",
       "       [0., 0., 1., 0., 0., 0., 0., 0., 0., 0.],\n",
       "       [0., 1., 0., 0., 0., 0., 0., 0., 0., 0.],\n",
       "       [1., 0., 0., 0., 0., 0., 0., 0., 0., 0.],\n",
       "       [0., 0., 0., 0., 1., 0., 0., 0., 0., 0.],\n",
       "       [0., 1., 0., 0., 0., 0., 0., 0., 0., 0.],\n",
       "       [0., 0., 0., 0., 1., 0., 0., 0., 0., 0.],\n",
       "       [0., 0., 0., 0., 0., 0., 0., 0., 0., 1.],\n",
       "       [0., 0., 0., 0., 0., 1., 0., 0., 0., 0.],\n",
       "       [0., 0., 0., 0., 0., 0., 0., 0., 0., 1.]], dtype=float32)"
      ]
     },
     "execution_count": 8,
     "metadata": {},
     "output_type": "execute_result"
    }
   ],
   "source": [
    "y_test[:10]"
   ]
  },
  {
   "cell_type": "code",
   "execution_count": 9,
   "id": "67658926",
   "metadata": {},
   "outputs": [],
   "source": [
    "# Build a model architecture (sequential) with Dense layer\n",
    "from keras.models import Sequential\n",
    "model = Sequential()"
   ]
  },
  {
   "cell_type": "code",
   "execution_count": 10,
   "id": "b68dcfa4",
   "metadata": {},
   "outputs": [
    {
     "name": "stdout",
     "output_type": "stream",
     "text": [
      "Model: \"sequential\"\n",
      "_________________________________________________________________\n",
      "Layer (type)                 Output Shape              Param #   \n",
      "=================================================================\n",
      "dense (Dense)                (None, 100)               78500     \n",
      "_________________________________________________________________\n",
      "dense_1 (Dense)              (None, 10)                1010      \n",
      "=================================================================\n",
      "Total params: 79,510\n",
      "Trainable params: 79,510\n",
      "Non-trainable params: 0\n",
      "_________________________________________________________________\n"
     ]
    }
   ],
   "source": [
    "# adding input and hidden layers\n",
    "from keras.layers import Dense\n",
    "model.add(Dense(100,input_shape=(784,),activation='relu'))\n",
    "model.add(Dense(10,activation='softmax'))\n",
    "model.summary()"
   ]
  },
  {
   "cell_type": "code",
   "execution_count": 13,
   "id": "b11dc3d8",
   "metadata": {},
   "outputs": [],
   "source": [
    "# compiling the model\n",
    "model.compile(optimizer='adam',loss='categorical_crossentropy',metrics=['accuracy'])"
   ]
  },
  {
   "cell_type": "code",
   "execution_count": 14,
   "id": "ff134168",
   "metadata": {},
   "outputs": [
    {
     "name": "stdout",
     "output_type": "stream",
     "text": [
      "Epoch 1/10\n",
      "469/469 [==============================] - 5s 7ms/step - loss: 0.3865 - accuracy: 0.8936 - val_loss: 0.2075 - val_accuracy: 0.9401\n",
      "Epoch 2/10\n",
      "469/469 [==============================] - 2s 5ms/step - loss: 0.1806 - accuracy: 0.9483 - val_loss: 0.1508 - val_accuracy: 0.9563\n",
      "Epoch 3/10\n",
      "469/469 [==============================] - 3s 5ms/step - loss: 0.1306 - accuracy: 0.9624 - val_loss: 0.1231 - val_accuracy: 0.9633\n",
      "Epoch 4/10\n",
      "469/469 [==============================] - 3s 6ms/step - loss: 0.1031 - accuracy: 0.9707 - val_loss: 0.1075 - val_accuracy: 0.9691\n",
      "Epoch 5/10\n",
      "469/469 [==============================] - 2s 5ms/step - loss: 0.0848 - accuracy: 0.9754 - val_loss: 0.0942 - val_accuracy: 0.9726\n",
      "Epoch 6/10\n",
      "469/469 [==============================] - 2s 5ms/step - loss: 0.0705 - accuracy: 0.9793 - val_loss: 0.0906 - val_accuracy: 0.9724\n",
      "Epoch 7/10\n",
      "469/469 [==============================] - 3s 6ms/step - loss: 0.0601 - accuracy: 0.9827 - val_loss: 0.0861 - val_accuracy: 0.9743\n",
      "Epoch 8/10\n",
      "469/469 [==============================] - 4s 8ms/step - loss: 0.0515 - accuracy: 0.9853 - val_loss: 0.0813 - val_accuracy: 0.9747\n",
      "Epoch 9/10\n",
      "469/469 [==============================] - 4s 9ms/step - loss: 0.0449 - accuracy: 0.9876 - val_loss: 0.0773 - val_accuracy: 0.9756\n",
      "Epoch 10/10\n",
      "469/469 [==============================] - 4s 9ms/step - loss: 0.0389 - accuracy: 0.9890 - val_loss: 0.0779 - val_accuracy: 0.9765\n"
     ]
    },
    {
     "data": {
      "text/plain": [
       "<keras.callbacks.History at 0x1950602aa30>"
      ]
     },
     "execution_count": 14,
     "metadata": {},
     "output_type": "execute_result"
    }
   ],
   "source": [
    "# fit the model\n",
    "model.fit(X_train, y_train, epochs=10, batch_size=128, validation_data=(X_test,y_test))"
   ]
  },
  {
   "cell_type": "code",
   "execution_count": null,
   "id": "ab4c0f99",
   "metadata": {},
   "outputs": [],
   "source": []
  }
 ],
 "metadata": {
  "kernelspec": {
   "display_name": "Python 3",
   "language": "python",
   "name": "python3"
  },
  "language_info": {
   "codemirror_mode": {
    "name": "ipython",
    "version": 3
   },
   "file_extension": ".py",
   "mimetype": "text/x-python",
   "name": "python",
   "nbconvert_exporter": "python",
   "pygments_lexer": "ipython3",
   "version": "3.8.8"
  }
 },
 "nbformat": 4,
 "nbformat_minor": 5
}
