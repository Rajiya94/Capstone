{
 "cells": [
  {
   "cell_type": "code",
   "execution_count": 1,
   "id": "edf8020a",
   "metadata": {},
   "outputs": [],
   "source": [
    "from keras.datasets import mnist\n",
    "from keras.utils import np_utils"
   ]
  },
  {
   "cell_type": "code",
   "execution_count": 2,
   "id": "0cdcf413",
   "metadata": {},
   "outputs": [
    {
     "name": "stdout",
     "output_type": "stream",
     "text": [
      "Xtrain shape:  (60000, 28, 28)\n",
      "Ytrain shape:  (60000,)\n",
      "Xtest shape:  (10000, 28, 28)\n",
      "Ytest shape:  (10000,)\n"
     ]
    }
   ],
   "source": [
    "# loading the dataset\n",
    "(X_train,y_train),(X_test,y_test) = mnist.load_data()\n",
    "print(\"Xtrain shape: \",X_train.shape)\n",
    "print(\"Ytrain shape: \",y_train.shape)\n",
    "print(\"Xtest shape: \",X_test.shape)\n",
    "print(\"Ytest shape: \",y_test.shape)"
   ]
  },
  {
   "cell_type": "markdown",
   "id": "40ad5640",
   "metadata": {},
   "source": [
    " "
   ]
  },
  {
   "cell_type": "code",
   "execution_count": 3,
   "id": "ddc7a9d6",
   "metadata": {},
   "outputs": [],
   "source": [
    "X_train = X_train.reshape(X_train.shape[0],28,28,1)\n",
    "X_test = X_test.reshape(X_test.shape[0],28,28,1)\n",
    "X_train = X_train.astype('float32')\n",
    "X_test = X_test.astype('float32')"
   ]
  },
  {
   "cell_type": "markdown",
   "id": "ad8e73de",
   "metadata": {},
   "source": [
    "2. Normalize the image pixel values (divide by 255)"
   ]
  },
  {
   "cell_type": "code",
   "execution_count": 4,
   "id": "c39a303c",
   "metadata": {},
   "outputs": [],
   "source": [
    "X_train = X_train/255\n",
    "X_test = X_test/255"
   ]
  },
  {
   "cell_type": "markdown",
   "id": "22b02d24",
   "metadata": {},
   "source": [
    "3. One-Hot Encode the categorical column"
   ]
  },
  {
   "cell_type": "code",
   "execution_count": 5,
   "id": "eff5d514",
   "metadata": {},
   "outputs": [
    {
     "name": "stdout",
     "output_type": "stream",
     "text": [
      "(60000, 10)\n",
      "(10000, 10)\n"
     ]
    }
   ],
   "source": [
    "n_classes = 10\n",
    "y_train = np_utils.to_categorical(y_train,n_classes)\n",
    "y_test = np_utils.to_categorical(y_test,n_classes)\n",
    "print(y_train.shape)\n",
    "print(y_test.shape)"
   ]
  },
  {
   "cell_type": "code",
   "execution_count": 6,
   "id": "f86c394f",
   "metadata": {},
   "outputs": [
    {
     "data": {
      "text/plain": [
       "array([[0., 0., 0., 0., 0., 1., 0., 0., 0., 0.],\n",
       "       [1., 0., 0., 0., 0., 0., 0., 0., 0., 0.],\n",
       "       [0., 0., 0., 0., 1., 0., 0., 0., 0., 0.],\n",
       "       [0., 1., 0., 0., 0., 0., 0., 0., 0., 0.],\n",
       "       [0., 0., 0., 0., 0., 0., 0., 0., 0., 1.]], dtype=float32)"
      ]
     },
     "execution_count": 6,
     "metadata": {},
     "output_type": "execute_result"
    }
   ],
   "source": [
    "y_train[:5]"
   ]
  },
  {
   "cell_type": "markdown",
   "id": "3df3fa69",
   "metadata": {},
   "source": [
    "4. Build a model architecture (Sequential) with Dense layers"
   ]
  },
  {
   "cell_type": "code",
   "execution_count": 7,
   "id": "72d35383",
   "metadata": {},
   "outputs": [],
   "source": [
    "from keras.models import Sequential\n",
    "model = Sequential()"
   ]
  },
  {
   "cell_type": "markdown",
   "id": "d32d9c17",
   "metadata": {},
   "source": [
    "Add Convolution Layer , Max Poling Layer and Flattening Layer"
   ]
  },
  {
   "cell_type": "code",
   "execution_count": 8,
   "id": "45efbbfb",
   "metadata": {},
   "outputs": [],
   "source": [
    "from keras.layers import Dense, Conv2D, MaxPool2D, Flatten,Dropout\n",
    "model.add(Conv2D(25,kernel_size=(3,3),strides=(1,1),padding='valid',activation='relu',input_shape = (28,28,1)))\n",
    "model.add(MaxPool2D(pool_size=(2,2)))\n",
    "model.add(Dropout(0.25))\n",
    "model.add(Flatten())"
   ]
  },
  {
   "cell_type": "code",
   "execution_count": 9,
   "id": "5789833b",
   "metadata": {},
   "outputs": [],
   "source": [
    "model.add(Dense(100,activation='relu'))\n",
    "model.add(Dense(10,activation = 'softmax'))"
   ]
  },
  {
   "cell_type": "code",
   "execution_count": 10,
   "id": "93166641",
   "metadata": {},
   "outputs": [
    {
     "name": "stdout",
     "output_type": "stream",
     "text": [
      "Model: \"sequential\"\n",
      "_________________________________________________________________\n",
      "Layer (type)                 Output Shape              Param #   \n",
      "=================================================================\n",
      "conv2d (Conv2D)              (None, 26, 26, 25)        250       \n",
      "_________________________________________________________________\n",
      "max_pooling2d (MaxPooling2D) (None, 13, 13, 25)        0         \n",
      "_________________________________________________________________\n",
      "dropout (Dropout)            (None, 13, 13, 25)        0         \n",
      "_________________________________________________________________\n",
      "flatten (Flatten)            (None, 4225)              0         \n",
      "_________________________________________________________________\n",
      "dense (Dense)                (None, 100)               422600    \n",
      "_________________________________________________________________\n",
      "dense_1 (Dense)              (None, 10)                1010      \n",
      "=================================================================\n",
      "Total params: 423,860\n",
      "Trainable params: 423,860\n",
      "Non-trainable params: 0\n",
      "_________________________________________________________________\n"
     ]
    }
   ],
   "source": [
    "model.summary()"
   ]
  },
  {
   "cell_type": "code",
   "execution_count": 11,
   "id": "53230906",
   "metadata": {},
   "outputs": [],
   "source": [
    "model.compile(optimizer='adam',loss='categorical_crossentropy',metrics=['accuracy'])"
   ]
  },
  {
   "cell_type": "markdown",
   "id": "3fca3a17",
   "metadata": {},
   "source": [
    "5. Train the model and make predictions"
   ]
  },
  {
   "cell_type": "code",
   "execution_count": 12,
   "id": "3981be5a",
   "metadata": {},
   "outputs": [
    {
     "name": "stdout",
     "output_type": "stream",
     "text": [
      "Epoch 1/10\n",
      "469/469 [==============================] - 15s 31ms/step - loss: 0.2595 - accuracy: 0.9261 - val_loss: 0.0987 - val_accuracy: 0.9699\n",
      "Epoch 2/10\n",
      "469/469 [==============================] - 14s 30ms/step - loss: 0.0898 - accuracy: 0.9726 - val_loss: 0.0672 - val_accuracy: 0.9792\n",
      "Epoch 3/10\n",
      "469/469 [==============================] - 14s 29ms/step - loss: 0.0631 - accuracy: 0.9809 - val_loss: 0.0490 - val_accuracy: 0.9840\n",
      "Epoch 4/10\n",
      "469/469 [==============================] - 13s 28ms/step - loss: 0.0500 - accuracy: 0.9843 - val_loss: 0.0506 - val_accuracy: 0.9828\n",
      "Epoch 5/10\n",
      "469/469 [==============================] - 14s 29ms/step - loss: 0.0405 - accuracy: 0.9871 - val_loss: 0.0406 - val_accuracy: 0.9862\n",
      "Epoch 6/10\n",
      "469/469 [==============================] - 14s 29ms/step - loss: 0.0333 - accuracy: 0.9896 - val_loss: 0.0387 - val_accuracy: 0.9864\n",
      "Epoch 7/10\n",
      "469/469 [==============================] - 13s 28ms/step - loss: 0.0289 - accuracy: 0.9909 - val_loss: 0.0378 - val_accuracy: 0.9870\n",
      "Epoch 8/10\n",
      "469/469 [==============================] - 13s 27ms/step - loss: 0.0237 - accuracy: 0.9924 - val_loss: 0.0378 - val_accuracy: 0.9869\n",
      "Epoch 9/10\n",
      "469/469 [==============================] - 12s 26ms/step - loss: 0.0213 - accuracy: 0.9930 - val_loss: 0.0377 - val_accuracy: 0.9876\n",
      "Epoch 10/10\n",
      "469/469 [==============================] - 12s 26ms/step - loss: 0.0178 - accuracy: 0.9944 - val_loss: 0.0419 - val_accuracy: 0.9866\n"
     ]
    },
    {
     "data": {
      "text/plain": [
       "<keras.callbacks.History at 0x2300364d460>"
      ]
     },
     "execution_count": 12,
     "metadata": {},
     "output_type": "execute_result"
    }
   ],
   "source": [
    "model.fit(X_train,y_train, batch_size=128, epochs=10, validation_data=(X_test,y_test))"
   ]
  },
  {
   "cell_type": "code",
   "execution_count": null,
   "id": "c1145681",
   "metadata": {},
   "outputs": [],
   "source": []
  },
  {
   "cell_type": "code",
   "execution_count": null,
   "id": "b3163510",
   "metadata": {},
   "outputs": [],
   "source": []
  },
  {
   "cell_type": "code",
   "execution_count": null,
   "id": "9e88ae9e",
   "metadata": {},
   "outputs": [],
   "source": []
  },
  {
   "cell_type": "code",
   "execution_count": null,
   "id": "e39802a7",
   "metadata": {},
   "outputs": [],
   "source": []
  }
 ],
 "metadata": {
  "kernelspec": {
   "display_name": "Python 3",
   "language": "python",
   "name": "python3"
  },
  "language_info": {
   "codemirror_mode": {
    "name": "ipython",
    "version": 3
   },
   "file_extension": ".py",
   "mimetype": "text/x-python",
   "name": "python",
   "nbconvert_exporter": "python",
   "pygments_lexer": "ipython3",
   "version": "3.8.8"
  }
 },
 "nbformat": 4,
 "nbformat_minor": 5
}
