{
 "cells": [
  {
   "cell_type": "code",
   "execution_count": 52,
   "id": "240dd3f2",
   "metadata": {},
   "outputs": [],
   "source": [
    "import numpy as np\n",
    "import pandas as pd\n",
    "import warnings\n",
    "warnings.filterwarnings('ignore')\n",
    "df=pd.read_csv('seeds.csv')"
   ]
  },
  {
   "cell_type": "code",
   "execution_count": 53,
   "id": "9f410bff",
   "metadata": {},
   "outputs": [
    {
     "data": {
      "text/html": [
       "<div>\n",
       "<style scoped>\n",
       "    .dataframe tbody tr th:only-of-type {\n",
       "        vertical-align: middle;\n",
       "    }\n",
       "\n",
       "    .dataframe tbody tr th {\n",
       "        vertical-align: top;\n",
       "    }\n",
       "\n",
       "    .dataframe thead th {\n",
       "        text-align: right;\n",
       "    }\n",
       "</style>\n",
       "<table border=\"1\" class=\"dataframe\">\n",
       "  <thead>\n",
       "    <tr style=\"text-align: right;\">\n",
       "      <th></th>\n",
       "      <th>Area</th>\n",
       "      <th>Perimeter</th>\n",
       "      <th>Compactness</th>\n",
       "      <th>Kernel.Length</th>\n",
       "      <th>Kernel.Width</th>\n",
       "      <th>Asymmetry.Coeff</th>\n",
       "      <th>Kernel.Groove</th>\n",
       "      <th>Type</th>\n",
       "    </tr>\n",
       "  </thead>\n",
       "  <tbody>\n",
       "    <tr>\n",
       "      <th>0</th>\n",
       "      <td>15.26</td>\n",
       "      <td>14.84</td>\n",
       "      <td>0.8710</td>\n",
       "      <td>5.763</td>\n",
       "      <td>3.312</td>\n",
       "      <td>2.221</td>\n",
       "      <td>5.220</td>\n",
       "      <td>1</td>\n",
       "    </tr>\n",
       "    <tr>\n",
       "      <th>1</th>\n",
       "      <td>14.88</td>\n",
       "      <td>14.57</td>\n",
       "      <td>0.8811</td>\n",
       "      <td>5.554</td>\n",
       "      <td>3.333</td>\n",
       "      <td>1.018</td>\n",
       "      <td>4.956</td>\n",
       "      <td>1</td>\n",
       "    </tr>\n",
       "    <tr>\n",
       "      <th>2</th>\n",
       "      <td>14.29</td>\n",
       "      <td>14.09</td>\n",
       "      <td>0.9050</td>\n",
       "      <td>5.291</td>\n",
       "      <td>3.337</td>\n",
       "      <td>2.699</td>\n",
       "      <td>4.825</td>\n",
       "      <td>1</td>\n",
       "    </tr>\n",
       "    <tr>\n",
       "      <th>3</th>\n",
       "      <td>13.84</td>\n",
       "      <td>13.94</td>\n",
       "      <td>0.8955</td>\n",
       "      <td>5.324</td>\n",
       "      <td>3.379</td>\n",
       "      <td>2.259</td>\n",
       "      <td>4.805</td>\n",
       "      <td>1</td>\n",
       "    </tr>\n",
       "    <tr>\n",
       "      <th>4</th>\n",
       "      <td>16.14</td>\n",
       "      <td>14.99</td>\n",
       "      <td>0.9034</td>\n",
       "      <td>5.658</td>\n",
       "      <td>3.562</td>\n",
       "      <td>1.355</td>\n",
       "      <td>5.175</td>\n",
       "      <td>1</td>\n",
       "    </tr>\n",
       "  </tbody>\n",
       "</table>\n",
       "</div>"
      ],
      "text/plain": [
       "    Area  Perimeter  Compactness  Kernel.Length  Kernel.Width  \\\n",
       "0  15.26      14.84       0.8710          5.763         3.312   \n",
       "1  14.88      14.57       0.8811          5.554         3.333   \n",
       "2  14.29      14.09       0.9050          5.291         3.337   \n",
       "3  13.84      13.94       0.8955          5.324         3.379   \n",
       "4  16.14      14.99       0.9034          5.658         3.562   \n",
       "\n",
       "   Asymmetry.Coeff  Kernel.Groove  Type  \n",
       "0            2.221          5.220     1  \n",
       "1            1.018          4.956     1  \n",
       "2            2.699          4.825     1  \n",
       "3            2.259          4.805     1  \n",
       "4            1.355          5.175     1  "
      ]
     },
     "execution_count": 53,
     "metadata": {},
     "output_type": "execute_result"
    }
   ],
   "source": [
    "df.head()"
   ]
  },
  {
   "cell_type": "code",
   "execution_count": 54,
   "id": "ac6bfb00",
   "metadata": {},
   "outputs": [
    {
     "data": {
      "text/plain": [
       "Area               0\n",
       "Perimeter          0\n",
       "Compactness        0\n",
       "Kernel.Length      0\n",
       "Kernel.Width       0\n",
       "Asymmetry.Coeff    0\n",
       "Kernel.Groove      0\n",
       "Type               0\n",
       "dtype: int64"
      ]
     },
     "execution_count": 54,
     "metadata": {},
     "output_type": "execute_result"
    }
   ],
   "source": [
    "df.isnull().sum()"
   ]
  },
  {
   "cell_type": "code",
   "execution_count": 55,
   "id": "5db9bbc3",
   "metadata": {},
   "outputs": [],
   "source": [
    "X=df.iloc[:,1:-1].values\n",
    "y=df.iloc[:,-1].values"
   ]
  },
  {
   "cell_type": "code",
   "execution_count": 56,
   "id": "25d4ecd7",
   "metadata": {},
   "outputs": [
    {
     "data": {
      "text/plain": [
       "(199, 6)"
      ]
     },
     "execution_count": 56,
     "metadata": {},
     "output_type": "execute_result"
    }
   ],
   "source": [
    "X.shape"
   ]
  },
  {
   "cell_type": "code",
   "execution_count": 57,
   "id": "12a9d8df",
   "metadata": {},
   "outputs": [
    {
     "data": {
      "text/plain": [
       "(199,)"
      ]
     },
     "execution_count": 57,
     "metadata": {},
     "output_type": "execute_result"
    }
   ],
   "source": [
    "y.shape"
   ]
  },
  {
   "cell_type": "code",
   "execution_count": 58,
   "id": "80f6e652",
   "metadata": {},
   "outputs": [],
   "source": [
    "def sigmoid(x):\n",
    "    return 1/(1+np.exp(-x))"
   ]
  },
  {
   "cell_type": "code",
   "execution_count": 59,
   "id": "daf3b19d",
   "metadata": {},
   "outputs": [],
   "source": [
    "def derivatives_sigmoid(x):\n",
    "    return x*(1-x)"
   ]
  },
  {
   "cell_type": "code",
   "execution_count": 60,
   "id": "d3459d11",
   "metadata": {},
   "outputs": [],
   "source": [
    "epoch=500\n",
    "lr=0.1\n",
    "inputlayer_neurons=6\n",
    "outputlayer_neurons=199\n",
    "hiddenlayer_neurons=int(2/3*inputlayer_neurons+outputlayer_neurons)"
   ]
  },
  {
   "cell_type": "code",
   "execution_count": 61,
   "id": "82116aa6",
   "metadata": {},
   "outputs": [
    {
     "name": "stdout",
     "output_type": "stream",
     "text": [
      "[[0.58759181 0.01948687 0.83213617 ... 0.29568741 0.29931978 0.43032071]\n",
      " [0.64466196 0.81618585 0.8168055  ... 0.53887667 0.87762205 0.18423274]\n",
      " [0.9196851  0.87813722 0.75599287 ... 0.50234442 0.54092057 0.07525814]\n",
      " [0.12842677 0.26418404 0.50076967 ... 0.70411801 0.73217216 0.87333184]\n",
      " [0.19289634 0.38132001 0.93241202 ... 0.99596015 0.64463199 0.84816455]\n",
      " [0.76650711 0.36612554 0.39245139 ... 0.2363903  0.93521467 0.46254616]] [[0.49638493 0.63017682 0.51526491 0.25062923 0.83788218 0.2431603\n",
      "  0.01995217 0.55034003 0.48462325 0.37166842 0.98404579 0.25683719\n",
      "  0.44714696 0.79535871 0.65352387 0.19569171 0.93141627 0.6427701\n",
      "  0.28232004 0.78960226 0.32354253 0.36109295 0.95391703 0.99702251\n",
      "  0.28616908 0.31345185 0.52325053 0.67498676 0.34595428 0.55099357\n",
      "  0.23245995 0.75106952 0.34130282 0.18160318 0.58023929 0.58503749\n",
      "  0.67485123 0.68493541 0.66079426 0.80026114 0.32297332 0.00360069\n",
      "  0.99188684 0.79116421 0.77678131 0.30969472 0.50524313 0.26971716\n",
      "  0.88069845 0.09448396 0.21613798 0.95282045 0.04076552 0.74561175\n",
      "  0.85618342 0.56498882 0.5839609  0.59756208 0.53857347 0.32303084\n",
      "  0.49465164 0.4456543  0.8631994  0.4132618  0.98679925 0.89244323\n",
      "  0.35613477 0.5095981  0.17701748 0.16209912 0.21538571 0.53492143\n",
      "  0.76366541 0.4610036  0.21682915 0.84816746 0.92961684 0.87574826\n",
      "  0.28627257 0.74860608 0.47448731 0.12718798 0.43059776 0.59733556\n",
      "  0.08713674 0.06521456 0.01098273 0.43728632 0.96389382 0.99933491\n",
      "  0.71976215 0.68353096 0.9603626  0.98027508 0.28124191 0.02663212\n",
      "  0.00206497 0.87451209 0.77996822 0.81740603 0.20587283 0.00196899\n",
      "  0.35517601 0.64217518 0.11401381 0.85861618 0.17053143 0.22455042\n",
      "  0.25046907 0.04005798 0.69694667 0.27288536 0.65879937 0.03610486\n",
      "  0.79235553 0.04848825 0.50535811 0.81749428 0.58931935 0.90132722\n",
      "  0.44418006 0.97171604 0.13772661 0.54913563 0.99211022 0.94683744\n",
      "  0.48094486 0.82911836 0.31065081 0.18663639 0.40911752 0.42961259\n",
      "  0.95168603 0.39247769 0.53421011 0.96228747 0.26048891 0.53216721\n",
      "  0.01229885 0.57549938 0.30177906 0.69981852 0.31051341 0.75929656\n",
      "  0.5590239  0.76570814 0.3960458  0.76327353 0.0627768  0.05503468\n",
      "  0.10823536 0.87403851 0.21665156 0.44741767 0.31414148 0.7013487\n",
      "  0.82959807 0.58256808 0.39916251 0.22681202 0.30033861 0.18000217\n",
      "  0.07127709 0.3135261  0.20897664 0.4702016  0.57366479 0.68802682\n",
      "  0.21940853 0.25947479 0.39525129 0.78068143 0.37398382 0.54783029\n",
      "  0.72811539 0.30995241 0.35215163 0.25590414 0.50341987 0.04513592\n",
      "  0.81051444 0.01447102 0.37233003 0.31448956 0.41451543 0.25599854\n",
      "  0.03640789 0.87677382 0.85794345 0.11956264 0.78769815 0.46932224\n",
      "  0.92820674 0.74594012 0.08338733 0.88499427 0.79141851 0.82448645\n",
      "  0.48379896 0.26290178 0.72041069 0.64177788 0.4142608 ]] [[0.19298764 0.65256894 0.78989484 ... 0.79833416 0.47787053 0.198722  ]\n",
      " [0.82237831 0.28641067 0.64644101 ... 0.46345528 0.65608687 0.1143888 ]\n",
      " [0.63178898 0.48146348 0.11589912 ... 0.8121565  0.22454039 0.33252131]\n",
      " ...\n",
      " [0.41947923 0.66944512 0.32303304 ... 0.8464279  0.17131538 0.91047624]\n",
      " [0.60978562 0.389307   0.94608663 ... 0.67908025 0.3460562  0.33449531]\n",
      " [0.74275222 0.74078645 0.52309082 ... 0.01638584 0.59762982 0.68382201]] [[0.66704225 0.86521863 0.28065605 0.48069839 0.11125996 0.81241801\n",
      "  0.72969381 0.47555325 0.11818064 0.66702498 0.78279612 0.43358347\n",
      "  0.40778591 0.93343136 0.03905232 0.76999161 0.78599263 0.38419753\n",
      "  0.37818245 0.87722237 0.56764658 0.46536691 0.70462584 0.66907795\n",
      "  0.9756682  0.74270208 0.29551492 0.85859896 0.37888925 0.35436031\n",
      "  0.78363568 0.74240396 0.94404249 0.68068042 0.96486936 0.17798285\n",
      "  0.57038557 0.68077549 0.34326079 0.11530511 0.86862138 0.02610561\n",
      "  0.84192653 0.07294547 0.33567085 0.14629653 0.49306411 0.82641861\n",
      "  0.37469657 0.75915902 0.72214342 0.0602977  0.89080798 0.3513559\n",
      "  0.07612994 0.00292507 0.49967531 0.30206397 0.50608283 0.07376051\n",
      "  0.98216401 0.66802486 0.38337312 0.77004352 0.89301482 0.18289731\n",
      "  0.49668095 0.44291679 0.90654696 0.21812603 0.88097637 0.95419686\n",
      "  0.48225429 0.16276987 0.50771858 0.18898128 0.46910598 0.26713323\n",
      "  0.18145782 0.61400445 0.63115126 0.86480485 0.51218431 0.55180988\n",
      "  0.2856555  0.46281282 0.53314389 0.13326794 0.77857734 0.48509859\n",
      "  0.7036909  0.97533723 0.72241466 0.63352822 0.02309121 0.56473325\n",
      "  0.27265765 0.9798186  0.61874569 0.49621133 0.1897212  0.11216099\n",
      "  0.60389902 0.0844166  0.64315785 0.67471547 0.0965163  0.82474794\n",
      "  0.59061566 0.82747575 0.24118388 0.99971487 0.2033263  0.08915\n",
      "  0.02318009 0.38347867 0.68174012 0.73496979 0.5773969  0.94770364\n",
      "  0.72806712 0.10899852 0.23557722 0.00724793 0.3763133  0.96195973\n",
      "  0.12111105 0.78225038 0.99230978 0.34343207 0.96333246 0.93159635\n",
      "  0.19488048 0.45755671 0.99093261 0.24367929 0.59116151 0.86794037\n",
      "  0.29332159 0.60637938 0.39600974 0.8249624  0.5222862  0.0812145\n",
      "  0.84911729 0.22785018 0.13382282 0.28720851 0.05218447 0.31738584\n",
      "  0.13048861 0.14134977 0.51003572 0.3394445  0.85785387 0.20177587\n",
      "  0.26318461 0.12498476 0.09288885 0.78059488 0.42206361 0.78617771\n",
      "  0.06553963 0.13908868 0.14920405 0.10157496 0.20690788 0.26523144\n",
      "  0.00720847 0.8925859  0.87709604 0.38620004 0.03474005 0.16562518\n",
      "  0.20753919 0.81988092 0.08278865 0.47861501 0.49572623 0.24362176\n",
      "  0.33299829 0.20069894 0.97359833 0.8034737  0.50853886 0.3509883\n",
      "  0.29386057 0.10231855 0.29459702 0.70906509 0.22915427 0.66532407\n",
      "  0.37741176 0.15508019 0.2870124  0.98455309 0.12131767 0.52767613\n",
      "  0.37148458]]\n"
     ]
    }
   ],
   "source": [
    "# weight and bias initialisation\n",
    "wh=np.random.uniform(size=(inputlayer_neurons,hiddenlayer_neurons))\n",
    "bh=np.random.uniform(size=(1,hiddenlayer_neurons))\n",
    "wout=np.random.uniform(size=(hiddenlayer_neurons,outputlayer_neurons))\n",
    "bout=np.random.uniform(size=(1,outputlayer_neurons))\n",
    "print(wh,bh,wout,bout)"
   ]
  },
  {
   "cell_type": "code",
   "execution_count": 62,
   "id": "9b4ed647",
   "metadata": {},
   "outputs": [],
   "source": [
    "for i in range(epoch):\n",
    "    # forward propagation\n",
    "    hinp1=np.dot(X,wh)\n",
    "    hinp=hinp1 + bh\n",
    "    hlayer_act = sigmoid(hinp)\n",
    "    outinp1=np.dot(hlayer_act,wout)\n",
    "    outinp= outinp1+ bout\n",
    "    output = sigmoid(outinp)\n",
    "    # backward propagation\n",
    "    EO = y-output\n",
    "    outgrad = derivatives_sigmoid(output)\n",
    "    d_output = EO* outgrad\n",
    "    EH = d_output.dot(wout.T)\n",
    "    hiddengrad = derivatives_sigmoid(hlayer_act)#how much hidden layer wts contributed to error\n",
    "    d_hiddenlayer = EH * hiddengrad\n",
    "    wout += hlayer_act.T.dot(d_output) *lr# dotproduct of nextlayererror and currentlayerop\n",
    "    # bout += np.sum(d_output, axis=0,keepdims=True) *lr\n",
    "    wh += X.T.dot(d_hiddenlayer) *lr\n",
    "    #bh += np.sum(d_hiddenlayer, axis=0,keepdims=True) *lr"
   ]
  },
  {
   "cell_type": "code",
   "execution_count": 63,
   "id": "1413f862",
   "metadata": {},
   "outputs": [
    {
     "data": {
      "text/plain": [
       "numpy.ndarray"
      ]
     },
     "execution_count": 63,
     "metadata": {},
     "output_type": "execute_result"
    }
   ],
   "source": [
    "type(y)"
   ]
  },
  {
   "cell_type": "code",
   "execution_count": 64,
   "id": "0b686586",
   "metadata": {},
   "outputs": [
    {
     "data": {
      "text/plain": [
       "numpy.ndarray"
      ]
     },
     "execution_count": 64,
     "metadata": {},
     "output_type": "execute_result"
    }
   ],
   "source": [
    "type(output)"
   ]
  },
  {
   "cell_type": "code",
   "execution_count": 65,
   "id": "9cba3ec4",
   "metadata": {},
   "outputs": [
    {
     "data": {
      "text/plain": [
       "(199, 199)"
      ]
     },
     "execution_count": 65,
     "metadata": {},
     "output_type": "execute_result"
    }
   ],
   "source": [
    "output.shape"
   ]
  },
  {
   "cell_type": "code",
   "execution_count": 66,
   "id": "21d2c832",
   "metadata": {},
   "outputs": [
    {
     "name": "stdout",
     "output_type": "stream",
     "text": [
      "Input:  [[14.84    0.871   5.763   3.312   2.221   5.22  ]\n",
      " [14.57    0.8811  5.554   3.333   1.018   4.956 ]\n",
      " [14.09    0.905   5.291   3.337   2.699   4.825 ]\n",
      " ...\n",
      " [13.66    0.8883  5.236   3.232   8.315   5.056 ]\n",
      " [13.21    0.8521  5.175   2.836   3.598   5.044 ]\n",
      " [13.34    0.8684  5.243   2.974   5.637   5.063 ]]\n",
      "Actual Output:  [1 1 1 1 1 1 1 1 1 1 1 1 1 1 1 1 1 1 1 1 1 1 1 1 1 1 1 1 1 1 1 1 1 1 1 1 1\n",
      " 1 1 1 1 1 1 1 1 1 1 1 1 1 1 1 1 1 1 1 1 1 1 1 1 1 1 1 1 1 2 2 2 2 2 2 2 2\n",
      " 2 2 2 2 2 2 2 2 2 2 2 2 2 2 2 2 2 2 2 2 2 2 2 2 2 2 2 2 2 2 2 2 2 2 2 2 2\n",
      " 2 2 2 2 2 2 2 2 2 2 2 2 2 2 2 2 2 2 2 2 2 2 2 3 3 3 3 3 3 3 3 3 3 3 3 3 3\n",
      " 3 3 3 3 3 3 3 3 3 3 3 3 3 3 3 3 3 3 3 3 3 3 3 3 3 3 3 3 3 3 3 3 3 3 3 3 3\n",
      " 3 3 3 3 3 3 3 3 3 3 3 3 3 3]\n",
      "Predicted Output:  [[1. 1. 1. ... 1. 1. 1.]\n",
      " [1. 1. 1. ... 1. 1. 1.]\n",
      " [1. 1. 1. ... 1. 1. 1.]\n",
      " ...\n",
      " [1. 1. 1. ... 1. 1. 1.]\n",
      " [1. 1. 1. ... 1. 1. 1.]\n",
      " [1. 1. 1. ... 1. 1. 1.]]\n"
     ]
    }
   ],
   "source": [
    "print(\"Input: \",X)\n",
    "print(\"Actual Output: \",y)\n",
    "print(\"Predicted Output: \",output)"
   ]
  },
  {
   "cell_type": "code",
   "execution_count": 67,
   "id": "3b18ae6c",
   "metadata": {},
   "outputs": [
    {
     "name": "stdout",
     "output_type": "stream",
     "text": [
      "[[66  0  0]\n",
      " [68  0  0]\n",
      " [65  0  0]]\n"
     ]
    },
    {
     "data": {
      "text/plain": [
       "0.3316582914572864"
      ]
     },
     "execution_count": 67,
     "metadata": {},
     "output_type": "execute_result"
    }
   ],
   "source": [
    "from sklearn.metrics import confusion_matrix,accuracy_score\n",
    "cm=confusion_matrix(y,output[0])\n",
    "print(cm)\n",
    "accuracy_score(y,output[0])"
   ]
  },
  {
   "cell_type": "markdown",
   "id": "a6870f26",
   "metadata": {},
   "source": [
    "The number of hidden neurons should be between the size of the input layer and the size of the output layer.\n",
    "\\\n",
    "The number of hidden neurons should be 2/3 the size of the input layer, plus the size of the output layer.\n",
    "\\\n",
    "The number of hidden neurons should be less than twice the size of the input layer\n"
   ]
  },
  {
   "cell_type": "code",
   "execution_count": null,
   "id": "16599a7e",
   "metadata": {},
   "outputs": [],
   "source": []
  }
 ],
 "metadata": {
  "kernelspec": {
   "display_name": "Python 3",
   "language": "python",
   "name": "python3"
  },
  "language_info": {
   "codemirror_mode": {
    "name": "ipython",
    "version": 3
   },
   "file_extension": ".py",
   "mimetype": "text/x-python",
   "name": "python",
   "nbconvert_exporter": "python",
   "pygments_lexer": "ipython3",
   "version": "3.8.8"
  }
 },
 "nbformat": 4,
 "nbformat_minor": 5
}
