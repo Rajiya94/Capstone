{
 "cells": [
  {
   "cell_type": "markdown",
   "id": "6f1bda91",
   "metadata": {},
   "source": [
    "# Tensorflow"
   ]
  },
  {
   "cell_type": "markdown",
   "id": "ebfb3174",
   "metadata": {},
   "source": [
    "#GPU\n",
    "\\\n",
    "!pip install tensorflow-gpu==2.0.0\n",
    "\\\n",
    "#CPU\n",
    "\\\n",
    "!pip install tensorflow==2.0.0\n",
    "\\\n",
    "#Upgrade to the latest Version\n",
    "\\\n",
    "! pip install - upgrade tensorflow\n",
    "\\\n",
    "#checking the installation \n",
    "\\\n",
    "import tensorflow as tf\n",
    "\\\n",
    "print(tf.__version__)"
   ]
  },
  {
   "cell_type": "markdown",
   "id": "b6eb08aa",
   "metadata": {},
   "source": [
    "For all the hidden layers we use \"Relu\" as an activation function. Relu= max(0,X)\n",
    "\\\n",
    "if it is binary classifiation we use \"sigmoid\" as an activation function\n",
    "\\\n",
    "if it is multi class classification we use \"softmax\" as activation function\n",
    "\\\n",
    "predict_proba gives the description of probality"
   ]
  },
  {
   "cell_type": "markdown",
   "id": "45a139a8",
   "metadata": {},
   "source": [
    "epoch is a hyper parameter. If epoch is 1 then one forward and one backward operation is done"
   ]
  },
  {
   "cell_type": "markdown",
   "id": "6f5f7ee2",
   "metadata": {},
   "source": [
    "# Tensorflow Hands On"
   ]
  },
  {
   "cell_type": "code",
   "execution_count": 1,
   "id": "3837c9ad",
   "metadata": {},
   "outputs": [
    {
     "name": "stdout",
     "output_type": "stream",
     "text": [
      "Requirement already satisfied: tensorflow in c:\\users\\rproddatur\\anaconda3\\lib\\site-packages (2.6.1)\n",
      "Requirement already satisfied: wheel~=0.35 in c:\\users\\rproddatur\\anaconda3\\lib\\site-packages (from tensorflow) (0.36.2)\n",
      "Requirement already satisfied: typing-extensions~=3.7.4 in c:\\users\\rproddatur\\anaconda3\\lib\\site-packages (from tensorflow) (3.7.4.3)\n",
      "Requirement already satisfied: absl-py~=0.10 in c:\\users\\rproddatur\\anaconda3\\lib\\site-packages (from tensorflow) (0.15.0)\n",
      "Requirement already satisfied: clang~=5.0 in c:\\users\\rproddatur\\anaconda3\\lib\\site-packages (from tensorflow) (5.0)\n",
      "Requirement already satisfied: termcolor~=1.1.0 in c:\\users\\rproddatur\\anaconda3\\lib\\site-packages (from tensorflow) (1.1.0)\n",
      "Requirement already satisfied: h5py~=3.1.0 in c:\\users\\rproddatur\\anaconda3\\lib\\site-packages (from tensorflow) (3.1.0)\n",
      "Requirement already satisfied: six~=1.15.0 in c:\\users\\rproddatur\\anaconda3\\lib\\site-packages (from tensorflow) (1.15.0)\n",
      "Requirement already satisfied: wrapt~=1.12.1 in c:\\users\\rproddatur\\anaconda3\\lib\\site-packages (from tensorflow) (1.12.1)\n",
      "Requirement already satisfied: google-pasta~=0.2 in c:\\users\\rproddatur\\anaconda3\\lib\\site-packages (from tensorflow) (0.2.0)\n",
      "Requirement already satisfied: grpcio<2.0,>=1.37.0 in c:\\users\\rproddatur\\anaconda3\\lib\\site-packages (from tensorflow) (1.41.1)\n",
      "Requirement already satisfied: flatbuffers~=1.12.0 in c:\\users\\rproddatur\\anaconda3\\lib\\site-packages (from tensorflow) (1.12)\n",
      "Requirement already satisfied: gast==0.4.0 in c:\\users\\rproddatur\\anaconda3\\lib\\site-packages (from tensorflow) (0.4.0)\n",
      "Requirement already satisfied: keras-preprocessing~=1.1.2 in c:\\users\\rproddatur\\anaconda3\\lib\\site-packages (from tensorflow) (1.1.2)\n",
      "Requirement already satisfied: keras~=2.6 in c:\\users\\rproddatur\\anaconda3\\lib\\site-packages (from tensorflow) (2.6.0)\n",
      "Requirement already satisfied: astunparse~=1.6.3 in c:\\users\\rproddatur\\anaconda3\\lib\\site-packages (from tensorflow) (1.6.3)\n",
      "Requirement already satisfied: tensorboard~=2.6 in c:\\users\\rproddatur\\anaconda3\\lib\\site-packages (from tensorflow) (2.7.0)\n",
      "Requirement already satisfied: tensorflow-estimator<2.7 in c:\\users\\rproddatur\\anaconda3\\lib\\site-packages (from tensorflow) (2.6.0)\n",
      "Requirement already satisfied: numpy~=1.19.2 in c:\\users\\rproddatur\\anaconda3\\lib\\site-packages (from tensorflow) (1.19.5)\n",
      "Requirement already satisfied: opt-einsum~=3.3.0 in c:\\users\\rproddatur\\anaconda3\\lib\\site-packages (from tensorflow) (3.3.0)\n",
      "Requirement already satisfied: protobuf>=3.9.2 in c:\\users\\rproddatur\\anaconda3\\lib\\site-packages (from tensorflow) (3.19.1)\n",
      "Requirement already satisfied: google-auth-oauthlib<0.5,>=0.4.1 in c:\\users\\rproddatur\\anaconda3\\lib\\site-packages (from tensorboard~=2.6->tensorflow) (0.4.6)\n",
      "Requirement already satisfied: setuptools>=41.0.0 in c:\\users\\rproddatur\\anaconda3\\lib\\site-packages (from tensorboard~=2.6->tensorflow) (52.0.0.post20210125)\n",
      "Requirement already satisfied: tensorboard-plugin-wit>=1.6.0 in c:\\users\\rproddatur\\anaconda3\\lib\\site-packages (from tensorboard~=2.6->tensorflow) (1.8.0)\n",
      "Requirement already satisfied: tensorboard-data-server<0.7.0,>=0.6.0 in c:\\users\\rproddatur\\anaconda3\\lib\\site-packages (from tensorboard~=2.6->tensorflow) (0.6.1)\n",
      "Requirement already satisfied: werkzeug>=0.11.15 in c:\\users\\rproddatur\\anaconda3\\lib\\site-packages (from tensorboard~=2.6->tensorflow) (1.0.1)\n",
      "Requirement already satisfied: requests<3,>=2.21.0 in c:\\users\\rproddatur\\anaconda3\\lib\\site-packages (from tensorboard~=2.6->tensorflow) (2.25.1)\n",
      "Requirement already satisfied: google-auth<3,>=1.6.3 in c:\\users\\rproddatur\\anaconda3\\lib\\site-packages (from tensorboard~=2.6->tensorflow) (2.3.3)\n",
      "Requirement already satisfied: markdown>=2.6.8 in c:\\users\\rproddatur\\anaconda3\\lib\\site-packages (from tensorboard~=2.6->tensorflow) (3.3.4)\n",
      "Requirement already satisfied: cachetools<5.0,>=2.0.0 in c:\\users\\rproddatur\\anaconda3\\lib\\site-packages (from google-auth<3,>=1.6.3->tensorboard~=2.6->tensorflow) (4.2.4)\n",
      "Requirement already satisfied: rsa<5,>=3.1.4 in c:\\users\\rproddatur\\anaconda3\\lib\\site-packages (from google-auth<3,>=1.6.3->tensorboard~=2.6->tensorflow) (4.7.2)\n",
      "Requirement already satisfied: pyasn1-modules>=0.2.1 in c:\\users\\rproddatur\\anaconda3\\lib\\site-packages (from google-auth<3,>=1.6.3->tensorboard~=2.6->tensorflow) (0.2.8)\n",
      "Requirement already satisfied: requests-oauthlib>=0.7.0 in c:\\users\\rproddatur\\anaconda3\\lib\\site-packages (from google-auth-oauthlib<0.5,>=0.4.1->tensorboard~=2.6->tensorflow) (1.3.0)\n",
      "Requirement already satisfied: chardet<5,>=3.0.2 in c:\\users\\rproddatur\\anaconda3\\lib\\site-packages (from requests<3,>=2.21.0->tensorboard~=2.6->tensorflow) (4.0.0)\n",
      "Requirement already satisfied: idna<3,>=2.5 in c:\\users\\rproddatur\\anaconda3\\lib\\site-packages (from requests<3,>=2.21.0->tensorboard~=2.6->tensorflow) (2.10)\n",
      "Requirement already satisfied: urllib3<1.27,>=1.21.1 in c:\\users\\rproddatur\\anaconda3\\lib\\site-packages (from requests<3,>=2.21.0->tensorboard~=2.6->tensorflow) (1.26.4)\n",
      "Requirement already satisfied: certifi>=2017.4.17 in c:\\users\\rproddatur\\anaconda3\\lib\\site-packages (from requests<3,>=2.21.0->tensorboard~=2.6->tensorflow) (2020.12.5)\n",
      "Requirement already satisfied: pyasn1<0.5.0,>=0.4.6 in c:\\users\\rproddatur\\anaconda3\\lib\\site-packages (from pyasn1-modules>=0.2.1->google-auth<3,>=1.6.3->tensorboard~=2.6->tensorflow) (0.4.8)\n",
      "Requirement already satisfied: oauthlib>=3.0.0 in c:\\users\\rproddatur\\anaconda3\\lib\\site-packages (from requests-oauthlib>=0.7.0->google-auth-oauthlib<0.5,>=0.4.1->tensorboard~=2.6->tensorflow) (3.1.1)\n"
     ]
    }
   ],
   "source": [
    "# Current stable release for CPU and GPU of tensor flow\n",
    "!pip install tensorflow"
   ]
  },
  {
   "cell_type": "code",
   "execution_count": 2,
   "id": "10d6d4e8",
   "metadata": {},
   "outputs": [],
   "source": [
    "import tensorflow as tf"
   ]
  },
  {
   "cell_type": "code",
   "execution_count": 3,
   "id": "6fd91a5f",
   "metadata": {},
   "outputs": [
    {
     "data": {
      "text/plain": [
       "'2.6.1'"
      ]
     },
     "execution_count": 3,
     "metadata": {},
     "output_type": "execute_result"
    }
   ],
   "source": [
    "tf.__version__"
   ]
  },
  {
   "cell_type": "code",
   "execution_count": 4,
   "id": "a313acc1",
   "metadata": {},
   "outputs": [
    {
     "data": {
      "text/plain": [
       "<tf.Tensor: shape=(2, 2), dtype=int32, numpy=\n",
       "array([[4, 3],\n",
       "       [6, 1]])>"
      ]
     },
     "execution_count": 4,
     "metadata": {},
     "output_type": "execute_result"
    }
   ],
   "source": [
    "#The constant are immutable\n",
    "A=tf.constant([[4,3],[6,1]])\n",
    "A"
   ]
  },
  {
   "cell_type": "code",
   "execution_count": 7,
   "id": "249d5076",
   "metadata": {},
   "outputs": [
    {
     "data": {
      "text/plain": [
       "<tf.Variable 'Variable:0' shape=(2, 2) dtype=int32, numpy=\n",
       "array([[4, 3],\n",
       "       [6, 1]])>"
      ]
     },
     "execution_count": 7,
     "metadata": {},
     "output_type": "execute_result"
    }
   ],
   "source": [
    "# variables are mutable\n",
    "V=tf.Variable([[4,3],[6,1]])\n",
    "V"
   ]
  },
  {
   "cell_type": "code",
   "execution_count": 12,
   "id": "5a288e77",
   "metadata": {},
   "outputs": [
    {
     "data": {
      "text/plain": [
       "<tf.Tensor: shape=(2, 4), dtype=int32, numpy=\n",
       "array([[4, 3, 4, 3],\n",
       "       [6, 1, 6, 1]])>"
      ]
     },
     "execution_count": 12,
     "metadata": {},
     "output_type": "execute_result"
    }
   ],
   "source": [
    "# concatination\n",
    "tf_concat=tf.concat(values=[A,V],axis=1)"
   ]
  },
  {
   "cell_type": "code",
   "execution_count": 21,
   "id": "39666177",
   "metadata": {},
   "outputs": [
    {
     "data": {
      "text/plain": [
       "<tf.Tensor: shape=(4, 2), dtype=int32, numpy=\n",
       "array([[4, 3],\n",
       "       [6, 1],\n",
       "       [4, 3],\n",
       "       [6, 1]])>"
      ]
     },
     "execution_count": 21,
     "metadata": {},
     "output_type": "execute_result"
    }
   ],
   "source": [
    "# concatination\n",
    "tf_concat=tf.concat(values=[A,V],axis=0)"
   ]
  },
  {
   "cell_type": "code",
   "execution_count": 17,
   "id": "4bc1e96f",
   "metadata": {},
   "outputs": [
    {
     "data": {
      "text/plain": [
       "<tf.Tensor: shape=(3, 4), dtype=int32, numpy=\n",
       "array([[0, 0, 0, 0],\n",
       "       [0, 0, 0, 0],\n",
       "       [0, 0, 0, 0]])>"
      ]
     },
     "execution_count": 17,
     "metadata": {},
     "output_type": "execute_result"
    }
   ],
   "source": [
    "# array with zeros in int type\n",
    "tf_zeros=tf.zeros(shape=[3,4],dtype=tf.int32)\n",
    "tfzeros"
   ]
  },
  {
   "cell_type": "code",
   "execution_count": 19,
   "id": "21e3a7f2",
   "metadata": {},
   "outputs": [
    {
     "data": {
      "text/plain": [
       "<tf.Tensor: shape=(3, 4), dtype=float32, numpy=\n",
       "array([[1., 1., 1., 1.],\n",
       "       [1., 1., 1., 1.],\n",
       "       [1., 1., 1., 1.]], dtype=float32)>"
      ]
     },
     "execution_count": 19,
     "metadata": {},
     "output_type": "execute_result"
    }
   ],
   "source": [
    "# array with  ones in float type\n",
    "tf_ones=tf.ones(shape=[3,4],dtype=tf.float32)\n",
    "tfones"
   ]
  },
  {
   "cell_type": "code",
   "execution_count": 24,
   "id": "74ac7c21",
   "metadata": {},
   "outputs": [],
   "source": [
    "# array with random values\n",
    "tf_rand=tf.random.uniform(shape=[3,4],minval=4,maxval=10,dtype=tf.int32)\n",
    "tf_rand"
   ]
  },
  {
   "cell_type": "code",
   "execution_count": 30,
   "id": "1448096b",
   "metadata": {},
   "outputs": [
    {
     "data": {
      "text/plain": [
       "<tf.Tensor: shape=(1, 12), dtype=int32, numpy=array([[5, 7, 6, 4, 5, 7, 8, 6, 7, 6, 8, 7]])>"
      ]
     },
     "execution_count": 30,
     "metadata": {},
     "output_type": "execute_result"
    }
   ],
   "source": [
    "# reshape \n",
    "tf_reshape=tf.reshape(tensor=tf_rand,shape=[1,12])\n",
    "tf_reshape"
   ]
  },
  {
   "cell_type": "code",
   "execution_count": 40,
   "id": "8bf2c795",
   "metadata": {},
   "outputs": [
    {
     "data": {
      "text/plain": [
       "<tf.Tensor: shape=(12, 1), dtype=int32, numpy=\n",
       "array([[5],\n",
       "       [7],\n",
       "       [6],\n",
       "       [4],\n",
       "       [5],\n",
       "       [7],\n",
       "       [8],\n",
       "       [6],\n",
       "       [7],\n",
       "       [6],\n",
       "       [8],\n",
       "       [7]])>"
      ]
     },
     "execution_count": 40,
     "metadata": {},
     "output_type": "execute_result"
    }
   ],
   "source": [
    "# transpose\n",
    "tf_trans=tf.transpose(tf_reshape)\n",
    "tf_trans"
   ]
  },
  {
   "cell_type": "code",
   "execution_count": 39,
   "id": "3843a9b1",
   "metadata": {},
   "outputs": [
    {
     "data": {
      "text/plain": [
       "<tf.Tensor: shape=(3, 5), dtype=float32, numpy=\n",
       "array([[1., 0., 0., 0., 0.],\n",
       "       [0., 1., 0., 0., 0.],\n",
       "       [0., 0., 1., 0., 0.]], dtype=float32)>"
      ]
     },
     "execution_count": 39,
     "metadata": {},
     "output_type": "execute_result"
    }
   ],
   "source": [
    "# identity matrix\n",
    "tf_identity=tf.eye(num_rows=3,num_columns=5)\n",
    "tf_identity"
   ]
  },
  {
   "cell_type": "code",
   "execution_count": 42,
   "id": "a20a0e88",
   "metadata": {},
   "outputs": [
    {
     "name": "stdout",
     "output_type": "stream",
     "text": [
      "3 5\n"
     ]
    }
   ],
   "source": [
    "# prints the no of rows and cols\n",
    "row,col=tf_identity.shape\n",
    "print(row,col)"
   ]
  },
  {
   "cell_type": "code",
   "execution_count": 43,
   "id": "983b5930",
   "metadata": {},
   "outputs": [
    {
     "data": {
      "text/plain": [
       "<tf.Tensor: shape=(2, 2), dtype=int32, numpy=\n",
       "array([[27, 16],\n",
       "       [23, 10]])>"
      ]
     },
     "execution_count": 43,
     "metadata": {},
     "output_type": "execute_result"
    }
   ],
   "source": [
    "# matrix multiplication\n",
    "A=tf.constant([[4,3],[6,1]])\n",
    "B=tf.constant([[3,1],[5,4]])\n",
    "AB=tf.matmul(A,B)\n",
    "AB"
   ]
  },
  {
   "cell_type": "code",
   "execution_count": 44,
   "id": "7eed0867",
   "metadata": {},
   "outputs": [
    {
     "data": {
      "text/plain": [
       "<tf.Tensor: shape=(2, 2), dtype=int32, numpy=\n",
       "array([[12,  3],\n",
       "       [30,  4]])>"
      ]
     },
     "execution_count": 44,
     "metadata": {},
     "output_type": "execute_result"
    }
   ],
   "source": [
    "# multiplies the rows and cols\n",
    "AB_mul=tf.multiply(A,B)\n",
    "AB_mul"
   ]
  },
  {
   "cell_type": "code",
   "execution_count": 45,
   "id": "79d164d8",
   "metadata": {},
   "outputs": [
    {
     "data": {
      "text/plain": [
       "<tf.Tensor: shape=(2, 2), dtype=int32, numpy=\n",
       "array([[12,  9],\n",
       "       [18,  3]])>"
      ]
     },
     "execution_count": 45,
     "metadata": {},
     "output_type": "execute_result"
    }
   ],
   "source": [
    "# multiplies the each value in A with three\n",
    "# element wise multiplication\n",
    "A*3"
   ]
  },
  {
   "cell_type": "code",
   "execution_count": 63,
   "id": "57e925e0",
   "metadata": {},
   "outputs": [],
   "source": [
    "A=tf.constant([[4.1,3.2],[6.3,1.4]])\n",
    "my_var=tf.Variable(A)\n",
    "bool_var=tf.Variable([False,False,True])\n",
    "complex_var=tf.Variable([2+4j,6+3j])"
   ]
  },
  {
   "cell_type": "code",
   "execution_count": 64,
   "id": "91c924f8",
   "metadata": {},
   "outputs": [
    {
     "name": "stdout",
     "output_type": "stream",
     "text": [
      "shape:  (3,)\n",
      "Dtype:  <dtype: 'bool'>\n"
     ]
    }
   ],
   "source": [
    "print(\"shape: \",bool_var.shape)\n",
    "print(\"Dtype: \",bool_var.dtype)"
   ]
  },
  {
   "cell_type": "code",
   "execution_count": 65,
   "id": "c5bda690",
   "metadata": {
    "scrolled": true
   },
   "outputs": [
    {
     "name": "stdout",
     "output_type": "stream",
     "text": [
      "shape:  (2,)\n",
      "Dtype:  <dtype: 'complex128'>\n"
     ]
    }
   ],
   "source": [
    "print(\"shape: \",complex_var.shape)\n",
    "print(\"Dtype: \",complex_var.dtype)"
   ]
  },
  {
   "cell_type": "code",
   "execution_count": 66,
   "id": "7730b281",
   "metadata": {},
   "outputs": [
    {
     "data": {
      "text/plain": [
       "<tf.Tensor: shape=(4, 1), dtype=float32, numpy=\n",
       "array([[4.1],\n",
       "       [3.2],\n",
       "       [6.3],\n",
       "       [1.4]], dtype=float32)>"
      ]
     },
     "execution_count": 66,
     "metadata": {},
     "output_type": "execute_result"
    }
   ],
   "source": [
    "tf.reshape(var,[4,1])"
   ]
  },
  {
   "cell_type": "code",
   "execution_count": 70,
   "id": "cc9a2b23",
   "metadata": {},
   "outputs": [
    {
     "name": "stdout",
     "output_type": "stream",
     "text": [
      "tf.Tensor(\n",
      "[[ True  True]\n",
      " [ True  True]], shape=(2, 2), dtype=bool)\n"
     ]
    }
   ],
   "source": [
    "# the == is with the variable not with the names\n",
    "a=tf.Variable(my_var,name=\"john\")\n",
    "b=tf.Variable(my_var,name=\"john1\")\n",
    "print(a==b)"
   ]
  },
  {
   "cell_type": "code",
   "execution_count": 73,
   "id": "6305c2f8",
   "metadata": {},
   "outputs": [
    {
     "name": "stdout",
     "output_type": "stream",
     "text": [
      "SparseTensor(indices=tf.Tensor(\n",
      "[[0 0]\n",
      " [1 2]], shape=(2, 2), dtype=int64), values=tf.Tensor([3 4], shape=(2,), dtype=int32), dense_shape=tf.Tensor([3 4], shape=(2,), dtype=int64))\n"
     ]
    }
   ],
   "source": [
    "# sparse tensor\n",
    "tf_sparse=tf.sparse.SparseTensor(indices=[[0,0],[1,2]],values=[3,4],dense_shape=[3,4])\n",
    "print(tf_sparse)"
   ]
  },
  {
   "cell_type": "code",
   "execution_count": 75,
   "id": "278a349c",
   "metadata": {},
   "outputs": [
    {
     "ename": "AttributeError",
     "evalue": "module 'tensorflow' has no attribute 'placeHolders'",
     "output_type": "error",
     "traceback": [
      "\u001b[1;31m---------------------------------------------------------------------------\u001b[0m",
      "\u001b[1;31mAttributeError\u001b[0m                            Traceback (most recent call last)",
      "\u001b[1;32m<ipython-input-75-24914a211935>\u001b[0m in \u001b[0;36m<module>\u001b[1;34m\u001b[0m\n\u001b[0;32m      1\u001b[0m \u001b[1;31m# place Holders\u001b[0m\u001b[1;33m\u001b[0m\u001b[1;33m\u001b[0m\u001b[1;33m\u001b[0m\u001b[0m\n\u001b[1;32m----> 2\u001b[1;33m \u001b[0mx\u001b[0m\u001b[1;33m=\u001b[0m\u001b[0mtf\u001b[0m\u001b[1;33m.\u001b[0m\u001b[0mplaceHolders\u001b[0m\u001b[1;33m(\u001b[0m\u001b[0mtf\u001b[0m\u001b[1;33m.\u001b[0m\u001b[0mfloat32\u001b[0m\u001b[1;33m)\u001b[0m\u001b[1;33m\u001b[0m\u001b[1;33m\u001b[0m\u001b[0m\n\u001b[0m\u001b[0;32m      3\u001b[0m \u001b[0mx\u001b[0m\u001b[1;33m\u001b[0m\u001b[1;33m\u001b[0m\u001b[0m\n",
      "\u001b[1;31mAttributeError\u001b[0m: module 'tensorflow' has no attribute 'placeHolders'"
     ]
    }
   ],
   "source": [
    "# place Holders\n",
    "x=tf.placeholders(tf.float32)\n",
    "x"
   ]
  },
  {
   "cell_type": "code",
   "execution_count": 76,
   "id": "be4a4dc7",
   "metadata": {},
   "outputs": [],
   "source": [
    "# Define a Python function.\n",
    "def a_regular_function(x, y, b):\n",
    "  x = tf.matmul(x, y)\n",
    "  x = x + b\n",
    "  return x\n",
    "\n",
    "# `a_function_that_uses_a_graph` is a TensorFlow `Function`.\n",
    "a_function_that_uses_a_graph = tf.function(a_regular_function)\n",
    "\n",
    "# Make some tensors.\n",
    "x1 = tf.constant([[1.0, 2.0]])\n",
    "y1 = tf.constant([[2.0], [3.0]])\n",
    "b1 = tf.constant(4.0)\n",
    "\n",
    "orig_value = a_regular_function(x1, y1, b1).numpy()\n",
    "# Call a `Function` like a Python function.\n",
    "tf_function_value = a_function_that_uses_a_graph(x1, y1, b1).numpy()\n",
    "assert(orig_value == tf_function_value)"
   ]
  },
  {
   "cell_type": "code",
   "execution_count": null,
   "id": "e3341d68",
   "metadata": {},
   "outputs": [],
   "source": []
  }
 ],
 "metadata": {
  "kernelspec": {
   "display_name": "Python 3",
   "language": "python",
   "name": "python3"
  },
  "language_info": {
   "codemirror_mode": {
    "name": "ipython",
    "version": 3
   },
   "file_extension": ".py",
   "mimetype": "text/x-python",
   "name": "python",
   "nbconvert_exporter": "python",
   "pygments_lexer": "ipython3",
   "version": "3.8.8"
  }
 },
 "nbformat": 4,
 "nbformat_minor": 5
}
