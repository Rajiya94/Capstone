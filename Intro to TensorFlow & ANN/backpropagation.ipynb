{
 "cells": [
  {
   "cell_type": "markdown",
   "id": "1c52d243",
   "metadata": {},
   "source": [
    "# Artificial Neural Networks"
   ]
  },
  {
   "cell_type": "markdown",
   "id": "8fd63862",
   "metadata": {},
   "source": [
    "sigmoid is used for 0 to 1 values\n",
    "\\\n",
    "tanh or hyperbolic tanget is used for -1 to 1 values\n",
    "\\\n",
    "Relu gives 0 to z values. f(z) is zero  when z is less tah 0 and f(z) is equla to z when z is above or equal to zero\n",
    "\\"
   ]
  },
  {
   "cell_type": "code",
   "execution_count": 1,
   "id": "a1c62d8b",
   "metadata": {},
   "outputs": [],
   "source": [
    "import numpy as np\n",
    "X=np.array(([2,9],[1,5],[3,6]),dtype=float)\n",
    "y=np.array(([92],[86],[89]),dtype=float)\n",
    "X=X/np.amax(X,axis=0) # maximum of X array longitudinally\n",
    "y=y/100"
   ]
  },
  {
   "cell_type": "code",
   "execution_count": 2,
   "id": "c4776f14",
   "metadata": {},
   "outputs": [],
   "source": [
    "#define the sigmoid func\n",
    "def sigmoid(x):\n",
    "    return 1/(1+np.exp(-x))"
   ]
  },
  {
   "cell_type": "code",
   "execution_count": 11,
   "id": "4162f9d0",
   "metadata": {},
   "outputs": [],
   "source": [
    "#define the derivatives_sigmoid func\n",
    "def derivatives_sigmoid(x):\n",
    "    return x*(1-x)"
   ]
  },
  {
   "cell_type": "code",
   "execution_count": 14,
   "id": "62e21b47",
   "metadata": {},
   "outputs": [],
   "source": [
    "epoch=500\n",
    "lr=0.1\n",
    "inputlayer_neurons=2\n",
    "outputlayer_neurons=1\n",
    "hiddenlayer_neurons=3"
   ]
  },
  {
   "cell_type": "code",
   "execution_count": 17,
   "id": "718c5942",
   "metadata": {},
   "outputs": [
    {
     "name": "stdout",
     "output_type": "stream",
     "text": [
      "[[0.79950871 0.41345592 0.55928171]\n",
      " [0.75226427 0.79146224 0.28923452]] [[0.12898675 0.60482337 0.91392632]] [[0.80990623]\n",
      " [0.17136466]\n",
      " [0.5675003 ]] [[0.01360507]]\n"
     ]
    }
   ],
   "source": [
    "# weight and bias initialisation\n",
    "wh=np.random.uniform(size=(inputlayer_neurons,hiddenlayer_neurons))\n",
    "bh=np.random.uniform(size=(1,hiddenlayer_neurons))\n",
    "wout=np.random.uniform(size=(hiddenlayer_neurons,outputlayer_neurons))\n",
    "bout=np.random.uniform(size=(1,outputlayer_neurons))\n",
    "print(wh,bh,wout,bout)"
   ]
  },
  {
   "cell_type": "code",
   "execution_count": 18,
   "id": "0f044470",
   "metadata": {},
   "outputs": [],
   "source": [
    "for i in range(epoch):\n",
    "    # forward propagation\n",
    "    hinp1=np.dot(X,wh)\n",
    "    hinp=hinp1 + bh\n",
    "    hlayer_act = sigmoid(hinp)\n",
    "    outinp1=np.dot(hlayer_act,wout)\n",
    "    outinp= outinp1+ bout\n",
    "    output = sigmoid(outinp)\n",
    "    # backward propagation\n",
    "    EO = y-output\n",
    "    outgrad = derivatives_sigmoid(output)\n",
    "    d_output = EO* outgrad\n",
    "    EH = d_output.dot(wout.T)\n",
    "    hiddengrad = derivatives_sigmoid(hlayer_act) # how much hidden layer wts contributed to error\n",
    "    d_hiddenlayer = EH * hiddengrad\n",
    "    wout += hlayer_act.T.dot(d_output) *lr # dotproduct of nextlayererror and currentlayerop\n",
    "    bout += np.sum(d_output, axis=0,keepdims=True) *lr\n",
    "    wh += X.T.dot(d_hiddenlayer) *lr\n",
    "    bh += np.sum(d_hiddenlayer, axis=0,keepdims=True) *lr"
   ]
  },
  {
   "cell_type": "code",
   "execution_count": 21,
   "id": "50bb4276",
   "metadata": {},
   "outputs": [
    {
     "name": "stdout",
     "output_type": "stream",
     "text": [
      "Input:  [[0.66666667 1.        ]\n",
      " [0.33333333 0.55555556]\n",
      " [1.         0.66666667]]\n",
      "Actual Output:  [[0.92]\n",
      " [0.86]\n",
      " [0.89]]\n",
      "Predicted Output:  [[0.8952011 ]\n",
      " [0.87637611]\n",
      " [0.89560702]]\n"
     ]
    }
   ],
   "source": [
    "print(\"Input: \",X)\n",
    "print(\"Actual Output: \",y)\n",
    "print(\"Predicted Output: \",output)"
   ]
  },
  {
   "cell_type": "code",
   "execution_count": null,
   "id": "9e4c4ddd",
   "metadata": {},
   "outputs": [],
   "source": []
  }
 ],
 "metadata": {
  "kernelspec": {
   "display_name": "Python 3",
   "language": "python",
   "name": "python3"
  },
  "language_info": {
   "codemirror_mode": {
    "name": "ipython",
    "version": 3
   },
   "file_extension": ".py",
   "mimetype": "text/x-python",
   "name": "python",
   "nbconvert_exporter": "python",
   "pygments_lexer": "ipython3",
   "version": "3.8.8"
  }
 },
 "nbformat": 4,
 "nbformat_minor": 5
}
