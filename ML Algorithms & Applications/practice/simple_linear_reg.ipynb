{
 "cells": [
  {
   "cell_type": "markdown",
   "id": "cd9f3d2e",
   "metadata": {},
   "source": [
    "# Data Science project life cycle"
   ]
  },
  {
   "cell_type": "markdown",
   "id": "58e42c77",
   "metadata": {},
   "source": [
    "https://medium.com/co-learning-lounge/complete-data-science-project-life-cycle-9eae6e4ed4c9"
   ]
  },
  {
   "cell_type": "markdown",
   "id": "30eea996",
   "metadata": {},
   "source": [
    "# Linear Regression"
   ]
  },
  {
   "cell_type": "code",
   "execution_count": 1,
   "id": "2af4f58d",
   "metadata": {},
   "outputs": [],
   "source": [
    "import pandas as pd\n",
    "import numpy as np\n",
    "import matplotlib.pyplot as plt\n",
    "import seaborn as sns\n",
    "import os"
   ]
  },
  {
   "cell_type": "code",
   "execution_count": 2,
   "id": "6b8fafab",
   "metadata": {},
   "outputs": [],
   "source": [
    "df=pd.read_csv(\"salary data - Salary_Data.csv\")"
   ]
  },
  {
   "cell_type": "code",
   "execution_count": 3,
   "id": "1229a3b4",
   "metadata": {},
   "outputs": [
    {
     "data": {
      "text/html": [
       "<div>\n",
       "<style scoped>\n",
       "    .dataframe tbody tr th:only-of-type {\n",
       "        vertical-align: middle;\n",
       "    }\n",
       "\n",
       "    .dataframe tbody tr th {\n",
       "        vertical-align: top;\n",
       "    }\n",
       "\n",
       "    .dataframe thead th {\n",
       "        text-align: right;\n",
       "    }\n",
       "</style>\n",
       "<table border=\"1\" class=\"dataframe\">\n",
       "  <thead>\n",
       "    <tr style=\"text-align: right;\">\n",
       "      <th></th>\n",
       "      <th>YearsExperience</th>\n",
       "      <th>Salary</th>\n",
       "    </tr>\n",
       "  </thead>\n",
       "  <tbody>\n",
       "    <tr>\n",
       "      <th>0</th>\n",
       "      <td>1.1</td>\n",
       "      <td>39343</td>\n",
       "    </tr>\n",
       "    <tr>\n",
       "      <th>1</th>\n",
       "      <td>1.3</td>\n",
       "      <td>46205</td>\n",
       "    </tr>\n",
       "    <tr>\n",
       "      <th>2</th>\n",
       "      <td>1.5</td>\n",
       "      <td>37731</td>\n",
       "    </tr>\n",
       "    <tr>\n",
       "      <th>3</th>\n",
       "      <td>2.0</td>\n",
       "      <td>43525</td>\n",
       "    </tr>\n",
       "    <tr>\n",
       "      <th>4</th>\n",
       "      <td>2.2</td>\n",
       "      <td>39891</td>\n",
       "    </tr>\n",
       "    <tr>\n",
       "      <th>5</th>\n",
       "      <td>2.9</td>\n",
       "      <td>56642</td>\n",
       "    </tr>\n",
       "    <tr>\n",
       "      <th>6</th>\n",
       "      <td>3.0</td>\n",
       "      <td>60150</td>\n",
       "    </tr>\n",
       "    <tr>\n",
       "      <th>7</th>\n",
       "      <td>3.2</td>\n",
       "      <td>54445</td>\n",
       "    </tr>\n",
       "    <tr>\n",
       "      <th>8</th>\n",
       "      <td>3.2</td>\n",
       "      <td>64445</td>\n",
       "    </tr>\n",
       "    <tr>\n",
       "      <th>9</th>\n",
       "      <td>3.7</td>\n",
       "      <td>57189</td>\n",
       "    </tr>\n",
       "  </tbody>\n",
       "</table>\n",
       "</div>"
      ],
      "text/plain": [
       "   YearsExperience  Salary\n",
       "0              1.1   39343\n",
       "1              1.3   46205\n",
       "2              1.5   37731\n",
       "3              2.0   43525\n",
       "4              2.2   39891\n",
       "5              2.9   56642\n",
       "6              3.0   60150\n",
       "7              3.2   54445\n",
       "8              3.2   64445\n",
       "9              3.7   57189"
      ]
     },
     "execution_count": 3,
     "metadata": {},
     "output_type": "execute_result"
    }
   ],
   "source": [
    "df.head(10)"
   ]
  },
  {
   "cell_type": "code",
   "execution_count": 4,
   "id": "70741df4",
   "metadata": {},
   "outputs": [
    {
     "data": {
      "image/png": "[encoded data removed]",
      "text/plain": [
       "<Figure size 432x288 with 1 Axes>"
      ]
     },
     "metadata": {
      "needs_background": "light"
     },
     "output_type": "display_data"
    }
   ],
   "source": [
    "plt.plot(df)\n",
    "plt.title('checking the relationship')\n",
    "plt.xlabel(\"Years of Experience\")\n",
    "plt.ylabel(\"Wages\")\n",
    "plt.grid(True)\n",
    "plt.show()"
   ]
  },
  {
   "cell_type": "code",
   "execution_count": 5,
   "id": "fb688408",
   "metadata": {},
   "outputs": [],
   "source": [
    "# imorting module to split the data in to test and train\n",
    "from sklearn.model_selection import train_test_split\n",
    "from sklearn.linear_model import LinearRegression"
   ]
  },
  {
   "cell_type": "code",
   "execution_count": 6,
   "id": "4fc3d69e",
   "metadata": {},
   "outputs": [],
   "source": [
    "x=df.drop('Salary',axis=True).values\n",
    "y=df['Salary'].values"
   ]
  },
  {
   "cell_type": "code",
   "execution_count": 7,
   "id": "9495dbb4",
   "metadata": {},
   "outputs": [
    {
     "data": {
      "text/plain": [
       "(30, 1)"
      ]
     },
     "execution_count": 7,
     "metadata": {},
     "output_type": "execute_result"
    }
   ],
   "source": [
    "# the independent varible should be in 2d\n",
    "x.shape"
   ]
  },
  {
   "cell_type": "code",
   "execution_count": 8,
   "id": "8ef05e91",
   "metadata": {},
   "outputs": [
    {
     "data": {
      "text/plain": [
       "(30,)"
      ]
     },
     "execution_count": 8,
     "metadata": {},
     "output_type": "execute_result"
    }
   ],
   "source": [
    "y.shape"
   ]
  },
  {
   "cell_type": "code",
   "execution_count": 9,
   "id": "4525ad3e",
   "metadata": {},
   "outputs": [
    {
     "name": "stdout",
     "output_type": "stream",
     "text": [
      "[[ 1.1]\n",
      " [ 1.3]\n",
      " [ 1.5]\n",
      " [ 2. ]\n",
      " [ 2.2]\n",
      " [ 2.9]\n",
      " [ 3. ]\n",
      " [ 3.2]\n",
      " [ 3.2]\n",
      " [ 3.7]\n",
      " [ 3.9]\n",
      " [ 4. ]\n",
      " [ 4. ]\n",
      " [ 4.1]\n",
      " [ 4.5]\n",
      " [ 4.9]\n",
      " [ 5.1]\n",
      " [ 5.3]\n",
      " [ 5.9]\n",
      " [ 6. ]\n",
      " [ 6.8]\n",
      " [ 7.1]\n",
      " [ 7.9]\n",
      " [ 8.2]\n",
      " [ 8.7]\n",
      " [ 9. ]\n",
      " [ 9.5]\n",
      " [ 9.6]\n",
      " [10.3]\n",
      " [10.5]]\n",
      "[ 39343  46205  37731  43525  39891  56642  60150  54445  64445  57189\n",
      "  63218  55794  56957  57081  61111  67938  66029  83088  81363  93940\n",
      "  91738  98273 101302 113812 109431 105582 116969 112635 122391 121872]\n"
     ]
    }
   ],
   "source": [
    "print(x)\n",
    "print(y)"
   ]
  },
  {
   "cell_type": "code",
   "execution_count": 10,
   "id": "5b603d04",
   "metadata": {},
   "outputs": [
    {
     "data": {
      "image/png": "[encoded data removed]",
      "text/plain": [
       "<Figure size 432x288 with 1 Axes>"
      ]
     },
     "metadata": {
      "needs_background": "light"
     },
     "output_type": "display_data"
    }
   ],
   "source": [
    "plt.scatter(x,y)\n",
    "plt.plot(x,y)\n",
    "plt.grid(True)\n",
    "plt.show()"
   ]
  },
  {
   "cell_type": "code",
   "execution_count": 11,
   "id": "e51c986d",
   "metadata": {},
   "outputs": [],
   "source": [
    "# spliting in to test and train\n",
    "# for train it takes 80% of data\n",
    "# for test it takes 20% of data\n",
    "x_train,x_test,y_train,y_test=train_test_split(x,y,test_size=0.2,random_state=0)"
   ]
  },
  {
   "cell_type": "code",
   "execution_count": 12,
   "id": "47f9d016",
   "metadata": {},
   "outputs": [
    {
     "data": {
      "text/plain": [
       "LinearRegression()"
      ]
     },
     "execution_count": 12,
     "metadata": {},
     "output_type": "execute_result"
    }
   ],
   "source": [
    "# taking linearRegression in to model variable\n",
    "model=LinearRegression()\n",
    "# fitting the model\n",
    "model.fit(x_train,y_train)"
   ]
  },
  {
   "cell_type": "code",
   "execution_count": 13,
   "id": "a57f0449",
   "metadata": {},
   "outputs": [],
   "source": [
    "# prediction\n",
    "y_pred=model.predict(x_test)"
   ]
  },
  {
   "cell_type": "code",
   "execution_count": 14,
   "id": "defa628a",
   "metadata": {},
   "outputs": [
    {
     "data": {
      "text/plain": [
       "array([54717.82453082])"
      ]
     },
     "execution_count": 14,
     "metadata": {},
     "output_type": "execute_result"
    }
   ],
   "source": [
    "# checking the prediction with random index value\n",
    "model.predict([x[6]])"
   ]
  },
  {
   "cell_type": "code",
   "execution_count": 15,
   "id": "aaa082b7",
   "metadata": {},
   "outputs": [
    {
     "data": {
      "text/plain": [
       "array([ 37731, 122391,  57081,  63218, 116969, 109431], dtype=int64)"
      ]
     },
     "execution_count": 15,
     "metadata": {},
     "output_type": "execute_result"
    }
   ],
   "source": [
    "y_test"
   ]
  },
  {
   "cell_type": "code",
   "execution_count": 16,
   "id": "68fd67b5",
   "metadata": {},
   "outputs": [
    {
     "data": {
      "text/plain": [
       "array([60150], dtype=int64)"
      ]
     },
     "execution_count": 16,
     "metadata": {},
     "output_type": "execute_result"
    }
   ],
   "source": [
    "y[[6]]"
   ]
  },
  {
   "cell_type": "code",
   "execution_count": 17,
   "id": "63c9da91",
   "metadata": {
    "scrolled": true
   },
   "outputs": [
    {
     "data": {
      "text/plain": [
       "[<matplotlib.lines.Line2D at 0x26ea21cd6d0>]"
      ]
     },
     "execution_count": 17,
     "metadata": {},
     "output_type": "execute_result"
    },
    {
     "data": {
      "image/png": "[encoded data removed]",
      "text/plain": [
       "<Figure size 432x288 with 1 Axes>"
      ]
     },
     "metadata": {
      "needs_background": "light"
     },
     "output_type": "display_data"
    }
   ],
   "source": [
    "#lets plot the result\n",
    "actual=y_test\n",
    "act_res=plt.scatter(actual,actual,alpha=0.6,label='actual vales',color='red')\n",
    "\n",
    "pred=y_pred\n",
    "pred_res=plt.scatter(actual,pred,alpha=0.6,label='predicted vales',color='green')\n",
    "\n",
    "#reference line\n",
    "fit=np.poly1d(np.polyfit(actual,actual,1))\n",
    "lims=np.linspace(min(actual) -1,max(actual+1))\n",
    "plt.plot(lims,fit(lims),alpha=0.6,color='black')"
   ]
  },
  {
   "cell_type": "code",
   "execution_count": 19,
   "id": "7dd2efd4",
   "metadata": {},
   "outputs": [
    {
     "name": "stdout",
     "output_type": "stream",
     "text": [
      "MAE 2446.1723690465064\n"
     ]
    }
   ],
   "source": [
    "# Mean Absolute Error\n",
    "from sklearn.metrics import mean_absolute_error\n",
    "print('MAE',mean_absolute_error(y_test,y_pred))"
   ]
  },
  {
   "cell_type": "markdown",
   "id": "c739d9ea",
   "metadata": {},
   "source": [
    "The mean absolute error id quite bigger than the data mean"
   ]
  },
  {
   "cell_type": "code",
   "execution_count": 22,
   "id": "7e6797b4",
   "metadata": {},
   "outputs": [
    {
     "name": "stdout",
     "output_type": "stream",
     "text": [
      "MSE 12823412.298126562\n"
     ]
    }
   ],
   "source": [
    "# Mean Square Error\n",
    "# the square of the error is shown\n",
    "from sklearn.metrics import mean_squared_error\n",
    "print('MSE',mean_squared_error(y_test,y_pred))"
   ]
  },
  {
   "cell_type": "code",
   "execution_count": 28,
   "id": "b0876b8c",
   "metadata": {
    "scrolled": true
   },
   "outputs": [
    {
     "name": "stdout",
     "output_type": "stream",
     "text": [
      "RMSE 3580.979237321345\n"
     ]
    }
   ],
   "source": [
    "# Root Mean Square Error\n",
    "print('RMSE',np.sqrt(mean_squared_error(y_test,y_pred)))"
   ]
  },
  {
   "cell_type": "markdown",
   "id": "91b9caa1",
   "metadata": {},
   "source": [
    "the rmse is also larger than the MAE"
   ]
  },
  {
   "cell_type": "code",
   "execution_count": 36,
   "id": "c55891e0",
   "metadata": {},
   "outputs": [
    {
     "name": "stdout",
     "output_type": "stream",
     "text": [
      "R2_error 0.988169515729126\n"
     ]
    }
   ],
   "source": [
    "# R square error\n",
    "from sklearn.metrics import r2_score\n",
    "print('R2_error',r2_score(y_test,y_pred))"
   ]
  },
  {
   "cell_type": "markdown",
   "id": "b2dcf43e",
   "metadata": {},
   "source": [
    "1. r2= varaince by model / total variance (square value)\n",
    "2. r ranges from 0-1\n",
    "3. 0 = model doesnt able to explain the any of the varaince in the response"
   ]
  },
  {
   "cell_type": "code",
   "execution_count": 45,
   "id": "857b6492",
   "metadata": {},
   "outputs": [
    {
     "data": {
      "text/plain": [
       "-7737.449719478223"
      ]
     },
     "execution_count": 45,
     "metadata": {},
     "output_type": "execute_result"
    }
   ],
   "source": [
    "(y_test - y_pred).sum()"
   ]
  },
  {
   "cell_type": "code",
   "execution_count": 46,
   "id": "47e8f290",
   "metadata": {},
   "outputs": [
    {
     "data": {
      "text/plain": [
       "76940473.78875937"
      ]
     },
     "execution_count": 46,
     "metadata": {},
     "output_type": "execute_result"
    }
   ],
   "source": [
    "sum((y_test - y_pred)**2)"
   ]
  },
  {
   "cell_type": "code",
   "execution_count": 49,
   "id": "7b62b97a",
   "metadata": {},
   "outputs": [
    {
     "data": {
      "text/plain": [
       "0.9998994358971492"
      ]
     },
     "execution_count": 49,
     "metadata": {},
     "output_type": "execute_result"
    }
   ],
   "source": [
    "1-7737.449719478223/76940473.78875937"
   ]
  },
  {
   "cell_type": "code",
   "execution_count": null,
   "id": "72042d7a",
   "metadata": {},
   "outputs": [],
   "source": []
  }
 ],
 "metadata": {
  "kernelspec": {
   "display_name": "Python 3",
   "language": "python",
   "name": "python3"
  },
  "language_info": {
   "codemirror_mode": {
    "name": "ipython",
    "version": 3
   },
   "file_extension": ".py",
   "mimetype": "text/x-python",
   "name": "python",
   "nbconvert_exporter": "python",
   "pygments_lexer": "ipython3",
   "version": "3.8.8"
  }
 },
 "nbformat": 4,
 "nbformat_minor": 5
}
