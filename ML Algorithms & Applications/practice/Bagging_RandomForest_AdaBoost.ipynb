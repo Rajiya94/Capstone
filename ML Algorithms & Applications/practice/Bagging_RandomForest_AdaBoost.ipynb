{
 "cells": [
  {
   "cell_type": "code",
   "execution_count": 7,
   "id": "de96e3a8",
   "metadata": {},
   "outputs": [],
   "source": [
    "from sklearn import datasets\n",
    "import numpy as np\n",
    "iris = datasets.load_iris()\n",
    "X, y = iris.data[:, 1:3], iris.target"
   ]
  },
  {
   "cell_type": "code",
   "execution_count": 8,
   "id": "e84a0f92",
   "metadata": {},
   "outputs": [],
   "source": [
    "from sklearn.model_selection import train_test_split\n",
    "X_train,X_test,y_train,y_test=train_test_split(X,y,test_size=0.25,random_state=0)"
   ]
  },
  {
   "cell_type": "code",
   "execution_count": 9,
   "id": "02148883",
   "metadata": {},
   "outputs": [
    {
     "data": {
      "text/plain": [
       "0.8947368421052632"
      ]
     },
     "execution_count": 9,
     "metadata": {},
     "output_type": "execute_result"
    }
   ],
   "source": [
    "from sklearn.ensemble import BaggingClassifier\n",
    "from sklearn import tree\n",
    "model= BaggingClassifier(tree.DecisionTreeClassifier(random_state=1))\n",
    "model.fit(X_train,y_train)\n",
    "model.score(X_test,y_test)"
   ]
  },
  {
   "cell_type": "code",
   "execution_count": 10,
   "id": "eecf5c65",
   "metadata": {},
   "outputs": [
    {
     "data": {
      "text/plain": [
       "0.8999024390243903"
      ]
     },
     "execution_count": 10,
     "metadata": {},
     "output_type": "execute_result"
    }
   ],
   "source": [
    "from sklearn.ensemble import BaggingRegressor\n",
    "from sklearn import tree\n",
    "model= BaggingRegressor(tree.DecisionTreeRegressor(random_state=1))\n",
    "model.fit(X_train,y_train)\n",
    "model.score(X_test,y_test)"
   ]
  },
  {
   "cell_type": "code",
   "execution_count": 12,
   "id": "cb284a38",
   "metadata": {},
   "outputs": [
    {
     "name": "stdout",
     "output_type": "stream",
     "text": [
      "Number of trees:  100\n"
     ]
    }
   ],
   "source": [
    "from sklearn.ensemble import RandomForestClassifier\n",
    "from sklearn import tree\n",
    "from sklearn.metrics import accuracy_score\n",
    "model=RandomForestClassifier()\n",
    "\n",
    "model.fit(X_train,y_train)\n",
    "print('Number of trees: ',model.n_estimators)"
   ]
  },
  {
   "cell_type": "markdown",
   "id": "23096002",
   "metadata": {},
   "source": [
    "Predicting and Accuracy on Train Data"
   ]
  },
  {
   "cell_type": "code",
   "execution_count": 13,
   "id": "4ea5a1d7",
   "metadata": {},
   "outputs": [
    {
     "name": "stdout",
     "output_type": "stream",
     "text": [
      "\n",
      " Target on train data [1 1 2 0 2 0 0 1 2 2 2 2 1 2 1 1 2 2 2 2 1 2 1 0 2 1 1 1 1 2 0 0 2 1 0 0 1\n",
      " 0 2 1 0 1 2 1 0 2 2 2 2 0 0 2 2 0 2 0 2 2 0 0 2 0 0 0 1 2 2 0 0 0 1 1 0 0\n",
      " 1 0 2 1 2 1 0 2 0 2 0 0 2 0 2 1 1 1 2 2 1 1 0 1 2 2 0 1 1 1 1 0 0 0 2 1 2\n",
      " 0]\n"
     ]
    }
   ],
   "source": [
    "predict_train=model.predict(X_train)\n",
    "print('\\n Target on train data',predict_train)"
   ]
  },
  {
   "cell_type": "code",
   "execution_count": 14,
   "id": "c0c29a16",
   "metadata": {},
   "outputs": [
    {
     "name": "stdout",
     "output_type": "stream",
     "text": [
      "\n",
      "Accuracy score on train data: 1.0\n"
     ]
    }
   ],
   "source": [
    "accuracy_train=accuracy_score(y_train,predict_train)\n",
    "print('\\nAccuracy score on train data:',accuracy_train)"
   ]
  },
  {
   "cell_type": "markdown",
   "id": "62e47f62",
   "metadata": {},
   "source": [
    "Predict and Accuracy on Test Data"
   ]
  },
  {
   "cell_type": "code",
   "execution_count": 15,
   "id": "ddb008e4",
   "metadata": {},
   "outputs": [
    {
     "name": "stdout",
     "output_type": "stream",
     "text": [
      "\n",
      "Target on test data [2 1 0 2 0 2 0 1 2 1 2 1 1 1 1 0 1 1 0 0 2 1 0 0 2 0 0 1 1 0 2 1 0 1 2 1 0\n",
      " 2]\n"
     ]
    }
   ],
   "source": [
    "predict_test=model.predict(X_test)\n",
    "print('\\nTarget on test data',predict_test)"
   ]
  },
  {
   "cell_type": "code",
   "execution_count": 16,
   "id": "c25210d5",
   "metadata": {},
   "outputs": [
    {
     "name": "stdout",
     "output_type": "stream",
     "text": [
      "\n",
      "Accuracy score on train data: 0.9210526315789473\n"
     ]
    }
   ],
   "source": [
    "accuracy_test=accuracy_score(y_test,predict_test)\n",
    "print('\\nAccuracy score on train data:',accuracy_test)"
   ]
  },
  {
   "cell_type": "markdown",
   "id": "77533c05",
   "metadata": {},
   "source": [
    "AdaBoostClassifier"
   ]
  },
  {
   "cell_type": "code",
   "execution_count": 22,
   "id": "7b793229",
   "metadata": {},
   "outputs": [],
   "source": [
    "from sklearn.ensemble import AdaBoostClassifier\n",
    "\n",
    "ada_boost_clf= AdaBoostClassifier(n_estimators=30)\n",
    "ada_boost_clf.fit(X_train,y_train)\n",
    "y_pred=ada_boost_clf.predict(X_test)"
   ]
  },
  {
   "cell_type": "code",
   "execution_count": 23,
   "id": "4c3d2345",
   "metadata": {},
   "outputs": [
    {
     "name": "stdout",
     "output_type": "stream",
     "text": [
      "[[13  0  0]\n",
      " [ 0 15  1]\n",
      " [ 0  8  1]]\n",
      "0.76\n"
     ]
    }
   ],
   "source": [
    "from sklearn.metrics import confusion_matrix, accuracy_score\n",
    "cm=confusion_matrix(y_test,y_pred)\n",
    "print(cm)\n",
    "print(round(accuracy_score(y_test,y_pred),2))"
   ]
  },
  {
   "cell_type": "code",
   "execution_count": 25,
   "id": "f62138ed",
   "metadata": {},
   "outputs": [],
   "source": [
    "#print(f\"Classification Report:\\n{clf_report}\")"
   ]
  },
  {
   "cell_type": "code",
   "execution_count": 29,
   "id": "6f714e6f",
   "metadata": {},
   "outputs": [
    {
     "data": {
      "text/plain": [
       "0.7740288474183609"
      ]
     },
     "execution_count": 29,
     "metadata": {},
     "output_type": "execute_result"
    }
   ],
   "source": [
    "from sklearn.ensemble import GradientBoostingRegressor\n",
    "model=GradientBoostingRegressor(learning_rate=0.01,random_state=1)\n",
    "model.fit(X_train,y_train)\n",
    "model.score(X_test,y_test)"
   ]
  },
  {
   "cell_type": "code",
   "execution_count": 30,
   "id": "d1f54f0a",
   "metadata": {},
   "outputs": [
    {
     "data": {
      "text/plain": [
       "0.7645140258285515"
      ]
     },
     "execution_count": 30,
     "metadata": {},
     "output_type": "execute_result"
    }
   ],
   "source": [
    "import xgboost as xgb\n",
    "model=xgb.XGBRegressor(random_state=1,learning_rate=0.01)\n",
    "model.fit(X_train,y_train)\n",
    "model.score(X_test,y_test)"
   ]
  },
  {
   "cell_type": "code",
   "execution_count": 31,
   "id": "39573827",
   "metadata": {},
   "outputs": [
    {
     "name": "stdout",
     "output_type": "stream",
     "text": [
      "[15:27:03] WARNING: C:/Users/Administrator/workspace/xgboost-win64_release_1.5.0/src/learner.cc:1115: Starting in XGBoost 1.3.0, the default evaluation metric used with the objective 'multi:softprob' was changed from 'merror' to 'mlogloss'. Explicitly set eval_metric if you'd like to restore the old behavior.\n"
     ]
    },
    {
     "name": "stderr",
     "output_type": "stream",
     "text": [
      "C:\\Users\\komajha\\Anaconda3\\lib\\site-packages\\xgboost\\sklearn.py:1224: UserWarning: The use of label encoder in XGBClassifier is deprecated and will be removed in a future release. To remove this warning, do the following: 1) Pass option use_label_encoder=False when constructing XGBClassifier object; and 2) Encode your labels (y) as integers starting with 0, i.e. 0, 1, 2, ..., [num_class - 1].\n",
      "  warnings.warn(label_encoder_deprecation_msg, UserWarning)\n"
     ]
    },
    {
     "data": {
      "text/plain": [
       "0.8947368421052632"
      ]
     },
     "execution_count": 31,
     "metadata": {},
     "output_type": "execute_result"
    }
   ],
   "source": [
    "model=xgb.XGBClassifier(random_state=1,learning_rate=0.01)\n",
    "model.fit(X_train,y_train)\n",
    "model.score(X_test,y_test)"
   ]
  },
  {
   "cell_type": "code",
   "execution_count": 33,
   "id": "bfc079dd",
   "metadata": {},
   "outputs": [],
   "source": [
    "from sklearn.model_selection import GridSearchCV, RandomizedSearchCV"
   ]
  },
  {
   "cell_type": "code",
   "execution_count": 34,
   "id": "2fae7b25",
   "metadata": {},
   "outputs": [],
   "source": [
    "grid_search=GridSearchCV(RandomForestClassifier(random_state=0),\n",
    "{\n",
    "    'n_estimators':np.arange(5,100,5),\n",
    "    'max_features':np.arange(0.1,1.0,0.05),\n",
    "},cv=5, scoring=\"r2\",verbose=1,n_jobs=-1)\n"
   ]
  },
  {
   "cell_type": "code",
   "execution_count": 35,
   "id": "779add79",
   "metadata": {},
   "outputs": [
    {
     "name": "stdout",
     "output_type": "stream",
     "text": [
      "Fitting 5 folds for each of 342 candidates, totalling 1710 fits\n"
     ]
    },
    {
     "data": {
      "text/plain": [
       "GridSearchCV(cv=5, estimator=RandomForestClassifier(random_state=0), n_jobs=-1,\n",
       "             param_grid={'max_features': array([0.1 , 0.15, 0.2 , 0.25, 0.3 , 0.35, 0.4 , 0.45, 0.5 , 0.55, 0.6 ,\n",
       "       0.65, 0.7 , 0.75, 0.8 , 0.85, 0.9 , 0.95]),\n",
       "                         'n_estimators': array([ 5, 10, 15, 20, 25, 30, 35, 40, 45, 50, 55, 60, 65, 70, 75, 80, 85,\n",
       "       90, 95])},\n",
       "             scoring='r2', verbose=1)"
      ]
     },
     "execution_count": 35,
     "metadata": {},
     "output_type": "execute_result"
    }
   ],
   "source": [
    "grid_search.fit(X_train,y_train)"
   ]
  },
  {
   "cell_type": "code",
   "execution_count": 36,
   "id": "51c5716e",
   "metadata": {},
   "outputs": [
    {
     "data": {
      "text/plain": [
       "0.9482522796352584"
      ]
     },
     "execution_count": 36,
     "metadata": {},
     "output_type": "execute_result"
    }
   ],
   "source": [
    "grid_search.best_score_"
   ]
  },
  {
   "cell_type": "code",
   "execution_count": 37,
   "id": "d961a58b",
   "metadata": {},
   "outputs": [
    {
     "data": {
      "text/plain": [
       "array([[3. , 4.2],\n",
       "       [2.6, 4. ],\n",
       "       [3. , 5.5],\n",
       "       [3.2, 1.3],\n",
       "       [3.1, 5.1],\n",
       "       [3.5, 1.6],\n",
       "       [3.7, 1.5],\n",
       "       [2. , 3.5],\n",
       "       [3. , 5.5],\n",
       "       [3.3, 5.7],\n",
       "       [2.2, 5. ],\n",
       "       [2.5, 5.8],\n",
       "       [2.5, 3.9],\n",
       "       [3. , 6.1],\n",
       "       [3.3, 4.7],\n",
       "       [2.4, 3.8],\n",
       "       [2.7, 4.9],\n",
       "       [2.8, 5.1],\n",
       "       [2.5, 4.5],\n",
       "       [2.5, 5. ],\n",
       "       [3.2, 4.7],\n",
       "       [3. , 5.2],\n",
       "       [3.4, 4.5],\n",
       "       [3.1, 1.6],\n",
       "       [2.7, 5.1],\n",
       "       [2.7, 4.2],\n",
       "       [2.9, 3.6],\n",
       "       [2.5, 4. ],\n",
       "       [3. , 4.6],\n",
       "       [3.2, 6. ],\n",
       "       [3.7, 1.5],\n",
       "       [3. , 1.1],\n",
       "       [2.7, 5.3],\n",
       "       [3. , 4.2],\n",
       "       [3.4, 1.7],\n",
       "       [4.4, 1.5],\n",
       "       [3.1, 4.9],\n",
       "       [3.1, 1.5],\n",
       "       [3. , 5.1],\n",
       "       [2.5, 3. ],\n",
       "       [3.4, 1.4],\n",
       "       [2.2, 4.5],\n",
       "       [3.6, 6.1],\n",
       "       [2.9, 4.2],\n",
       "       [3. , 1.4],\n",
       "       [3. , 5.9],\n",
       "       [3.2, 5.7],\n",
       "       [3. , 5.8],\n",
       "       [2.8, 5.6],\n",
       "       [3.8, 1.6],\n",
       "       [3.4, 1.6],\n",
       "       [3.2, 5.1],\n",
       "       [3.3, 5.7],\n",
       "       [2.3, 1.3],\n",
       "       [3.4, 5.4],\n",
       "       [3. , 1.4],\n",
       "       [2.5, 5. ],\n",
       "       [3.1, 5.4],\n",
       "       [3.2, 1.3],\n",
       "       [3.6, 1.4],\n",
       "       [3. , 5.8],\n",
       "       [3.5, 1.4],\n",
       "       [3. , 1.3],\n",
       "       [3.9, 1.7],\n",
       "       [2.3, 4. ],\n",
       "       [3.2, 5.9],\n",
       "       [3. , 6.6],\n",
       "       [3.5, 1.4],\n",
       "       [3.1, 1.5],\n",
       "       [3.4, 1.4],\n",
       "       [2.8, 4.5],\n",
       "       [3. , 4.4],\n",
       "       [3.2, 1.2],\n",
       "       [3.3, 1.7],\n",
       "       [2.9, 4.3],\n",
       "       [3.4, 1.5],\n",
       "       [2.6, 6.9],\n",
       "       [2.4, 3.3],\n",
       "       [3.8, 6.4],\n",
       "       [3.1, 4.4],\n",
       "       [4.1, 1.5],\n",
       "       [3. , 4.8],\n",
       "       [4. , 1.2],\n",
       "       [2.8, 6.7],\n",
       "       [3.8, 1.5],\n",
       "       [3.2, 1.6],\n",
       "       [2.8, 6.1],\n",
       "       [3.3, 1.4],\n",
       "       [3.4, 5.6],\n",
       "       [2.8, 4.1],\n",
       "       [2.7, 3.9],\n",
       "       [2.6, 3.5],\n",
       "       [3.2, 5.3],\n",
       "       [3. , 5.2],\n",
       "       [2.5, 4.9],\n",
       "       [3. , 5. ],\n",
       "       [3. , 1.6],\n",
       "       [2.4, 3.7],\n",
       "       [3.1, 5.6],\n",
       "       [2.7, 5.1],\n",
       "       [3.4, 1.5],\n",
       "       [2.9, 4.6],\n",
       "       [3. , 4.1],\n",
       "       [3.2, 4.8],\n",
       "       [2.3, 4.4],\n",
       "       [3.5, 1.3],\n",
       "       [3.7, 1.5],\n",
       "       [3.1, 1.5],\n",
       "       [2.9, 5.6],\n",
       "       [2.7, 4.1],\n",
       "       [3.8, 6.7],\n",
       "       [3.2, 1.4]])"
      ]
     },
     "execution_count": 37,
     "metadata": {},
     "output_type": "execute_result"
    }
   ],
   "source": [
    "X_train"
   ]
  },
  {
   "cell_type": "code",
   "execution_count": 38,
   "id": "9cc71084",
   "metadata": {},
   "outputs": [
    {
     "data": {
      "text/plain": [
       "array([1, 1, 2, 0, 2, 0, 0, 1, 2, 2, 2, 2, 1, 2, 1, 1, 2, 2, 2, 2, 1, 2,\n",
       "       1, 0, 2, 1, 1, 1, 1, 2, 0, 0, 2, 1, 0, 0, 1, 0, 2, 1, 0, 1, 2, 1,\n",
       "       0, 2, 2, 2, 2, 0, 0, 2, 2, 0, 2, 0, 2, 2, 0, 0, 2, 0, 0, 0, 1, 2,\n",
       "       2, 0, 0, 0, 1, 1, 0, 0, 1, 0, 2, 1, 2, 1, 0, 2, 0, 2, 0, 0, 2, 0,\n",
       "       2, 1, 1, 1, 2, 2, 1, 1, 0, 1, 2, 2, 0, 1, 1, 1, 1, 0, 0, 0, 2, 1,\n",
       "       2, 0])"
      ]
     },
     "execution_count": 38,
     "metadata": {},
     "output_type": "execute_result"
    }
   ],
   "source": [
    "y_train"
   ]
  },
  {
   "cell_type": "code",
   "execution_count": 39,
   "id": "2e6f283a",
   "metadata": {},
   "outputs": [
    {
     "data": {
      "text/plain": [
       "numpy.ndarray"
      ]
     },
     "execution_count": 39,
     "metadata": {},
     "output_type": "execute_result"
    }
   ],
   "source": [
    "type(X_train)"
   ]
  },
  {
   "cell_type": "code",
   "execution_count": 40,
   "id": "4435689c",
   "metadata": {},
   "outputs": [
    {
     "data": {
      "text/plain": [
       "numpy.ndarray"
      ]
     },
     "execution_count": 40,
     "metadata": {},
     "output_type": "execute_result"
    }
   ],
   "source": [
    "type(y_train)"
   ]
  },
  {
   "cell_type": "code",
   "execution_count": null,
   "id": "bd74f374",
   "metadata": {},
   "outputs": [],
   "source": []
  }
 ],
 "metadata": {
  "kernelspec": {
   "display_name": "Python 3",
   "language": "python",
   "name": "python3"
  },
  "language_info": {
   "codemirror_mode": {
    "name": "ipython",
    "version": 3
   },
   "file_extension": ".py",
   "mimetype": "text/x-python",
   "name": "python",
   "nbconvert_exporter": "python",
   "pygments_lexer": "ipython3",
   "version": "3.8.8"
  }
 },
 "nbformat": 4,
 "nbformat_minor": 5
}
