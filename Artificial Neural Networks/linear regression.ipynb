{
 "cells": [
  {
   "cell_type": "code",
   "execution_count": 85,
   "metadata": {
    "id": "MxkJoQBkUIHC"
   },
   "outputs": [],
   "source": [
    "import numpy as np\n",
    "import pandas as pd\n",
    "import tensorflow as tf\n",
    "import matplotlib as plt\n",
    "import seaborn as sns\n",
    "import warnings\n",
    "warnings.filterwarnings('ignore')"
   ]
  },
  {
   "cell_type": "code",
   "execution_count": 86,
   "metadata": {},
   "outputs": [
    {
     "data": {
      "text/html": [
       "<div>\n",
       "<style scoped>\n",
       "    .dataframe tbody tr th:only-of-type {\n",
       "        vertical-align: middle;\n",
       "    }\n",
       "\n",
       "    .dataframe tbody tr th {\n",
       "        vertical-align: top;\n",
       "    }\n",
       "\n",
       "    .dataframe thead th {\n",
       "        text-align: right;\n",
       "    }\n",
       "</style>\n",
       "<table border=\"1\" class=\"dataframe\">\n",
       "  <thead>\n",
       "    <tr style=\"text-align: right;\">\n",
       "      <th></th>\n",
       "      <th>X</th>\n",
       "      <th>y</th>\n",
       "    </tr>\n",
       "  </thead>\n",
       "  <tbody>\n",
       "    <tr>\n",
       "      <th>0</th>\n",
       "      <td>230.1</td>\n",
       "      <td>22.1</td>\n",
       "    </tr>\n",
       "    <tr>\n",
       "      <th>1</th>\n",
       "      <td>44.5</td>\n",
       "      <td>10.4</td>\n",
       "    </tr>\n",
       "    <tr>\n",
       "      <th>2</th>\n",
       "      <td>17.2</td>\n",
       "      <td>9.3</td>\n",
       "    </tr>\n",
       "    <tr>\n",
       "      <th>3</th>\n",
       "      <td>151.5</td>\n",
       "      <td>18.5</td>\n",
       "    </tr>\n",
       "    <tr>\n",
       "      <th>4</th>\n",
       "      <td>180.8</td>\n",
       "      <td>12.9</td>\n",
       "    </tr>\n",
       "  </tbody>\n",
       "</table>\n",
       "</div>"
      ],
      "text/plain": [
       "       X     y\n",
       "0  230.1  22.1\n",
       "1   44.5  10.4\n",
       "2   17.2   9.3\n",
       "3  151.5  18.5\n",
       "4  180.8  12.9"
      ]
     },
     "execution_count": 86,
     "metadata": {},
     "output_type": "execute_result"
    }
   ],
   "source": [
    "df = pd.read_csv('data.csv')\n",
    "df.head()"
   ]
  },
  {
   "cell_type": "code",
   "execution_count": 87,
   "metadata": {
    "id": "MXUkhkMfU4wq"
   },
   "outputs": [],
   "source": [
    "X=df['X']\n",
    "y=df['y']"
   ]
  },
  {
   "cell_type": "code",
   "execution_count": 88,
   "metadata": {
    "id": "VYP9cQTWbzuI",
    "scrolled": true
   },
   "outputs": [
    {
     "data": {
      "text/plain": [
       "<AxesSubplot:xlabel='X', ylabel='y'>"
      ]
     },
     "execution_count": 88,
     "metadata": {},
     "output_type": "execute_result"
    },
    {
     "data": {
      "image/png": "[encoded data removed]",
      "text/plain": [
       "<Figure size 432x288 with 1 Axes>"
      ]
     },
     "metadata": {
      "needs_background": "light"
     },
     "output_type": "display_data"
    }
   ],
   "source": [
    "sns.scatterplot(X,y)"
   ]
  },
  {
   "cell_type": "code",
   "execution_count": 89,
   "metadata": {},
   "outputs": [],
   "source": [
    "import tensorflow as tf\n",
    "ann=tf.keras.models.Sequential()"
   ]
  },
  {
   "cell_type": "code",
   "execution_count": 90,
   "metadata": {
    "id": "38vKGE6Nb2RR"
   },
   "outputs": [],
   "source": [
    "ann.add(tf.keras.layers.Dense(1,input_shape=[1]))"
   ]
  },
  {
   "cell_type": "code",
   "execution_count": 93,
   "metadata": {},
   "outputs": [],
   "source": [
    "ann.compile(optimizer='adam',loss='mean_squared_error')"
   ]
  },
  {
   "cell_type": "code",
   "execution_count": 94,
   "metadata": {},
   "outputs": [
    {
     "name": "stdout",
     "output_type": "stream",
     "text": [
      "Model: \"sequential_3\"\n",
      "_________________________________________________________________\n",
      "Layer (type)                 Output Shape              Param #   \n",
      "=================================================================\n",
      "dense_5 (Dense)              (None, 1)                 2         \n",
      "=================================================================\n",
      "Total params: 2\n",
      "Trainable params: 2\n",
      "Non-trainable params: 0\n",
      "_________________________________________________________________\n"
     ]
    }
   ],
   "source": [
    "ann.summary()"
   ]
  },
  {
   "cell_type": "code",
   "execution_count": 95,
   "metadata": {},
   "outputs": [
    {
     "name": "stdout",
     "output_type": "stream",
     "text": [
      "Epoch 1/100\n",
      "7/7 [==============================] - 0s 837us/step - loss: 738.2110\n",
      "Epoch 2/100\n",
      "7/7 [==============================] - 0s 831us/step - loss: 676.9793\n",
      "Epoch 3/100\n",
      "7/7 [==============================] - 0s 831us/step - loss: 616.4979\n",
      "Epoch 4/100\n",
      "7/7 [==============================] - 0s 998us/step - loss: 563.2781\n",
      "Epoch 5/100\n",
      "7/7 [==============================] - 0s 831us/step - loss: 511.7730\n",
      "Epoch 6/100\n",
      "7/7 [==============================] - 0s 1ms/step - loss: 464.1812\n",
      "Epoch 7/100\n",
      "7/7 [==============================] - 0s 998us/step - loss: 419.0350\n",
      "Epoch 8/100\n",
      "7/7 [==============================] - 0s 1ms/step - loss: 378.6763\n",
      "Epoch 9/100\n",
      "7/7 [==============================] - 0s 1ms/step - loss: 340.2688\n",
      "Epoch 10/100\n",
      "7/7 [==============================] - 0s 1ms/step - loss: 306.0076\n",
      "Epoch 11/100\n",
      "7/7 [==============================] - 0s 1ms/step - loss: 274.1636\n",
      "Epoch 12/100\n",
      "7/7 [==============================] - 0s 1ms/step - loss: 246.1206\n",
      "Epoch 13/100\n",
      "7/7 [==============================] - 0s 1ms/step - loss: 219.4730\n",
      "Epoch 14/100\n",
      "7/7 [==============================] - 0s 1ms/step - loss: 196.7238\n",
      "Epoch 15/100\n",
      "7/7 [==============================] - 0s 1ms/step - loss: 175.1167\n",
      "Epoch 16/100\n",
      "7/7 [==============================] - 0s 1ms/step - loss: 156.2522\n",
      "Epoch 17/100\n",
      "7/7 [==============================] - 0s 1ms/step - loss: 139.0542\n",
      "Epoch 18/100\n",
      "7/7 [==============================] - 0s 1ms/step - loss: 123.8961\n",
      "Epoch 19/100\n",
      "7/7 [==============================] - 0s 1ms/step - loss: 110.4294\n",
      "Epoch 20/100\n",
      "7/7 [==============================] - 0s 2ms/step - loss: 98.7500\n",
      "Epoch 21/100\n",
      "7/7 [==============================] - 0s 998us/step - loss: 88.1446\n",
      "Epoch 22/100\n",
      "7/7 [==============================] - 0s 1ms/step - loss: 78.7908\n",
      "Epoch 23/100\n",
      "7/7 [==============================] - 0s 1ms/step - loss: 70.8062\n",
      "Epoch 24/100\n",
      "7/7 [==============================] - 0s 1ms/step - loss: 63.7243\n",
      "Epoch 25/100\n",
      "7/7 [==============================] - 0s 1ms/step - loss: 57.3648\n",
      "Epoch 26/100\n",
      "7/7 [==============================] - 0s 1ms/step - loss: 52.1150\n",
      "Epoch 27/100\n",
      "7/7 [==============================] - 0s 1ms/step - loss: 47.7018\n",
      "Epoch 28/100\n",
      "7/7 [==============================] - 0s 1ms/step - loss: 43.5877\n",
      "Epoch 29/100\n",
      "7/7 [==============================] - 0s 1ms/step - loss: 40.1991\n",
      "Epoch 30/100\n",
      "7/7 [==============================] - 0s 1ms/step - loss: 37.2110\n",
      "Epoch 31/100\n",
      "7/7 [==============================] - 0s 1ms/step - loss: 34.6882\n",
      "Epoch 32/100\n",
      "7/7 [==============================] - 0s 2ms/step - loss: 32.5522\n",
      "Epoch 33/100\n",
      "7/7 [==============================] - 0s 1ms/step - loss: 30.6818\n",
      "Epoch 34/100\n",
      "7/7 [==============================] - 0s 1ms/step - loss: 29.2276\n",
      "Epoch 35/100\n",
      "7/7 [==============================] - 0s 837us/step - loss: 27.9773\n",
      "Epoch 36/100\n",
      "7/7 [==============================] - 0s 998us/step - loss: 26.9695\n",
      "Epoch 37/100\n",
      "7/7 [==============================] - 0s 998us/step - loss: 26.1344\n",
      "Epoch 38/100\n",
      "7/7 [==============================] - 0s 1ms/step - loss: 25.4758\n",
      "Epoch 39/100\n",
      "7/7 [==============================] - 0s 1ms/step - loss: 24.8879\n",
      "Epoch 40/100\n",
      "7/7 [==============================] - 0s 1ms/step - loss: 24.4097\n",
      "Epoch 41/100\n",
      "7/7 [==============================] - 0s 1ms/step - loss: 24.0442\n",
      "Epoch 42/100\n",
      "7/7 [==============================] - 0s 1ms/step - loss: 23.6725\n",
      "Epoch 43/100\n",
      "7/7 [==============================] - 0s 1ms/step - loss: 23.3919\n",
      "Epoch 44/100\n",
      "7/7 [==============================] - 0s 2ms/step - loss: 23.1506\n",
      "Epoch 45/100\n",
      "7/7 [==============================] - 0s 1ms/step - loss: 23.0193\n",
      "Epoch 46/100\n",
      "7/7 [==============================] - 0s 1ms/step - loss: 22.8695\n",
      "Epoch 47/100\n",
      "7/7 [==============================] - 0s 1ms/step - loss: 22.7490\n",
      "Epoch 48/100\n",
      "7/7 [==============================] - 0s 1ms/step - loss: 22.6723\n",
      "Epoch 49/100\n",
      "7/7 [==============================] - 0s 1ms/step - loss: 22.6229\n",
      "Epoch 50/100\n",
      "7/7 [==============================] - 0s 1ms/step - loss: 22.5592\n",
      "Epoch 51/100\n",
      "7/7 [==============================] - 0s 1ms/step - loss: 22.5094\n",
      "Epoch 52/100\n",
      "7/7 [==============================] - 0s 1ms/step - loss: 22.4764\n",
      "Epoch 53/100\n",
      "7/7 [==============================] - 0s 1ms/step - loss: 22.4514\n",
      "Epoch 54/100\n",
      "7/7 [==============================] - 0s 1ms/step - loss: 22.4250\n",
      "Epoch 55/100\n",
      "7/7 [==============================] - 0s 1ms/step - loss: 22.4045\n",
      "Epoch 56/100\n",
      "7/7 [==============================] - 0s 1ms/step - loss: 22.3867\n",
      "Epoch 57/100\n",
      "7/7 [==============================] - 0s 1ms/step - loss: 22.3770\n",
      "Epoch 58/100\n",
      "7/7 [==============================] - 0s 1ms/step - loss: 22.3617\n",
      "Epoch 59/100\n",
      "7/7 [==============================] - 0s 996us/step - loss: 22.3557\n",
      "Epoch 60/100\n",
      "7/7 [==============================] - 0s 1ms/step - loss: 22.3515\n",
      "Epoch 61/100\n",
      "7/7 [==============================] - 0s 1ms/step - loss: 22.3458\n",
      "Epoch 62/100\n",
      "7/7 [==============================] - 0s 998us/step - loss: 22.3396\n",
      "Epoch 63/100\n",
      "7/7 [==============================] - 0s 1ms/step - loss: 22.3397\n",
      "Epoch 64/100\n",
      "7/7 [==============================] - 0s 1ms/step - loss: 22.3327\n",
      "Epoch 65/100\n",
      "7/7 [==============================] - 0s 1ms/step - loss: 22.3283\n",
      "Epoch 66/100\n",
      "7/7 [==============================] - 0s 1ms/step - loss: 22.3234\n",
      "Epoch 67/100\n",
      "7/7 [==============================] - 0s 1ms/step - loss: 22.3184\n",
      "Epoch 68/100\n",
      "7/7 [==============================] - 0s 1ms/step - loss: 22.3242\n",
      "Epoch 69/100\n",
      "7/7 [==============================] - 0s 1ms/step - loss: 22.3088\n",
      "Epoch 70/100\n",
      "7/7 [==============================] - 0s 997us/step - loss: 22.3072\n",
      "Epoch 71/100\n",
      "7/7 [==============================] - 0s 1ms/step - loss: 22.2986\n",
      "Epoch 72/100\n",
      "7/7 [==============================] - 0s 1ms/step - loss: 22.2941\n",
      "Epoch 73/100\n",
      "7/7 [==============================] - 0s 1ms/step - loss: 22.2950\n",
      "Epoch 74/100\n",
      "7/7 [==============================] - 0s 1ms/step - loss: 22.2887\n",
      "Epoch 75/100\n",
      "7/7 [==============================] - 0s 1ms/step - loss: 22.2806\n",
      "Epoch 76/100\n",
      "7/7 [==============================] - 0s 1ms/step - loss: 22.2781\n",
      "Epoch 77/100\n",
      "7/7 [==============================] - 0s 1ms/step - loss: 22.2895\n",
      "Epoch 78/100\n",
      "7/7 [==============================] - 0s 1ms/step - loss: 22.2678\n",
      "Epoch 79/100\n",
      "7/7 [==============================] - 0s 1ms/step - loss: 22.2676\n",
      "Epoch 80/100\n",
      "7/7 [==============================] - 0s 1ms/step - loss: 22.2549\n",
      "Epoch 81/100\n",
      "7/7 [==============================] - 0s 998us/step - loss: 22.2558\n",
      "Epoch 82/100\n",
      "7/7 [==============================] - 0s 1ms/step - loss: 22.2487\n",
      "Epoch 83/100\n",
      "7/7 [==============================] - 0s 1ms/step - loss: 22.2451\n",
      "Epoch 84/100\n",
      "7/7 [==============================] - 0s 1ms/step - loss: 22.2413\n",
      "Epoch 85/100\n",
      "7/7 [==============================] - 0s 1ms/step - loss: 22.2459\n",
      "Epoch 86/100\n",
      "7/7 [==============================] - 0s 1ms/step - loss: 22.2304\n",
      "Epoch 87/100\n",
      "7/7 [==============================] - 0s 1ms/step - loss: 22.2321\n",
      "Epoch 88/100\n",
      "7/7 [==============================] - 0s 1ms/step - loss: 22.2197\n",
      "Epoch 89/100\n",
      "7/7 [==============================] - 0s 1ms/step - loss: 22.2164\n",
      "Epoch 90/100\n",
      "7/7 [==============================] - 0s 1ms/step - loss: 22.2078\n",
      "Epoch 91/100\n",
      "7/7 [==============================] - 0s 1ms/step - loss: 22.2002\n",
      "Epoch 92/100\n",
      "7/7 [==============================] - 0s 1ms/step - loss: 22.1945\n",
      "Epoch 93/100\n",
      "7/7 [==============================] - 0s 1ms/step - loss: 22.1943\n",
      "Epoch 94/100\n",
      "7/7 [==============================] - 0s 1ms/step - loss: 22.1810\n",
      "Epoch 95/100\n",
      "7/7 [==============================] - 0s 1ms/step - loss: 22.1825\n",
      "Epoch 96/100\n",
      "7/7 [==============================] - 0s 1ms/step - loss: 22.1709\n",
      "Epoch 97/100\n",
      "7/7 [==============================] - 0s 1ms/step - loss: 22.1694\n",
      "Epoch 98/100\n",
      "7/7 [==============================] - 0s 1ms/step - loss: 22.1633\n",
      "Epoch 99/100\n",
      "7/7 [==============================] - 0s 1ms/step - loss: 22.1693\n",
      "Epoch 100/100\n",
      "7/7 [==============================] - 0s 1ms/step - loss: 22.1725\n"
     ]
    },
    {
     "data": {
      "text/plain": [
       "<keras.callbacks.History at 0x2347bec7df0>"
      ]
     },
     "execution_count": 95,
     "metadata": {},
     "output_type": "execute_result"
    }
   ],
   "source": [
    "ann.fit(X,y, epochs=100)"
   ]
  },
  {
   "cell_type": "code",
   "execution_count": 96,
   "metadata": {},
   "outputs": [
    {
     "data": {
      "text/plain": [
       "array([[1.6827757]], dtype=float32)"
      ]
     },
     "execution_count": 96,
     "metadata": {},
     "output_type": "execute_result"
    }
   ],
   "source": [
    "ann.predict([[17.2]])"
   ]
  },
  {
   "cell_type": "code",
   "execution_count": null,
   "metadata": {},
   "outputs": [],
   "source": []
  }
 ],
 "metadata": {
  "colab": {
   "collapsed_sections": [],
   "name": "artificial_neural_network.ipynb",
   "provenance": [],
   "toc_visible": true
  },
  "kernelspec": {
   "display_name": "Python 3",
   "language": "python",
   "name": "python3"
  },
  "language_info": {
   "codemirror_mode": {
    "name": "ipython",
    "version": 3
   },
   "file_extension": ".py",
   "mimetype": "text/x-python",
   "name": "python",
   "nbconvert_exporter": "python",
   "pygments_lexer": "ipython3",
   "version": "3.8.8"
  }
 },
 "nbformat": 4,
 "nbformat_minor": 1
}
