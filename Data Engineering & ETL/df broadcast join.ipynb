{
 "cells": [
  {
   "cell_type": "markdown",
   "metadata": {},
   "source": [
    "importing find spark and pyspark"
   ]
  },
  {
   "cell_type": "code",
   "execution_count": 1,
   "metadata": {},
   "outputs": [],
   "source": [
    "import findspark\n",
    "findspark.init('/usr/local/spark')\n",
    "import pyspark"
   ]
  },
  {
   "cell_type": "markdown",
   "metadata": {},
   "source": [
    "start sparksession"
   ]
  },
  {
   "cell_type": "code",
   "execution_count": 2,
   "metadata": {},
   "outputs": [],
   "source": [
    "from pyspark.sql import SparkSession\n",
    "spark=SparkSession.builder.appName(\"Python Spark SQL example\").getOrCreate()"
   ]
  },
  {
   "cell_type": "markdown",
   "metadata": {},
   "source": [
    "importing row types"
   ]
  },
  {
   "cell_type": "code",
   "execution_count": 3,
   "metadata": {},
   "outputs": [],
   "source": [
    "from pyspark.sql import Row"
   ]
  },
  {
   "cell_type": "markdown",
   "metadata": {},
   "source": [
    "adding the schema to the RDD to create dataFrame"
   ]
  },
  {
   "cell_type": "code",
   "execution_count": 4,
   "metadata": {},
   "outputs": [],
   "source": [
    "sc=spark.sparkContext"
   ]
  },
  {
   "cell_type": "markdown",
   "metadata": {},
   "source": [
    "creating a dataframe from sorce .csv file"
   ]
  },
  {
   "cell_type": "code",
   "execution_count": 5,
   "metadata": {},
   "outputs": [],
   "source": [
    "customerDF=spark.read.load(\"/home/hduser/Downloads/sharedfolder/customers.tsv\",format=\"csv\",sep=\"\\t\",inferschema=\"true\")\n",
    "salestxnsDF=spark.read.load(\"/home/hduser/Downloads/sharedfolder/salestxns.tsv\",format=\"csv\",sep=\"\\t\",inferschema=\"true\")"
   ]
  },
  {
   "cell_type": "markdown",
   "metadata": {},
   "source": [
    "Different types of operations on dataFrame"
   ]
  },
  {
   "cell_type": "code",
   "execution_count": 6,
   "metadata": {},
   "outputs": [
    {
     "name": "stdout",
     "output_type": "stream",
     "text": [
      "root\n",
      " |-- _c0: integer (nullable = true)\n",
      " |-- _c1: string (nullable = true)\n",
      " |-- _c2: string (nullable = true)\n",
      " |-- _c3: string (nullable = true)\n",
      " |-- _c4: integer (nullable = true)\n",
      "\n"
     ]
    }
   ],
   "source": [
    "customerDF.printSchema()"
   ]
  },
  {
   "cell_type": "code",
   "execution_count": 7,
   "metadata": {},
   "outputs": [
    {
     "name": "stdout",
     "output_type": "stream",
     "text": [
      "root\n",
      " |-- _c0: integer (nullable = true)\n",
      " |-- _c1: integer (nullable = true)\n",
      " |-- _c2: string (nullable = true)\n",
      " |-- _c3: integer (nullable = true)\n",
      " |-- _c4: string (nullable = true)\n",
      " |-- _c5: double (nullable = true)\n",
      " |-- _c6: integer (nullable = true)\n",
      " |-- _c7: integer (nullable = true)\n",
      "\n"
     ]
    }
   ],
   "source": [
    "salestxnsDF.printSchema()"
   ]
  },
  {
   "cell_type": "code",
   "execution_count": 8,
   "metadata": {},
   "outputs": [],
   "source": [
    "new_names_cDF = ['customer_id','customer_name','customer_city','customer_state','customer_zipcode']"
   ]
  },
  {
   "cell_type": "code",
   "execution_count": 9,
   "metadata": {},
   "outputs": [],
   "source": [
    "new_names_sDF = ['salestxn_id','category_id','category_name','product_id','product_name','product_price','product_quantity','customer_id']"
   ]
  },
  {
   "cell_type": "code",
   "execution_count": 10,
   "metadata": {},
   "outputs": [],
   "source": [
    "cDF2 = customerDF.toDF(*new_names_cDF)"
   ]
  },
  {
   "cell_type": "code",
   "execution_count": 11,
   "metadata": {},
   "outputs": [],
   "source": [
    "sDF2 = salestxnsDF.toDF(*new_names_sDF)"
   ]
  },
  {
   "cell_type": "code",
   "execution_count": 12,
   "metadata": {},
   "outputs": [
    {
     "name": "stdout",
     "output_type": "stream",
     "text": [
      "root\n",
      " |-- customer_id: integer (nullable = true)\n",
      " |-- customer_name: string (nullable = true)\n",
      " |-- customer_city: string (nullable = true)\n",
      " |-- customer_state: string (nullable = true)\n",
      " |-- customer_zipcode: integer (nullable = true)\n",
      "\n"
     ]
    }
   ],
   "source": [
    "cDF2.printSchema()"
   ]
  },
  {
   "cell_type": "code",
   "execution_count": 13,
   "metadata": {},
   "outputs": [
    {
     "name": "stdout",
     "output_type": "stream",
     "text": [
      "+-----------+--------------+-------------+--------------+----------------+\n",
      "|customer_id| customer_name|customer_city|customer_state|customer_zipcode|\n",
      "+-----------+--------------+-------------+--------------+----------------+\n",
      "|      11039|   Mary Torres|       Caguas|            PR|             725|\n",
      "|       5623|    Jose Haley|     Columbus|            OH|           43207|\n",
      "|       5829|    Mary Smith|      Houston|            TX|           77015|\n",
      "|       6336|Richard Maddox|       Caguas|            PR|             725|\n",
      "|       1708|Margaret Booth|    Arlington|            TX|           76010|\n",
      "+-----------+--------------+-------------+--------------+----------------+\n",
      "only showing top 5 rows\n",
      "\n"
     ]
    }
   ],
   "source": [
    "cDF2.show(5)"
   ]
  },
  {
   "cell_type": "code",
   "execution_count": 14,
   "metadata": {},
   "outputs": [
    {
     "name": "stdout",
     "output_type": "stream",
     "text": [
      "root\n",
      " |-- salestxn_id: integer (nullable = true)\n",
      " |-- category_id: integer (nullable = true)\n",
      " |-- category_name: string (nullable = true)\n",
      " |-- product_id: integer (nullable = true)\n",
      " |-- product_name: string (nullable = true)\n",
      " |-- product_price: double (nullable = true)\n",
      " |-- product_quantity: integer (nullable = true)\n",
      " |-- customer_id: integer (nullable = true)\n",
      "\n"
     ]
    }
   ],
   "source": [
    "sDF2.printSchema()"
   ]
  },
  {
   "cell_type": "code",
   "execution_count": 15,
   "metadata": {},
   "outputs": [
    {
     "name": "stdout",
     "output_type": "stream",
     "text": [
      "+-----------+-----------+----------------+----------+--------------------+-------------+----------------+-----------+\n",
      "|salestxn_id|category_id|   category_name|product_id|        product_name|product_price|product_quantity|customer_id|\n",
      "+-----------+-----------+----------------+----------+--------------------+-------------+----------------+-----------+\n",
      "|          1|         43|Camping & Hiking|       957|Diamondback Women...|       299.98|               1|      11599|\n",
      "|          2|         48|    Water Sports|      1073|Pelican Sunstream...|       199.99|               1|        256|\n",
      "|          3|         24| Women's Apparel|       502|Nike Men's Dri-FI...|         50.0|               5|        256|\n",
      "|          4|         18|  Men's Footwear|       403|Nike Men's CJ Eli...|       129.99|               1|        256|\n",
      "|          5|         40|     Accessories|       897|Team Golf New Eng...|        24.99|               2|       8827|\n",
      "+-----------+-----------+----------------+----------+--------------------+-------------+----------------+-----------+\n",
      "only showing top 5 rows\n",
      "\n"
     ]
    }
   ],
   "source": [
    "sDF2.show(5)"
   ]
  },
  {
   "cell_type": "code",
   "execution_count": 16,
   "metadata": {},
   "outputs": [],
   "source": [
    "jDF1=cDF2.join(sDF2,cDF2.customer_id==sDF2.customer_id)"
   ]
  },
  {
   "cell_type": "code",
   "execution_count": 17,
   "metadata": {},
   "outputs": [
    {
     "name": "stdout",
     "output_type": "stream",
     "text": [
      "== Parsed Logical Plan ==\n",
      "Join Inner, (customer_id#52 = customer_id#70)\n",
      ":- Project [_c0#12 AS customer_id#52, _c1#13 AS customer_name#53, _c2#14 AS customer_city#54, _c3#15 AS customer_state#55, _c4#16 AS customer_zipcode#56]\n",
      ":  +- Relation[_c0#12,_c1#13,_c2#14,_c3#15,_c4#16] csv\n",
      "+- Project [_c0#35 AS salestxn_id#63, _c1#36 AS category_id#64, _c2#37 AS category_name#65, _c3#38 AS product_id#66, _c4#39 AS product_name#67, _c5#40 AS product_price#68, _c6#41 AS product_quantity#69, _c7#42 AS customer_id#70]\n",
      "   +- Relation[_c0#35,_c1#36,_c2#37,_c3#38,_c4#39,_c5#40,_c6#41,_c7#42] csv\n",
      "\n",
      "== Analyzed Logical Plan ==\n",
      "customer_id: int, customer_name: string, customer_city: string, customer_state: string, customer_zipcode: int, salestxn_id: int, category_id: int, category_name: string, product_id: int, product_name: string, product_price: double, product_quantity: int, customer_id: int\n",
      "Join Inner, (customer_id#52 = customer_id#70)\n",
      ":- Project [_c0#12 AS customer_id#52, _c1#13 AS customer_name#53, _c2#14 AS customer_city#54, _c3#15 AS customer_state#55, _c4#16 AS customer_zipcode#56]\n",
      ":  +- Relation[_c0#12,_c1#13,_c2#14,_c3#15,_c4#16] csv\n",
      "+- Project [_c0#35 AS salestxn_id#63, _c1#36 AS category_id#64, _c2#37 AS category_name#65, _c3#38 AS product_id#66, _c4#39 AS product_name#67, _c5#40 AS product_price#68, _c6#41 AS product_quantity#69, _c7#42 AS customer_id#70]\n",
      "   +- Relation[_c0#35,_c1#36,_c2#37,_c3#38,_c4#39,_c5#40,_c6#41,_c7#42] csv\n",
      "\n",
      "== Optimized Logical Plan ==\n",
      "Join Inner, (customer_id#52 = customer_id#70)\n",
      ":- Project [_c0#12 AS customer_id#52, _c1#13 AS customer_name#53, _c2#14 AS customer_city#54, _c3#15 AS customer_state#55, _c4#16 AS customer_zipcode#56]\n",
      ":  +- Filter isnotnull(_c0#12)\n",
      ":     +- Relation[_c0#12,_c1#13,_c2#14,_c3#15,_c4#16] csv\n",
      "+- Project [_c0#35 AS salestxn_id#63, _c1#36 AS category_id#64, _c2#37 AS category_name#65, _c3#38 AS product_id#66, _c4#39 AS product_name#67, _c5#40 AS product_price#68, _c6#41 AS product_quantity#69, _c7#42 AS customer_id#70]\n",
      "   +- Filter isnotnull(_c7#42)\n",
      "      +- Relation[_c0#35,_c1#36,_c2#37,_c3#38,_c4#39,_c5#40,_c6#41,_c7#42] csv\n",
      "\n",
      "== Physical Plan ==\n",
      "*BroadcastHashJoin [customer_id#52], [customer_id#70], Inner, BuildRight\n",
      ":- *Project [_c0#12 AS customer_id#52, _c1#13 AS customer_name#53, _c2#14 AS customer_city#54, _c3#15 AS customer_state#55, _c4#16 AS customer_zipcode#56]\n",
      ":  +- *Filter isnotnull(_c0#12)\n",
      ":     +- *FileScan csv [_c0#12,_c1#13,_c2#14,_c3#15,_c4#16] Batched: false, Format: CSV, Location: InMemoryFileIndex[file:/home/hduser/Downloads/sharedfolder/customers.tsv], PartitionFilters: [], PushedFilters: [IsNotNull(_c0)], ReadSchema: struct<_c0:int,_c1:string,_c2:string,_c3:string,_c4:int>\n",
      "+- BroadcastExchange HashedRelationBroadcastMode(List(cast(input[7, int, true] as bigint)))\n",
      "   +- *Project [_c0#35 AS salestxn_id#63, _c1#36 AS category_id#64, _c2#37 AS category_name#65, _c3#38 AS product_id#66, _c4#39 AS product_name#67, _c5#40 AS product_price#68, _c6#41 AS product_quantity#69, _c7#42 AS customer_id#70]\n",
      "      +- *Filter isnotnull(_c7#42)\n",
      "         +- *FileScan csv [_c0#35,_c1#36,_c2#37,_c3#38,_c4#39,_c5#40,_c6#41,_c7#42] Batched: false, Format: CSV, Location: InMemoryFileIndex[file:/home/hduser/Downloads/sharedfolder/salestxns.tsv], PartitionFilters: [], PushedFilters: [IsNotNull(_c7)], ReadSchema: struct<_c0:int,_c1:int,_c2:string,_c3:int,_c4:string,_c5:double,_c6:int,_c7:int>\n"
     ]
    }
   ],
   "source": [
    "jDF1=cDF2.join(sDF2,cDF2.customer_id==sDF2.customer_id).explain(True)"
   ]
  },
  {
   "cell_type": "code",
   "execution_count": 18,
   "metadata": {
    "scrolled": true
   },
   "outputs": [
    {
     "name": "stdout",
     "output_type": "stream",
     "text": [
      "== Physical Plan ==\n",
      "*BroadcastHashJoin [customer_id#52], [customer_id#70], Inner, BuildRight\n",
      ":- *Project [_c0#12 AS customer_id#52, _c1#13 AS customer_name#53, _c2#14 AS customer_city#54, _c3#15 AS customer_state#55, _c4#16 AS customer_zipcode#56]\n",
      ":  +- *Filter isnotnull(_c0#12)\n",
      ":     +- *FileScan csv [_c0#12,_c1#13,_c2#14,_c3#15,_c4#16] Batched: false, Format: CSV, Location: InMemoryFileIndex[file:/home/hduser/Downloads/sharedfolder/customers.tsv], PartitionFilters: [], PushedFilters: [IsNotNull(_c0)], ReadSchema: struct<_c0:int,_c1:string,_c2:string,_c3:string,_c4:int>\n",
      "+- BroadcastExchange HashedRelationBroadcastMode(List(cast(input[7, int, true] as bigint)))\n",
      "   +- *Project [_c0#35 AS salestxn_id#63, _c1#36 AS category_id#64, _c2#37 AS category_name#65, _c3#38 AS product_id#66, _c4#39 AS product_name#67, _c5#40 AS product_price#68, _c6#41 AS product_quantity#69, _c7#42 AS customer_id#70]\n",
      "      +- *Filter isnotnull(_c7#42)\n",
      "         +- *FileScan csv [_c0#35,_c1#36,_c2#37,_c3#38,_c4#39,_c5#40,_c6#41,_c7#42] Batched: false, Format: CSV, Location: InMemoryFileIndex[file:/home/hduser/Downloads/sharedfolder/salestxns.tsv], PartitionFilters: [], PushedFilters: [IsNotNull(_c7)], ReadSchema: struct<_c0:int,_c1:int,_c2:string,_c3:int,_c4:string,_c5:double,_c6:int,_c7:int>\n"
     ]
    }
   ],
   "source": [
    "jDF1=cDF2.join(sDF2,cDF2.customer_id==sDF2.customer_id).explain()"
   ]
  },
  {
   "cell_type": "markdown",
   "metadata": {},
   "source": [
    "We can notice that the execution plan is optimized in that customer is broad cast\n",
    "now lets to it with small at the right side"
   ]
  },
  {
   "cell_type": "code",
   "execution_count": 19,
   "metadata": {},
   "outputs": [],
   "source": [
    "jDF2=sDF2.join(cDF2,sDF2.customer_id==cDF2.customer_id)"
   ]
  },
  {
   "cell_type": "code",
   "execution_count": 20,
   "metadata": {},
   "outputs": [
    {
     "data": {
      "text/plain": [
       "pyspark.sql.dataframe.DataFrame"
      ]
     },
     "execution_count": 20,
     "metadata": {},
     "output_type": "execute_result"
    }
   ],
   "source": [
    "type(jDF2)"
   ]
  },
  {
   "cell_type": "code",
   "execution_count": 21,
   "metadata": {},
   "outputs": [
    {
     "name": "stdout",
     "output_type": "stream",
     "text": [
      "== Physical Plan ==\n",
      "*BroadcastHashJoin [customer_id#70], [customer_id#52], Inner, BuildRight\n",
      ":- *Project [_c0#35 AS salestxn_id#63, _c1#36 AS category_id#64, _c2#37 AS category_name#65, _c3#38 AS product_id#66, _c4#39 AS product_name#67, _c5#40 AS product_price#68, _c6#41 AS product_quantity#69, _c7#42 AS customer_id#70]\n",
      ":  +- *Filter isnotnull(_c7#42)\n",
      ":     +- *FileScan csv [_c0#35,_c1#36,_c2#37,_c3#38,_c4#39,_c5#40,_c6#41,_c7#42] Batched: false, Format: CSV, Location: InMemoryFileIndex[file:/home/hduser/Downloads/sharedfolder/salestxns.tsv], PartitionFilters: [], PushedFilters: [IsNotNull(_c7)], ReadSchema: struct<_c0:int,_c1:int,_c2:string,_c3:int,_c4:string,_c5:double,_c6:int,_c7:int>\n",
      "+- BroadcastExchange HashedRelationBroadcastMode(List(cast(input[0, int, true] as bigint)))\n",
      "   +- *Project [_c0#12 AS customer_id#52, _c1#13 AS customer_name#53, _c2#14 AS customer_city#54, _c3#15 AS customer_state#55, _c4#16 AS customer_zipcode#56]\n",
      "      +- *Filter isnotnull(_c0#12)\n",
      "         +- *FileScan csv [_c0#12,_c1#13,_c2#14,_c3#15,_c4#16] Batched: false, Format: CSV, Location: InMemoryFileIndex[file:/home/hduser/Downloads/sharedfolder/customers.tsv], PartitionFilters: [], PushedFilters: [IsNotNull(_c0)], ReadSchema: struct<_c0:int,_c1:string,_c2:string,_c3:string,_c4:int>\n"
     ]
    }
   ],
   "source": [
    "jDF2.explain()"
   ]
  },
  {
   "cell_type": "code",
   "execution_count": 22,
   "metadata": {},
   "outputs": [
    {
     "name": "stdout",
     "output_type": "stream",
     "text": [
      "== Parsed Logical Plan ==\n",
      "Join Inner, (customer_id#70 = customer_id#52)\n",
      ":- Project [_c0#35 AS salestxn_id#63, _c1#36 AS category_id#64, _c2#37 AS category_name#65, _c3#38 AS product_id#66, _c4#39 AS product_name#67, _c5#40 AS product_price#68, _c6#41 AS product_quantity#69, _c7#42 AS customer_id#70]\n",
      ":  +- Relation[_c0#35,_c1#36,_c2#37,_c3#38,_c4#39,_c5#40,_c6#41,_c7#42] csv\n",
      "+- Project [_c0#12 AS customer_id#52, _c1#13 AS customer_name#53, _c2#14 AS customer_city#54, _c3#15 AS customer_state#55, _c4#16 AS customer_zipcode#56]\n",
      "   +- Relation[_c0#12,_c1#13,_c2#14,_c3#15,_c4#16] csv\n",
      "\n",
      "== Analyzed Logical Plan ==\n",
      "salestxn_id: int, category_id: int, category_name: string, product_id: int, product_name: string, product_price: double, product_quantity: int, customer_id: int, customer_id: int, customer_name: string, customer_city: string, customer_state: string, customer_zipcode: int\n",
      "Join Inner, (customer_id#70 = customer_id#52)\n",
      ":- Project [_c0#35 AS salestxn_id#63, _c1#36 AS category_id#64, _c2#37 AS category_name#65, _c3#38 AS product_id#66, _c4#39 AS product_name#67, _c5#40 AS product_price#68, _c6#41 AS product_quantity#69, _c7#42 AS customer_id#70]\n",
      ":  +- Relation[_c0#35,_c1#36,_c2#37,_c3#38,_c4#39,_c5#40,_c6#41,_c7#42] csv\n",
      "+- Project [_c0#12 AS customer_id#52, _c1#13 AS customer_name#53, _c2#14 AS customer_city#54, _c3#15 AS customer_state#55, _c4#16 AS customer_zipcode#56]\n",
      "   +- Relation[_c0#12,_c1#13,_c2#14,_c3#15,_c4#16] csv\n",
      "\n",
      "== Optimized Logical Plan ==\n",
      "Join Inner, (customer_id#70 = customer_id#52)\n",
      ":- Project [_c0#35 AS salestxn_id#63, _c1#36 AS category_id#64, _c2#37 AS category_name#65, _c3#38 AS product_id#66, _c4#39 AS product_name#67, _c5#40 AS product_price#68, _c6#41 AS product_quantity#69, _c7#42 AS customer_id#70]\n",
      ":  +- Filter isnotnull(_c7#42)\n",
      ":     +- Relation[_c0#35,_c1#36,_c2#37,_c3#38,_c4#39,_c5#40,_c6#41,_c7#42] csv\n",
      "+- Project [_c0#12 AS customer_id#52, _c1#13 AS customer_name#53, _c2#14 AS customer_city#54, _c3#15 AS customer_state#55, _c4#16 AS customer_zipcode#56]\n",
      "   +- Filter isnotnull(_c0#12)\n",
      "      +- Relation[_c0#12,_c1#13,_c2#14,_c3#15,_c4#16] csv\n",
      "\n",
      "== Physical Plan ==\n",
      "*BroadcastHashJoin [customer_id#70], [customer_id#52], Inner, BuildRight\n",
      ":- *Project [_c0#35 AS salestxn_id#63, _c1#36 AS category_id#64, _c2#37 AS category_name#65, _c3#38 AS product_id#66, _c4#39 AS product_name#67, _c5#40 AS product_price#68, _c6#41 AS product_quantity#69, _c7#42 AS customer_id#70]\n",
      ":  +- *Filter isnotnull(_c7#42)\n",
      ":     +- *FileScan csv [_c0#35,_c1#36,_c2#37,_c3#38,_c4#39,_c5#40,_c6#41,_c7#42] Batched: false, Format: CSV, Location: InMemoryFileIndex[file:/home/hduser/Downloads/sharedfolder/salestxns.tsv], PartitionFilters: [], PushedFilters: [IsNotNull(_c7)], ReadSchema: struct<_c0:int,_c1:int,_c2:string,_c3:int,_c4:string,_c5:double,_c6:int,_c7:int>\n",
      "+- BroadcastExchange HashedRelationBroadcastMode(List(cast(input[0, int, true] as bigint)))\n",
      "   +- *Project [_c0#12 AS customer_id#52, _c1#13 AS customer_name#53, _c2#14 AS customer_city#54, _c3#15 AS customer_state#55, _c4#16 AS customer_zipcode#56]\n",
      "      +- *Filter isnotnull(_c0#12)\n",
      "         +- *FileScan csv [_c0#12,_c1#13,_c2#14,_c3#15,_c4#16] Batched: false, Format: CSV, Location: InMemoryFileIndex[file:/home/hduser/Downloads/sharedfolder/customers.tsv], PartitionFilters: [], PushedFilters: [IsNotNull(_c0)], ReadSchema: struct<_c0:int,_c1:string,_c2:string,_c3:string,_c4:int>\n"
     ]
    }
   ],
   "source": [
    "jDF2.explain(True)"
   ]
  },
  {
   "cell_type": "code",
   "execution_count": 23,
   "metadata": {},
   "outputs": [
    {
     "name": "stdout",
     "output_type": "stream",
     "text": [
      "== Parsed Logical Plan ==\n",
      "Join Inner, (customer_id#70 = customer_id#52)\n",
      ":- Project [_c0#35 AS salestxn_id#63, _c1#36 AS category_id#64, _c2#37 AS category_name#65, _c3#38 AS product_id#66, _c4#39 AS product_name#67, _c5#40 AS product_price#68, _c6#41 AS product_quantity#69, _c7#42 AS customer_id#70]\n",
      ":  +- Relation[_c0#35,_c1#36,_c2#37,_c3#38,_c4#39,_c5#40,_c6#41,_c7#42] csv\n",
      "+- ResolvedHint isBroadcastable=true\n",
      "   +- Project [_c0#12 AS customer_id#52, _c1#13 AS customer_name#53, _c2#14 AS customer_city#54, _c3#15 AS customer_state#55, _c4#16 AS customer_zipcode#56]\n",
      "      +- Relation[_c0#12,_c1#13,_c2#14,_c3#15,_c4#16] csv\n",
      "\n",
      "== Analyzed Logical Plan ==\n",
      "salestxn_id: int, category_id: int, category_name: string, product_id: int, product_name: string, product_price: double, product_quantity: int, customer_id: int, customer_id: int, customer_name: string, customer_city: string, customer_state: string, customer_zipcode: int\n",
      "Join Inner, (customer_id#70 = customer_id#52)\n",
      ":- Project [_c0#35 AS salestxn_id#63, _c1#36 AS category_id#64, _c2#37 AS category_name#65, _c3#38 AS product_id#66, _c4#39 AS product_name#67, _c5#40 AS product_price#68, _c6#41 AS product_quantity#69, _c7#42 AS customer_id#70]\n",
      ":  +- Relation[_c0#35,_c1#36,_c2#37,_c3#38,_c4#39,_c5#40,_c6#41,_c7#42] csv\n",
      "+- ResolvedHint isBroadcastable=true\n",
      "   +- Project [_c0#12 AS customer_id#52, _c1#13 AS customer_name#53, _c2#14 AS customer_city#54, _c3#15 AS customer_state#55, _c4#16 AS customer_zipcode#56]\n",
      "      +- Relation[_c0#12,_c1#13,_c2#14,_c3#15,_c4#16] csv\n",
      "\n",
      "== Optimized Logical Plan ==\n",
      "Join Inner, (customer_id#70 = customer_id#52)\n",
      ":- Project [_c0#35 AS salestxn_id#63, _c1#36 AS category_id#64, _c2#37 AS category_name#65, _c3#38 AS product_id#66, _c4#39 AS product_name#67, _c5#40 AS product_price#68, _c6#41 AS product_quantity#69, _c7#42 AS customer_id#70]\n",
      ":  +- Filter isnotnull(_c7#42)\n",
      ":     +- Relation[_c0#35,_c1#36,_c2#37,_c3#38,_c4#39,_c5#40,_c6#41,_c7#42] csv\n",
      "+- ResolvedHint isBroadcastable=true\n",
      "   +- Project [_c0#12 AS customer_id#52, _c1#13 AS customer_name#53, _c2#14 AS customer_city#54, _c3#15 AS customer_state#55, _c4#16 AS customer_zipcode#56]\n",
      "      +- Filter isnotnull(_c0#12)\n",
      "         +- Relation[_c0#12,_c1#13,_c2#14,_c3#15,_c4#16] csv\n",
      "\n",
      "== Physical Plan ==\n",
      "*BroadcastHashJoin [customer_id#70], [customer_id#52], Inner, BuildRight\n",
      ":- *Project [_c0#35 AS salestxn_id#63, _c1#36 AS category_id#64, _c2#37 AS category_name#65, _c3#38 AS product_id#66, _c4#39 AS product_name#67, _c5#40 AS product_price#68, _c6#41 AS product_quantity#69, _c7#42 AS customer_id#70]\n",
      ":  +- *Filter isnotnull(_c7#42)\n",
      ":     +- *FileScan csv [_c0#35,_c1#36,_c2#37,_c3#38,_c4#39,_c5#40,_c6#41,_c7#42] Batched: false, Format: CSV, Location: InMemoryFileIndex[file:/home/hduser/Downloads/sharedfolder/salestxns.tsv], PartitionFilters: [], PushedFilters: [IsNotNull(_c7)], ReadSchema: struct<_c0:int,_c1:int,_c2:string,_c3:int,_c4:string,_c5:double,_c6:int,_c7:int>\n",
      "+- BroadcastExchange HashedRelationBroadcastMode(List(cast(input[0, int, true] as bigint)))\n",
      "   +- *Project [_c0#12 AS customer_id#52, _c1#13 AS customer_name#53, _c2#14 AS customer_city#54, _c3#15 AS customer_state#55, _c4#16 AS customer_zipcode#56]\n",
      "      +- *Filter isnotnull(_c0#12)\n",
      "         +- *FileScan csv [_c0#12,_c1#13,_c2#14,_c3#15,_c4#16] Batched: false, Format: CSV, Location: InMemoryFileIndex[file:/home/hduser/Downloads/sharedfolder/customers.tsv], PartitionFilters: [], PushedFilters: [IsNotNull(_c0)], ReadSchema: struct<_c0:int,_c1:string,_c2:string,_c3:string,_c4:int>\n"
     ]
    }
   ],
   "source": [
    "jDF3 = sDF2.join(cDF2.hint(\"broadcast\"),sDF2.customer_id==cDF2.customer_id).explain(True)"
   ]
  },
  {
   "cell_type": "code",
   "execution_count": 24,
   "metadata": {},
   "outputs": [],
   "source": [
    "jDF3 = sDF2.join(cDF2.hint(\"broadcast\"),sDF2.customer_id==cDF2.customer_id)"
   ]
  },
  {
   "cell_type": "code",
   "execution_count": 25,
   "metadata": {},
   "outputs": [
    {
     "name": "stdout",
     "output_type": "stream",
     "text": [
      "root\n",
      " |-- salestxn_id: integer (nullable = true)\n",
      " |-- category_id: integer (nullable = true)\n",
      " |-- category_name: string (nullable = true)\n",
      " |-- product_id: integer (nullable = true)\n",
      " |-- product_name: string (nullable = true)\n",
      " |-- product_price: double (nullable = true)\n",
      " |-- product_quantity: integer (nullable = true)\n",
      " |-- customer_id: integer (nullable = true)\n",
      " |-- customer_id: integer (nullable = true)\n",
      " |-- customer_name: string (nullable = true)\n",
      " |-- customer_city: string (nullable = true)\n",
      " |-- customer_state: string (nullable = true)\n",
      " |-- customer_zipcode: integer (nullable = true)\n",
      "\n"
     ]
    }
   ],
   "source": [
    "jDF3.printSchema()"
   ]
  },
  {
   "cell_type": "code",
   "execution_count": 26,
   "metadata": {},
   "outputs": [
    {
     "name": "stdout",
     "output_type": "stream",
     "text": [
      "+-----------+-----------+----------------+----------+--------------------+-------------+----------------+-----------+-----------+-------------+-------------+--------------+----------------+\n",
      "|salestxn_id|category_id|   category_name|product_id|        product_name|product_price|product_quantity|customer_id|customer_id|customer_name|customer_city|customer_state|customer_zipcode|\n",
      "+-----------+-----------+----------------+----------+--------------------+-------------+----------------+-----------+-----------+-------------+-------------+--------------+----------------+\n",
      "|         58|         45|         Fishing|      1004|Field & Stream Sp...|       399.98|               1|       9488|       9488|   Mary Smith|      Hialeah|            FL|           33012|\n",
      "|         59|         43|Camping & Hiking|       957|Diamondback Women...|       299.98|               1|       9488|       9488|   Mary Smith|      Hialeah|            FL|           33012|\n",
      "|         78|          9|Cardio Equipment|       191|Nike Men's Free 5...|        99.99|               4|        656|        656|  Julie Smith|       Pomona|            CA|           91767|\n",
      "|         79|         43|Camping & Hiking|       957|Diamondback Women...|       299.98|               1|        656|        656|  Julie Smith|       Pomona|            CA|           91767|\n",
      "|         80|         43|Camping & Hiking|       957|Diamondback Women...|       299.98|               1|        656|        656|  Julie Smith|       Pomona|            CA|           91767|\n",
      "+-----------+-----------+----------------+----------+--------------------+-------------+----------------+-----------+-----------+-------------+-------------+--------------+----------------+\n",
      "only showing top 5 rows\n",
      "\n"
     ]
    }
   ],
   "source": [
    "jDF3.show(5)"
   ]
  },
  {
   "cell_type": "markdown",
   "metadata": {},
   "source": [
    "importing pyspark.sql.functions"
   ]
  },
  {
   "cell_type": "code",
   "execution_count": 27,
   "metadata": {},
   "outputs": [
    {
     "data": {
      "text/plain": [
       "DataFrame[customer_id: int, customer_name: string, customer_city: string, customer_state: string, customer_zipcode: int]"
      ]
     },
     "execution_count": 27,
     "metadata": {},
     "output_type": "execute_result"
    }
   ],
   "source": [
    "pyspark.sql.functions.broadcast(cDF2)"
   ]
  },
  {
   "cell_type": "code",
   "execution_count": 28,
   "metadata": {},
   "outputs": [
    {
     "data": {
      "text/plain": [
       "pyspark.sql.dataframe.DataFrame"
      ]
     },
     "execution_count": 28,
     "metadata": {},
     "output_type": "execute_result"
    }
   ],
   "source": [
    "type(pyspark.sql.functions.broadcast(cDF2))"
   ]
  },
  {
   "cell_type": "code",
   "execution_count": 29,
   "metadata": {},
   "outputs": [],
   "source": [
    "jDF4=sDF2.join(pyspark.sql.functions.broadcast(cDF2),sDF2.customer_id==cDF2.customer_id)"
   ]
  },
  {
   "cell_type": "code",
   "execution_count": 30,
   "metadata": {},
   "outputs": [
    {
     "name": "stdout",
     "output_type": "stream",
     "text": [
      "== Parsed Logical Plan ==\n",
      "Join Inner, (customer_id#70 = customer_id#52)\n",
      ":- Project [_c0#35 AS salestxn_id#63, _c1#36 AS category_id#64, _c2#37 AS category_name#65, _c3#38 AS product_id#66, _c4#39 AS product_name#67, _c5#40 AS product_price#68, _c6#41 AS product_quantity#69, _c7#42 AS customer_id#70]\n",
      ":  +- Relation[_c0#35,_c1#36,_c2#37,_c3#38,_c4#39,_c5#40,_c6#41,_c7#42] csv\n",
      "+- ResolvedHint isBroadcastable=true\n",
      "   +- Project [_c0#12 AS customer_id#52, _c1#13 AS customer_name#53, _c2#14 AS customer_city#54, _c3#15 AS customer_state#55, _c4#16 AS customer_zipcode#56]\n",
      "      +- Relation[_c0#12,_c1#13,_c2#14,_c3#15,_c4#16] csv\n",
      "\n",
      "== Analyzed Logical Plan ==\n",
      "salestxn_id: int, category_id: int, category_name: string, product_id: int, product_name: string, product_price: double, product_quantity: int, customer_id: int, customer_id: int, customer_name: string, customer_city: string, customer_state: string, customer_zipcode: int\n",
      "Join Inner, (customer_id#70 = customer_id#52)\n",
      ":- Project [_c0#35 AS salestxn_id#63, _c1#36 AS category_id#64, _c2#37 AS category_name#65, _c3#38 AS product_id#66, _c4#39 AS product_name#67, _c5#40 AS product_price#68, _c6#41 AS product_quantity#69, _c7#42 AS customer_id#70]\n",
      ":  +- Relation[_c0#35,_c1#36,_c2#37,_c3#38,_c4#39,_c5#40,_c6#41,_c7#42] csv\n",
      "+- ResolvedHint isBroadcastable=true\n",
      "   +- Project [_c0#12 AS customer_id#52, _c1#13 AS customer_name#53, _c2#14 AS customer_city#54, _c3#15 AS customer_state#55, _c4#16 AS customer_zipcode#56]\n",
      "      +- Relation[_c0#12,_c1#13,_c2#14,_c3#15,_c4#16] csv\n",
      "\n",
      "== Optimized Logical Plan ==\n",
      "Join Inner, (customer_id#70 = customer_id#52)\n",
      ":- Project [_c0#35 AS salestxn_id#63, _c1#36 AS category_id#64, _c2#37 AS category_name#65, _c3#38 AS product_id#66, _c4#39 AS product_name#67, _c5#40 AS product_price#68, _c6#41 AS product_quantity#69, _c7#42 AS customer_id#70]\n",
      ":  +- Filter isnotnull(_c7#42)\n",
      ":     +- Relation[_c0#35,_c1#36,_c2#37,_c3#38,_c4#39,_c5#40,_c6#41,_c7#42] csv\n",
      "+- ResolvedHint isBroadcastable=true\n",
      "   +- Project [_c0#12 AS customer_id#52, _c1#13 AS customer_name#53, _c2#14 AS customer_city#54, _c3#15 AS customer_state#55, _c4#16 AS customer_zipcode#56]\n",
      "      +- Filter isnotnull(_c0#12)\n",
      "         +- Relation[_c0#12,_c1#13,_c2#14,_c3#15,_c4#16] csv\n",
      "\n",
      "== Physical Plan ==\n",
      "*BroadcastHashJoin [customer_id#70], [customer_id#52], Inner, BuildRight\n",
      ":- *Project [_c0#35 AS salestxn_id#63, _c1#36 AS category_id#64, _c2#37 AS category_name#65, _c3#38 AS product_id#66, _c4#39 AS product_name#67, _c5#40 AS product_price#68, _c6#41 AS product_quantity#69, _c7#42 AS customer_id#70]\n",
      ":  +- *Filter isnotnull(_c7#42)\n",
      ":     +- *FileScan csv [_c0#35,_c1#36,_c2#37,_c3#38,_c4#39,_c5#40,_c6#41,_c7#42] Batched: false, Format: CSV, Location: InMemoryFileIndex[file:/home/hduser/Downloads/sharedfolder/salestxns.tsv], PartitionFilters: [], PushedFilters: [IsNotNull(_c7)], ReadSchema: struct<_c0:int,_c1:int,_c2:string,_c3:int,_c4:string,_c5:double,_c6:int,_c7:int>\n",
      "+- BroadcastExchange HashedRelationBroadcastMode(List(cast(input[0, int, true] as bigint)))\n",
      "   +- *Project [_c0#12 AS customer_id#52, _c1#13 AS customer_name#53, _c2#14 AS customer_city#54, _c3#15 AS customer_state#55, _c4#16 AS customer_zipcode#56]\n",
      "      +- *Filter isnotnull(_c0#12)\n",
      "         +- *FileScan csv [_c0#12,_c1#13,_c2#14,_c3#15,_c4#16] Batched: false, Format: CSV, Location: InMemoryFileIndex[file:/home/hduser/Downloads/sharedfolder/customers.tsv], PartitionFilters: [], PushedFilters: [IsNotNull(_c0)], ReadSchema: struct<_c0:int,_c1:string,_c2:string,_c3:string,_c4:int>\n"
     ]
    }
   ],
   "source": [
    "jDF4.explain(True)"
   ]
  },
  {
   "cell_type": "code",
   "execution_count": 31,
   "metadata": {},
   "outputs": [
    {
     "name": "stdout",
     "output_type": "stream",
     "text": [
      "+-----------+-----------+----------------+----------+--------------------+-------------+----------------+-----------+-----------+-------------+-------------+--------------+----------------+\n",
      "|salestxn_id|category_id|   category_name|product_id|        product_name|product_price|product_quantity|customer_id|customer_id|customer_name|customer_city|customer_state|customer_zipcode|\n",
      "+-----------+-----------+----------------+----------+--------------------+-------------+----------------+-----------+-----------+-------------+-------------+--------------+----------------+\n",
      "|         58|         45|         Fishing|      1004|Field & Stream Sp...|       399.98|               1|       9488|       9488|   Mary Smith|      Hialeah|            FL|           33012|\n",
      "|         59|         43|Camping & Hiking|       957|Diamondback Women...|       299.98|               1|       9488|       9488|   Mary Smith|      Hialeah|            FL|           33012|\n",
      "|         78|          9|Cardio Equipment|       191|Nike Men's Free 5...|        99.99|               4|        656|        656|  Julie Smith|       Pomona|            CA|           91767|\n",
      "|         79|         43|Camping & Hiking|       957|Diamondback Women...|       299.98|               1|        656|        656|  Julie Smith|       Pomona|            CA|           91767|\n",
      "|         80|         43|Camping & Hiking|       957|Diamondback Women...|       299.98|               1|        656|        656|  Julie Smith|       Pomona|            CA|           91767|\n",
      "+-----------+-----------+----------------+----------+--------------------+-------------+----------------+-----------+-----------+-------------+-------------+--------------+----------------+\n",
      "only showing top 5 rows\n",
      "\n"
     ]
    }
   ],
   "source": [
    "jDF4.show(5)"
   ]
  },
  {
   "cell_type": "code",
   "execution_count": null,
   "metadata": {},
   "outputs": [],
   "source": []
  }
 ],
 "metadata": {
  "kernelspec": {
   "display_name": "Python 3",
   "language": "python",
   "name": "python3"
  },
  "language_info": {
   "codemirror_mode": {
    "name": "ipython",
    "version": 3
   },
   "file_extension": ".py",
   "mimetype": "text/x-python",
   "name": "python",
   "nbconvert_exporter": "python",
   "pygments_lexer": "ipython3",
   "version": "3.5.2"
  }
 },
 "nbformat": 4,
 "nbformat_minor": 2
}
