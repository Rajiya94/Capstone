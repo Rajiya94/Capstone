{
 "cells": [
  {
   "cell_type": "code",
   "execution_count": 1,
   "id": "ed8f25a3",
   "metadata": {},
   "outputs": [],
   "source": [
    "import json\n",
    "import tensorflow as tf\n",
    "import numpy as np\n",
    "import pandas as pd\n",
    "from tensorflow import keras\n",
    "from tensorflow.keras.preprocessing.text import Tokenizer\n",
    "from tensorflow.keras.preprocessing.sequence import pad_sequences"
   ]
  },
  {
   "cell_type": "markdown",
   "id": "28e05958",
   "metadata": {},
   "source": [
    "'' to import online ''\\\n",
    "!wget --no-check-certificate \\\n",
    "    https://storage.googleapis.com/laurencemoroney-blog.appspot.com/sarcasm.json \\\n",
    "    -O /tmp/sarcasm.json"
   ]
  },
  {
   "cell_type": "code",
   "execution_count": 2,
   "id": "f58cea8f",
   "metadata": {},
   "outputs": [],
   "source": [
    "datastore=pd.read_csv('IMDB Dataset.csv')"
   ]
  },
  {
   "cell_type": "markdown",
   "id": "172f5025",
   "metadata": {},
   "source": [
    "\"to open file in google colab\"\\\n",
    "with open('Sarcasm_Headlines_Dataset.json','r') as f:\n",
    "    datastore=json.load(f)"
   ]
  },
  {
   "cell_type": "markdown",
   "id": "bd38d4ec",
   "metadata": {},
   "source": [
    "importing the dataset in json format"
   ]
  },
  {
   "cell_type": "code",
   "execution_count": 3,
   "id": "391a540c",
   "metadata": {},
   "outputs": [
    {
     "data": {
      "text/html": [
       "<div>\n",
       "<style scoped>\n",
       "    .dataframe tbody tr th:only-of-type {\n",
       "        vertical-align: middle;\n",
       "    }\n",
       "\n",
       "    .dataframe tbody tr th {\n",
       "        vertical-align: top;\n",
       "    }\n",
       "\n",
       "    .dataframe thead th {\n",
       "        text-align: right;\n",
       "    }\n",
       "</style>\n",
       "<table border=\"1\" class=\"dataframe\">\n",
       "  <thead>\n",
       "    <tr style=\"text-align: right;\">\n",
       "      <th></th>\n",
       "      <th>review</th>\n",
       "      <th>sentiment</th>\n",
       "    </tr>\n",
       "  </thead>\n",
       "  <tbody>\n",
       "    <tr>\n",
       "      <th>0</th>\n",
       "      <td>One of the other reviewers has mentioned that ...</td>\n",
       "      <td>positive</td>\n",
       "    </tr>\n",
       "    <tr>\n",
       "      <th>1</th>\n",
       "      <td>A wonderful little production. &lt;br /&gt;&lt;br /&gt;The...</td>\n",
       "      <td>positive</td>\n",
       "    </tr>\n",
       "    <tr>\n",
       "      <th>2</th>\n",
       "      <td>I thought this was a wonderful way to spend ti...</td>\n",
       "      <td>positive</td>\n",
       "    </tr>\n",
       "    <tr>\n",
       "      <th>3</th>\n",
       "      <td>Basically there's a family where a little boy ...</td>\n",
       "      <td>negative</td>\n",
       "    </tr>\n",
       "    <tr>\n",
       "      <th>4</th>\n",
       "      <td>Petter Mattei's \"Love in the Time of Money\" is...</td>\n",
       "      <td>positive</td>\n",
       "    </tr>\n",
       "  </tbody>\n",
       "</table>\n",
       "</div>"
      ],
      "text/plain": [
       "                                              review sentiment\n",
       "0  One of the other reviewers has mentioned that ...  positive\n",
       "1  A wonderful little production. <br /><br />The...  positive\n",
       "2  I thought this was a wonderful way to spend ti...  positive\n",
       "3  Basically there's a family where a little boy ...  negative\n",
       "4  Petter Mattei's \"Love in the Time of Money\" is...  positive"
      ]
     },
     "execution_count": 3,
     "metadata": {},
     "output_type": "execute_result"
    }
   ],
   "source": [
    "datastore.head()"
   ]
  },
  {
   "cell_type": "code",
   "execution_count": 4,
   "id": "75474d1e",
   "metadata": {},
   "outputs": [
    {
     "data": {
      "text/html": [
       "<div>\n",
       "<style scoped>\n",
       "    .dataframe tbody tr th:only-of-type {\n",
       "        vertical-align: middle;\n",
       "    }\n",
       "\n",
       "    .dataframe tbody tr th {\n",
       "        vertical-align: top;\n",
       "    }\n",
       "\n",
       "    .dataframe thead th {\n",
       "        text-align: right;\n",
       "    }\n",
       "</style>\n",
       "<table border=\"1\" class=\"dataframe\">\n",
       "  <thead>\n",
       "    <tr style=\"text-align: right;\">\n",
       "      <th></th>\n",
       "      <th>review</th>\n",
       "      <th>sentiment</th>\n",
       "    </tr>\n",
       "  </thead>\n",
       "  <tbody>\n",
       "    <tr>\n",
       "      <th>0</th>\n",
       "      <td>One of the other reviewers has mentioned that ...</td>\n",
       "      <td>1</td>\n",
       "    </tr>\n",
       "    <tr>\n",
       "      <th>1</th>\n",
       "      <td>A wonderful little production. &lt;br /&gt;&lt;br /&gt;The...</td>\n",
       "      <td>1</td>\n",
       "    </tr>\n",
       "    <tr>\n",
       "      <th>2</th>\n",
       "      <td>I thought this was a wonderful way to spend ti...</td>\n",
       "      <td>1</td>\n",
       "    </tr>\n",
       "    <tr>\n",
       "      <th>3</th>\n",
       "      <td>Basically there's a family where a little boy ...</td>\n",
       "      <td>0</td>\n",
       "    </tr>\n",
       "    <tr>\n",
       "      <th>4</th>\n",
       "      <td>Petter Mattei's \"Love in the Time of Money\" is...</td>\n",
       "      <td>1</td>\n",
       "    </tr>\n",
       "    <tr>\n",
       "      <th>...</th>\n",
       "      <td>...</td>\n",
       "      <td>...</td>\n",
       "    </tr>\n",
       "    <tr>\n",
       "      <th>49995</th>\n",
       "      <td>I thought this movie did a down right good job...</td>\n",
       "      <td>1</td>\n",
       "    </tr>\n",
       "    <tr>\n",
       "      <th>49996</th>\n",
       "      <td>Bad plot, bad dialogue, bad acting, idiotic di...</td>\n",
       "      <td>0</td>\n",
       "    </tr>\n",
       "    <tr>\n",
       "      <th>49997</th>\n",
       "      <td>I am a Catholic taught in parochial elementary...</td>\n",
       "      <td>0</td>\n",
       "    </tr>\n",
       "    <tr>\n",
       "      <th>49998</th>\n",
       "      <td>I'm going to have to disagree with the previou...</td>\n",
       "      <td>0</td>\n",
       "    </tr>\n",
       "    <tr>\n",
       "      <th>49999</th>\n",
       "      <td>No one expects the Star Trek movies to be high...</td>\n",
       "      <td>0</td>\n",
       "    </tr>\n",
       "  </tbody>\n",
       "</table>\n",
       "<p>50000 rows × 2 columns</p>\n",
       "</div>"
      ],
      "text/plain": [
       "                                                  review  sentiment\n",
       "0      One of the other reviewers has mentioned that ...          1\n",
       "1      A wonderful little production. <br /><br />The...          1\n",
       "2      I thought this was a wonderful way to spend ti...          1\n",
       "3      Basically there's a family where a little boy ...          0\n",
       "4      Petter Mattei's \"Love in the Time of Money\" is...          1\n",
       "...                                                  ...        ...\n",
       "49995  I thought this movie did a down right good job...          1\n",
       "49996  Bad plot, bad dialogue, bad acting, idiotic di...          0\n",
       "49997  I am a Catholic taught in parochial elementary...          0\n",
       "49998  I'm going to have to disagree with the previou...          0\n",
       "49999  No one expects the Star Trek movies to be high...          0\n",
       "\n",
       "[50000 rows x 2 columns]"
      ]
     },
     "execution_count": 4,
     "metadata": {},
     "output_type": "execute_result"
    }
   ],
   "source": [
    "datastore['sentiment'] = datastore['sentiment'].apply(lambda x: 0 if x.strip()=='negative' else 1)\n",
    "datastore"
   ]
  },
  {
   "cell_type": "markdown",
   "id": "a9f0178a",
   "metadata": {},
   "source": [
    "Taking the required features from data  as which headline -> sentences & is_sarcastic -> labels."
   ]
  },
  {
   "cell_type": "code",
   "execution_count": 5,
   "id": "a79d4340",
   "metadata": {},
   "outputs": [],
   "source": [
    "sentences=datastore['review']\n",
    "labels=datastore['sentiment']"
   ]
  },
  {
   "cell_type": "code",
   "execution_count": 6,
   "id": "22f44b38",
   "metadata": {},
   "outputs": [
    {
     "data": {
      "text/plain": [
       "0        One of the other reviewers has mentioned that ...\n",
       "1        A wonderful little production. <br /><br />The...\n",
       "2        I thought this was a wonderful way to spend ti...\n",
       "3        Basically there's a family where a little boy ...\n",
       "4        Petter Mattei's \"Love in the Time of Money\" is...\n",
       "                               ...                        \n",
       "49995    I thought this movie did a down right good job...\n",
       "49996    Bad plot, bad dialogue, bad acting, idiotic di...\n",
       "49997    I am a Catholic taught in parochial elementary...\n",
       "49998    I'm going to have to disagree with the previou...\n",
       "49999    No one expects the Star Trek movies to be high...\n",
       "Name: review, Length: 50000, dtype: object"
      ]
     },
     "execution_count": 6,
     "metadata": {},
     "output_type": "execute_result"
    }
   ],
   "source": [
    "sentences"
   ]
  },
  {
   "cell_type": "code",
   "execution_count": 7,
   "id": "caae2e1a",
   "metadata": {},
   "outputs": [
    {
     "data": {
      "text/plain": [
       "0        1\n",
       "1        1\n",
       "2        1\n",
       "3        0\n",
       "4        1\n",
       "        ..\n",
       "49995    1\n",
       "49996    0\n",
       "49997    0\n",
       "49998    0\n",
       "49999    0\n",
       "Name: sentiment, Length: 50000, dtype: int64"
      ]
     },
     "execution_count": 7,
     "metadata": {},
     "output_type": "execute_result"
    }
   ],
   "source": [
    "labels"
   ]
  },
  {
   "cell_type": "markdown",
   "id": "cc7c2531",
   "metadata": {},
   "source": [
    "spliting data into train and test"
   ]
  },
  {
   "cell_type": "code",
   "execution_count": 8,
   "id": "5f0f71cc",
   "metadata": {},
   "outputs": [],
   "source": [
    "train_sentences=sentences[:40000]\n",
    "test_sentences=sentences[40000:]\n",
    "train_labels=labels[0:40000]\n",
    "test_labels=labels[40000:]"
   ]
  },
  {
   "cell_type": "code",
   "execution_count": 9,
   "id": "4576c36a",
   "metadata": {},
   "outputs": [],
   "source": [
    "tokenizer = Tokenizer(num_words =10000 , oov_token = \"<OOV>\")\n",
    "tokenizer.fit_on_texts(train_sentences)\n",
    "\n",
    "word_index = tokenizer.word_index\n",
    "\n",
    "train_sequences = tokenizer.texts_to_sequences(train_sentences)\n",
    "train_padded = pad_sequences(train_sequences, maxlen=100, padding='post', truncating='post')\n",
    "\n",
    "test_sequences = tokenizer.texts_to_sequences(test_sentences)\n",
    "test_padded = pad_sequences(test_sequences, maxlen=100, padding='post', truncating='post')\n",
    "\n",
    "\n",
    "\n"
   ]
  },
  {
   "cell_type": "code",
   "execution_count": 10,
   "id": "3938f924",
   "metadata": {},
   "outputs": [],
   "source": [
    "train_padded=np.array(train_padded)\n",
    "test_padded=np.array(test_padded)\n",
    "train_labels=np.array(train_labels)\n",
    "test_labels=np.array(test_labels)"
   ]
  },
  {
   "cell_type": "markdown",
   "id": "f99cc5fc",
   "metadata": {},
   "source": [
    "Build the model"
   ]
  },
  {
   "cell_type": "code",
   "execution_count": 11,
   "id": "a27aa13c",
   "metadata": {},
   "outputs": [
    {
     "name": "stdout",
     "output_type": "stream",
     "text": [
      "Model: \"sequential\"\n",
      "_________________________________________________________________\n",
      "Layer (type)                 Output Shape              Param #   \n",
      "=================================================================\n",
      "embedding (Embedding)        (None, 100, 16)           160000    \n",
      "_________________________________________________________________\n",
      "global_average_pooling1d (Gl (None, 16)                0         \n",
      "_________________________________________________________________\n",
      "dense (Dense)                (None, 24)                408       \n",
      "_________________________________________________________________\n",
      "dense_1 (Dense)              (None, 1)                 25        \n",
      "=================================================================\n",
      "Total params: 160,433\n",
      "Trainable params: 160,433\n",
      "Non-trainable params: 0\n",
      "_________________________________________________________________\n"
     ]
    }
   ],
   "source": [
    "model = tf.keras.Sequential([\n",
    "    tf.keras.layers.Embedding(10000, 16, input_length = 100),\n",
    "    tf.keras.layers.GlobalAveragePooling1D(),\n",
    "    tf.keras.layers.Dense(24, activation = 'relu'),\n",
    "    tf.keras.layers.Dense(1, activation = 'sigmoid')\n",
    "    \n",
    "]) \n",
    "model.summary()"
   ]
  },
  {
   "cell_type": "code",
   "execution_count": 12,
   "id": "c82155ff",
   "metadata": {},
   "outputs": [],
   "source": [
    "model.compile(optimizer='adam', loss='binary_crossentropy', metrics=['accuracy'])"
   ]
  },
  {
   "cell_type": "code",
   "execution_count": 13,
   "id": "29855b59",
   "metadata": {
    "scrolled": true
   },
   "outputs": [
    {
     "name": "stdout",
     "output_type": "stream",
     "text": [
      "Epoch 1/30\n",
      "1250/1250 - 5s - loss: 0.4620 - accuracy: 0.7873 - val_loss: 0.3638 - val_accuracy: 0.8373\n",
      "Epoch 2/30\n",
      "1250/1250 - 3s - loss: 0.3157 - accuracy: 0.8665 - val_loss: 0.3568 - val_accuracy: 0.8426\n",
      "Epoch 3/30\n",
      "1250/1250 - 3s - loss: 0.2807 - accuracy: 0.8847 - val_loss: 0.3676 - val_accuracy: 0.8411\n",
      "Epoch 4/30\n",
      "1250/1250 - 3s - loss: 0.2603 - accuracy: 0.8941 - val_loss: 0.3831 - val_accuracy: 0.8372\n",
      "Epoch 5/30\n",
      "1250/1250 - 3s - loss: 0.2463 - accuracy: 0.9000 - val_loss: 0.4002 - val_accuracy: 0.8329\n",
      "Epoch 6/30\n",
      "1250/1250 - 3s - loss: 0.2356 - accuracy: 0.9067 - val_loss: 0.4194 - val_accuracy: 0.8309\n",
      "Epoch 7/30\n",
      "1250/1250 - 3s - loss: 0.2281 - accuracy: 0.9084 - val_loss: 0.4265 - val_accuracy: 0.8288\n",
      "Epoch 8/30\n",
      "1250/1250 - 3s - loss: 0.2203 - accuracy: 0.9139 - val_loss: 0.4458 - val_accuracy: 0.8261\n",
      "Epoch 9/30\n",
      "1250/1250 - 4s - loss: 0.2150 - accuracy: 0.9162 - val_loss: 0.4557 - val_accuracy: 0.8254\n",
      "Epoch 10/30\n",
      "1250/1250 - 2s - loss: 0.2100 - accuracy: 0.9197 - val_loss: 0.4707 - val_accuracy: 0.8237\n",
      "Epoch 11/30\n",
      "1250/1250 - 3s - loss: 0.2054 - accuracy: 0.9228 - val_loss: 0.4757 - val_accuracy: 0.8211\n",
      "Epoch 12/30\n",
      "1250/1250 - 3s - loss: 0.2016 - accuracy: 0.9240 - val_loss: 0.4910 - val_accuracy: 0.8227\n",
      "Epoch 13/30\n",
      "1250/1250 - 2s - loss: 0.1970 - accuracy: 0.9277 - val_loss: 0.5111 - val_accuracy: 0.8187\n",
      "Epoch 14/30\n",
      "1250/1250 - 3s - loss: 0.1943 - accuracy: 0.9299 - val_loss: 0.5159 - val_accuracy: 0.8162\n",
      "Epoch 15/30\n",
      "1250/1250 - 3s - loss: 0.1911 - accuracy: 0.9310 - val_loss: 0.5225 - val_accuracy: 0.8167\n",
      "Epoch 16/30\n",
      "1250/1250 - 3s - loss: 0.1876 - accuracy: 0.9333 - val_loss: 0.5253 - val_accuracy: 0.8170\n",
      "Epoch 17/30\n",
      "1250/1250 - 3s - loss: 0.1831 - accuracy: 0.9350 - val_loss: 0.5402 - val_accuracy: 0.8167\n",
      "Epoch 18/30\n",
      "1250/1250 - 3s - loss: 0.1801 - accuracy: 0.9355 - val_loss: 0.5441 - val_accuracy: 0.8169\n",
      "Epoch 19/30\n",
      "1250/1250 - 3s - loss: 0.1738 - accuracy: 0.9380 - val_loss: 0.5739 - val_accuracy: 0.8136\n",
      "Epoch 20/30\n",
      "1250/1250 - 3s - loss: 0.1671 - accuracy: 0.9411 - val_loss: 0.6003 - val_accuracy: 0.8131\n",
      "Epoch 21/30\n",
      "1250/1250 - 4s - loss: 0.1585 - accuracy: 0.9427 - val_loss: 0.6026 - val_accuracy: 0.8100\n",
      "Epoch 22/30\n",
      "1250/1250 - 4s - loss: 0.1467 - accuracy: 0.9461 - val_loss: 0.6615 - val_accuracy: 0.8107\n",
      "Epoch 23/30\n",
      "1250/1250 - 3s - loss: 0.1344 - accuracy: 0.9488 - val_loss: 0.7242 - val_accuracy: 0.8124\n",
      "Epoch 24/30\n",
      "1250/1250 - 4s - loss: 0.1203 - accuracy: 0.9538 - val_loss: 0.7557 - val_accuracy: 0.8100\n",
      "Epoch 25/30\n",
      "1250/1250 - 4s - loss: 0.1070 - accuracy: 0.9584 - val_loss: 0.8069 - val_accuracy: 0.8087\n",
      "Epoch 26/30\n",
      "1250/1250 - 5s - loss: 0.0928 - accuracy: 0.9650 - val_loss: 0.9319 - val_accuracy: 0.8065\n",
      "Epoch 27/30\n",
      "1250/1250 - 6s - loss: 0.0808 - accuracy: 0.9707 - val_loss: 1.0250 - val_accuracy: 0.8022\n",
      "Epoch 28/30\n",
      "1250/1250 - 4s - loss: 0.0691 - accuracy: 0.9762 - val_loss: 1.1544 - val_accuracy: 0.8043\n",
      "Epoch 29/30\n",
      "1250/1250 - 2s - loss: 0.0593 - accuracy: 0.9803 - val_loss: 1.2310 - val_accuracy: 0.8006\n",
      "Epoch 30/30\n",
      "1250/1250 - 5s - loss: 0.0525 - accuracy: 0.9841 - val_loss: 1.2802 - val_accuracy: 0.8004\n"
     ]
    }
   ],
   "source": [
    "history=model.fit(train_padded,train_labels,epochs=30,validation_data=(test_padded,test_labels),verbose=2)"
   ]
  },
  {
   "cell_type": "code",
   "execution_count": 14,
   "id": "09ae71d3",
   "metadata": {},
   "outputs": [
    {
     "data": {
      "image/png": "[encoded data removed]",
      "text/plain": [
       "<Figure size 432x288 with 1 Axes>"
      ]
     },
     "metadata": {
      "needs_background": "light"
     },
     "output_type": "display_data"
    },
    {
     "data": {
      "image/png": "[encoded data removed]",
      "text/plain": [
       "<Figure size 432x288 with 1 Axes>"
      ]
     },
     "metadata": {
      "needs_background": "light"
     },
     "output_type": "display_data"
    }
   ],
   "source": [
    "import matplotlib.pyplot as plt\n",
    "def histogram(string):\n",
    "    plt.plot(history.history[string])\n",
    "    plt.plot(history.history['val_'+string])\n",
    "    plt.title(string)\n",
    "    plt.ylabel(string)\n",
    "    plt.xlabel('epoch')\n",
    "    plt.legend(['train','test'],loc='upper left')\n",
    "    plt.show()\n",
    "histogram('loss')\n",
    "histogram('accuracy')"
   ]
  },
  {
   "cell_type": "code",
   "execution_count": 15,
   "id": "02f9e1e0",
   "metadata": {},
   "outputs": [],
   "source": [
    "from keras.callbacks import EarlyStopping\n",
    "callbacks=EarlyStopping(monitor='val_accuracy',verbose=1,patience=5,mode='auto')"
   ]
  },
  {
   "cell_type": "code",
   "execution_count": 16,
   "id": "a1ddabe8",
   "metadata": {},
   "outputs": [
    {
     "name": "stdout",
     "output_type": "stream",
     "text": [
      "Epoch 1/30\n",
      "1250/1250 - 5s - loss: 0.0441 - accuracy: 0.9868 - val_loss: 1.4449 - val_accuracy: 0.8040\n",
      "Epoch 2/30\n",
      "1250/1250 - 4s - loss: 0.0396 - accuracy: 0.9883 - val_loss: 1.5552 - val_accuracy: 0.8016\n",
      "Epoch 3/30\n",
      "1250/1250 - 5s - loss: 0.0330 - accuracy: 0.9912 - val_loss: 1.6320 - val_accuracy: 0.7999\n",
      "Epoch 4/30\n",
      "1250/1250 - 6s - loss: 0.0293 - accuracy: 0.9926 - val_loss: 1.7571 - val_accuracy: 0.7992\n",
      "Epoch 5/30\n",
      "1250/1250 - 4s - loss: 0.0277 - accuracy: 0.9926 - val_loss: 1.7943 - val_accuracy: 0.7963\n",
      "Epoch 6/30\n",
      "1250/1250 - 3s - loss: 0.0250 - accuracy: 0.9934 - val_loss: 1.8983 - val_accuracy: 0.7993\n",
      "Epoch 00006: early stopping\n"
     ]
    }
   ],
   "source": [
    "history=model.fit(train_padded,train_labels,epochs=30,validation_data=(test_padded,test_labels),verbose=2,callbacks=[callbacks])"
   ]
  },
  {
   "cell_type": "code",
   "execution_count": null,
   "id": "19ed70d4",
   "metadata": {},
   "outputs": [],
   "source": []
  }
 ],
 "metadata": {
  "kernelspec": {
   "display_name": "Python 3",
   "language": "python",
   "name": "python3"
  },
  "language_info": {
   "codemirror_mode": {
    "name": "ipython",
    "version": 3
   },
   "file_extension": ".py",
   "mimetype": "text/x-python",
   "name": "python",
   "nbconvert_exporter": "python",
   "pygments_lexer": "ipython3",
   "version": "3.8.8"
  }
 },
 "nbformat": 4,
 "nbformat_minor": 5
}
