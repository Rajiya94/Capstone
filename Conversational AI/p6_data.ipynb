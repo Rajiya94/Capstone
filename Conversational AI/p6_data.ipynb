{
 "cells": [
  {
   "cell_type": "code",
   "execution_count": 1,
   "id": "13fbf10a",
   "metadata": {},
   "outputs": [],
   "source": [
    "import numpy as np\n",
    "import matplotlib.pyplot as plt\n",
    "import pandas as pd"
   ]
  },
  {
   "cell_type": "code",
   "execution_count": 2,
   "id": "6b8527e9",
   "metadata": {},
   "outputs": [],
   "source": [
    "data=pd.read_csv(\"P6_naivetext1.csv\", names = ['Review', 'Value'] )"
   ]
  },
  {
   "cell_type": "code",
   "execution_count": 3,
   "id": "c3594ea2",
   "metadata": {},
   "outputs": [
    {
     "data": {
      "text/html": [
       "<div>\n",
       "<style scoped>\n",
       "    .dataframe tbody tr th:only-of-type {\n",
       "        vertical-align: middle;\n",
       "    }\n",
       "\n",
       "    .dataframe tbody tr th {\n",
       "        vertical-align: top;\n",
       "    }\n",
       "\n",
       "    .dataframe thead th {\n",
       "        text-align: right;\n",
       "    }\n",
       "</style>\n",
       "<table border=\"1\" class=\"dataframe\">\n",
       "  <thead>\n",
       "    <tr style=\"text-align: right;\">\n",
       "      <th></th>\n",
       "      <th>Review</th>\n",
       "      <th>Value</th>\n",
       "    </tr>\n",
       "  </thead>\n",
       "  <tbody>\n",
       "    <tr>\n",
       "      <th>0</th>\n",
       "      <td>I love this sandwich</td>\n",
       "      <td>pos</td>\n",
       "    </tr>\n",
       "    <tr>\n",
       "      <th>1</th>\n",
       "      <td>This is an amazing place</td>\n",
       "      <td>pos</td>\n",
       "    </tr>\n",
       "    <tr>\n",
       "      <th>2</th>\n",
       "      <td>I feel very good about these beers</td>\n",
       "      <td>pos</td>\n",
       "    </tr>\n",
       "    <tr>\n",
       "      <th>3</th>\n",
       "      <td>This is my best work</td>\n",
       "      <td>pos</td>\n",
       "    </tr>\n",
       "    <tr>\n",
       "      <th>4</th>\n",
       "      <td>What an awesome view</td>\n",
       "      <td>pos</td>\n",
       "    </tr>\n",
       "  </tbody>\n",
       "</table>\n",
       "</div>"
      ],
      "text/plain": [
       "                               Review Value\n",
       "0                I love this sandwich   pos\n",
       "1            This is an amazing place   pos\n",
       "2  I feel very good about these beers   pos\n",
       "3                This is my best work   pos\n",
       "4                What an awesome view   pos"
      ]
     },
     "execution_count": 3,
     "metadata": {},
     "output_type": "execute_result"
    }
   ],
   "source": [
    "data.head()"
   ]
  },
  {
   "cell_type": "code",
   "execution_count": 4,
   "id": "9d1dcb5f",
   "metadata": {},
   "outputs": [
    {
     "name": "stderr",
     "output_type": "stream",
     "text": [
      "[nltk_data] Downloading package stopwords to\n",
      "[nltk_data]     C:\\Users\\rproddatur\\AppData\\Roaming\\nltk_data...\n",
      "[nltk_data]   Package stopwords is already up-to-date!\n"
     ]
    }
   ],
   "source": [
    "import re\n",
    "import nltk\n",
    "nltk.download('stopwords')\n",
    "from nltk.corpus import stopwords\n",
    "from nltk.stem.porter import PorterStemmer"
   ]
  },
  {
   "cell_type": "code",
   "execution_count": 5,
   "id": "00726611",
   "metadata": {},
   "outputs": [],
   "source": [
    "corpus=[]\n",
    "for i in range(0,18):\n",
    "    review=re.sub('[^a-zA-Z]',' ',data['Review'][i])\n",
    "    review=review.lower()\n",
    "    review=review.split()\n",
    "    ps=PorterStemmer()\n",
    "    review=[ps.stem(word) for word in review if not word in set(stopwords.words('english'))]\n",
    "    review=' '.join(review)\n",
    "    corpus.append(review) "
   ]
  },
  {
   "cell_type": "code",
   "execution_count": 6,
   "id": "2d6507b4",
   "metadata": {},
   "outputs": [
    {
     "name": "stdout",
     "output_type": "stream",
     "text": [
      "['love sandwich', 'amaz place', 'feel good beer', 'best work', 'awesom view', 'like restaur', 'tire stuff', 'deal', 'sworn enemi', 'boss horribl', 'awesom place', 'like tast juic', 'love danc', 'sick tire place', 'great holiday', 'bad local stay', 'good fun tomorrow', 'went enemi hous today']\n"
     ]
    }
   ],
   "source": [
    "print(corpus)"
   ]
  },
  {
   "cell_type": "code",
   "execution_count": 7,
   "id": "53319438",
   "metadata": {},
   "outputs": [
    {
     "name": "stdout",
     "output_type": "stream",
     "text": [
      "{'my', 'were', 'again', 'very', 'so', 'herself', 'some', 'his', 'but', 'below', 's', 'both', 'and', \"shan't\", \"hadn't\", 'those', 'above', 'll', 'that', 'only', 'further', 'under', 'out', 'can', 'shan', 'too', 'was', 'once', 'him', 'a', 'this', 'by', 'at', 'having', 'how', 'will', 'weren', 'needn', 'shouldn', \"haven't\", 're', \"won't\", 'against', 'ourselves', 'now', \"you'll\", 'there', 'who', 'he', 'few', \"needn't\", 'themselves', 'whom', 'before', 'mightn', 'for', \"you'd\", 'when', 'what', 'each', 'it', 'aren', 'myself', 'itself', 'you', 'just', \"that'll\", \"don't\", \"doesn't\", \"weren't\", 'through', 'me', 'i', 'yourself', 'of', 'same', \"shouldn't\", 'himself', \"didn't\", 'if', 'haven', 'couldn', 'than', 'her', 'yours', 'ours', \"it's\", 'most', \"mightn't\", 'during', 'these', 'wasn', 'does', 'because', 'here', 'then', 'hadn', 'have', 'been', 'nor', 'own', 'had', 'being', 'mustn', 'won', 'into', 'yourselves', 'we', 'o', 'about', \"you've\", 'your', 'after', 'she', 'has', 'up', 'with', 'the', 'not', 'ain', 'them', 've', 'where', \"couldn't\", 'its', 'their', 'such', 't', 'am', 'doesn', 'between', 'as', 'more', 'wouldn', 'is', 'in', 'to', \"wouldn't\", \"hasn't\", 'an', 'be', 'why', 'y', 'did', 'other', 'didn', 'theirs', 'hers', 'our', 'no', 'should', 'ma', 'are', 'doing', 'they', \"isn't\", \"should've\", \"aren't\", 'while', \"you're\", 'on', 'don', 'hasn', 'down', 'd', \"wasn't\", \"she's\", 'from', 'or', 'off', 'm', \"mustn't\", 'over', 'all', 'any', 'isn', 'which', 'do', 'until'}\n"
     ]
    }
   ],
   "source": [
    "# To check the list of stopwords\n",
    "stops = set(stopwords.words('english'))\n",
    "print(stops)"
   ]
  },
  {
   "cell_type": "code",
   "execution_count": 8,
   "id": "a71a003b",
   "metadata": {},
   "outputs": [
    {
     "data": {
      "text/plain": [
       "34"
      ]
     },
     "execution_count": 8,
     "metadata": {},
     "output_type": "execute_result"
    }
   ],
   "source": [
    "from sklearn.feature_extraction.text import CountVectorizer\n",
    "cv=CountVectorizer(max_features=34)\n",
    "X=cv.fit_transform(corpus).toarray()\n",
    "y=data.iloc[:,-1].values\n",
    "len(X[10])"
   ]
  },
  {
   "cell_type": "code",
   "execution_count": 9,
   "id": "27bc5dcc",
   "metadata": {},
   "outputs": [],
   "source": [
    "from sklearn.model_selection import train_test_split\n",
    "X_train,X_test,y_train,y_test=train_test_split(X,y,test_size=0.20,random_state=0)"
   ]
  },
  {
   "cell_type": "code",
   "execution_count": 10,
   "id": "4fb4e1f0",
   "metadata": {},
   "outputs": [
    {
     "data": {
      "text/plain": [
       "GaussianNB()"
      ]
     },
     "execution_count": 10,
     "metadata": {},
     "output_type": "execute_result"
    }
   ],
   "source": [
    "from sklearn.naive_bayes import GaussianNB\n",
    "classifier =GaussianNB()\n",
    "classifier.fit(X_train,y_train)"
   ]
  },
  {
   "cell_type": "code",
   "execution_count": 11,
   "id": "ee582700",
   "metadata": {},
   "outputs": [
    {
     "name": "stdout",
     "output_type": "stream",
     "text": [
      "[['neg' 'pos']\n",
      " ['neg' 'neg']\n",
      " ['neg' 'neg']\n",
      " ['pos' 'pos']]\n"
     ]
    }
   ],
   "source": [
    "y_pred=classifier.predict(X_test)\n",
    "print(np.concatenate((y_pred.reshape(len(y_pred),1),y_test.reshape(len(y_test),1)),1))"
   ]
  },
  {
   "cell_type": "code",
   "execution_count": 12,
   "id": "5bda00b2",
   "metadata": {},
   "outputs": [
    {
     "name": "stdout",
     "output_type": "stream",
     "text": [
      "[[2 0]\n",
      " [1 1]]\n"
     ]
    },
    {
     "data": {
      "text/plain": [
       "0.75"
      ]
     },
     "execution_count": 12,
     "metadata": {},
     "output_type": "execute_result"
    }
   ],
   "source": [
    "from sklearn.metrics import confusion_matrix, accuracy_score \n",
    "cm=confusion_matrix(y_test,y_pred)\n",
    "print(cm)\n",
    "accuracy_score(y_test,y_pred)"
   ]
  }
 ],
 "metadata": {
  "kernelspec": {
   "display_name": "Python 3",
   "language": "python",
   "name": "python3"
  },
  "language_info": {
   "codemirror_mode": {
    "name": "ipython",
    "version": 3
   },
   "file_extension": ".py",
   "mimetype": "text/x-python",
   "name": "python",
   "nbconvert_exporter": "python",
   "pygments_lexer": "ipython3",
   "version": "3.8.8"
  }
 },
 "nbformat": 4,
 "nbformat_minor": 5
}
