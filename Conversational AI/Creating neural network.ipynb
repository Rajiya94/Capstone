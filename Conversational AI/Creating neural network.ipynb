{
 "cells": [
  {
   "cell_type": "code",
   "execution_count": 2,
   "id": "485cdcea",
   "metadata": {},
   "outputs": [],
   "source": [
    "import tensorflow as tf\n",
    "from tensorflow import keras\n",
    "from tensorflow.keras.preprocessing.text import Tokenizer"
   ]
  },
  {
   "cell_type": "code",
   "execution_count": 3,
   "id": "ccde562b",
   "metadata": {},
   "outputs": [
    {
     "name": "stdout",
     "output_type": "stream",
     "text": [
      "{'i': 1, 'love': 2, 'my': 3, 'dog': 4, 'cat': 5}\n"
     ]
    }
   ],
   "source": [
    "sentence=['I love my dog','I love my cat']\n",
    "tokenizer=Tokenizer(num_words=100)\n",
    "tokenizer.fit_on_texts(sentence)\n",
    "word_index=tokenizer.word_index\n",
    "print(word_index)"
   ]
  },
  {
   "cell_type": "code",
   "execution_count": 4,
   "id": "cb21e94e",
   "metadata": {},
   "outputs": [
    {
     "name": "stdout",
     "output_type": "stream",
     "text": [
      "{'love': 1, 'my': 2, 'i': 3, 'dog': 4, 'cat': 5, 'you': 6}\n"
     ]
    }
   ],
   "source": [
    "sentence=['I love my dog','I love my cat','You love my dog!']\n",
    "tokenizer=Tokenizer(num_words=100)\n",
    "tokenizer.fit_on_texts(sentence)\n",
    "word_index=tokenizer.word_index\n",
    "print(word_index)"
   ]
  },
  {
   "cell_type": "code",
   "execution_count": 5,
   "id": "c18194c8",
   "metadata": {},
   "outputs": [
    {
     "name": "stdout",
     "output_type": "stream",
     "text": [
      "[[3, 1, 2, 4], [2, 4, 2]]\n"
     ]
    }
   ],
   "source": [
    "test_data=['I really love my dog','my dog loves my mantee']\n",
    "test=tokenizer.texts_to_sequences(test_data)\n",
    "print(test)"
   ]
  },
  {
   "cell_type": "code",
   "execution_count": 6,
   "id": "9aa12f5f",
   "metadata": {},
   "outputs": [
    {
     "name": "stdout",
     "output_type": "stream",
     "text": [
      "{'<OOV>': 1, 'my': 2, 'love': 3, 'dog': 4, 'i': 5, 'you': 6, 'cat': 7, 'do': 8, 'think': 9, 'is': 10, 'amazing': 11}\n",
      "[[5, 1, 3, 2, 4], [2, 4, 1, 2, 1]]\n"
     ]
    }
   ],
   "source": [
    "# handling the missing tokens\n",
    "sentence=['I love my dog','I love my cat','You love my dog!','do you think my dog is amazing']\n",
    "tokenizer=Tokenizer(num_words=100,oov_token='<OOV>')\n",
    "tokenizer.fit_on_texts(sentence)\n",
    "word_index=tokenizer.word_index\n",
    "test=tokenizer.texts_to_sequences(sentence)\n",
    "print(word_index)\n",
    "test_data=['I really love my dog','my dog loves my mantee']\n",
    "test_seq=tokenizer.texts_to_sequences(test_data)\n",
    "print(test_seq)"
   ]
  },
  {
   "cell_type": "code",
   "execution_count": 14,
   "id": "56137438",
   "metadata": {},
   "outputs": [
    {
     "name": "stdout",
     "output_type": "stream",
     "text": [
      "[[5, 3, 2, 4], [5, 3, 2, 7], [6, 3, 2, 4], [8, 6, 9, 2, 4, 10, 11]]\n",
      "[[ 0  0  0  5  3  2  4]\n",
      " [ 0  0  0  5  3  2  7]\n",
      " [ 0  0  0  6  3  2  4]\n",
      " [ 8  6  9  2  4 10 11]]\n",
      "[[5 3 2 4 0]\n",
      " [5 3 2 7 0]\n",
      " [6 3 2 4 0]\n",
      " [8 6 9 2 4]]\n"
     ]
    }
   ],
   "source": [
    "# padding - > converts all the sentences into  longest sequence length\n",
    "# keep the remaining places with 0 values in the beginning\n",
    "from tensorflow.keras.preprocessing.sequence import pad_sequences\n",
    "sentence=['I love my dog','I love my cat','You love my dog!','do you think my dog is amazing']\n",
    "tokenizer=Tokenizer(num_words=100,oov_token='<OOV>')\n",
    "tokenizer.fit_on_texts(sentence)\n",
    "word_index=tokenizer.word_index\n",
    "seq=tokenizer.texts_to_sequences(sentence)\n",
    "padded=pad_sequences(seq)\n",
    "padded1=pad_sequences(seq,maxlen=5,padding='post',truncating='post')\n",
    "print(seq)\n",
    "print(padded)\n",
    "print(padded1)"
   ]
  },
  {
   "cell_type": "markdown",
   "id": "7a6fafec",
   "metadata": {},
   "source": [
    "Word embedding"
   ]
  },
  {
   "cell_type": "code",
   "execution_count": 21,
   "id": "dfa09cfa",
   "metadata": {},
   "outputs": [
    {
     "name": "stdout",
     "output_type": "stream",
     "text": [
      "Model: \"sequential_4\"\n",
      "_________________________________________________________________\n",
      "Layer (type)                 Output Shape              Param #   \n",
      "=================================================================\n",
      "embedding_5 (Embedding)      (None, 100, 10)           10000     \n",
      "_________________________________________________________________\n",
      "flatten_4 (Flatten)          (None, 1000)              0         \n",
      "_________________________________________________________________\n",
      "dense_8 (Dense)              (None, 6)                 6006      \n",
      "_________________________________________________________________\n",
      "dense_9 (Dense)              (None, 1)                 7         \n",
      "=================================================================\n",
      "Total params: 16,013\n",
      "Trainable params: 16,013\n",
      "Non-trainable params: 0\n",
      "_________________________________________________________________\n"
     ]
    }
   ],
   "source": [
    "# using flatten\n",
    "model =tf.keras.Sequential([\n",
    "    # tf.keras.layers.Embedding(vocab_size,embedding_dim,input_length=max_length),\n",
    "    tf.keras.layers.Embedding(1000,10,input_length=100),\n",
    "    tf.keras.layers.Flatten(),\n",
    "    tf.keras.layers.Dense(6,activation='relu'),\n",
    "    tf.keras.layers.Dense(1,activation='sigmoid')\n",
    "])\n",
    "model.summary()"
   ]
  },
  {
   "cell_type": "code",
   "execution_count": 23,
   "id": "b6d5a6a0",
   "metadata": {},
   "outputs": [
    {
     "name": "stdout",
     "output_type": "stream",
     "text": [
      "Model: \"sequential_6\"\n",
      "_________________________________________________________________\n",
      "Layer (type)                 Output Shape              Param #   \n",
      "=================================================================\n",
      "embedding_7 (Embedding)      (None, 100, 10)           10000     \n",
      "_________________________________________________________________\n",
      "global_average_pooling1d_2 ( (None, 10)                0         \n",
      "_________________________________________________________________\n",
      "dense_12 (Dense)             (None, 6)                 66        \n",
      "_________________________________________________________________\n",
      "dense_13 (Dense)             (None, 1)                 7         \n",
      "=================================================================\n",
      "Total params: 10,073\n",
      "Trainable params: 10,073\n",
      "Non-trainable params: 0\n",
      "_________________________________________________________________\n"
     ]
    }
   ],
   "source": [
    "# using GlobalAveragePooling1D\n",
    "model =tf.keras.Sequential([\n",
    "    tf.keras.layers.Embedding(1000,10,input_length=100),\n",
    "    tf.keras.layers.GlobalAveragePooling1D(),\n",
    "    tf.keras.layers.Dense(6,activation='relu'),\n",
    "    tf.keras.layers.Dense(1,activation='sigmoid')\n",
    "])\n",
    "model.summary()"
   ]
  },
  {
   "cell_type": "code",
   "execution_count": null,
   "id": "2007bb9c",
   "metadata": {},
   "outputs": [],
   "source": []
  }
 ],
 "metadata": {
  "kernelspec": {
   "display_name": "Python 3",
   "language": "python",
   "name": "python3"
  },
  "language_info": {
   "codemirror_mode": {
    "name": "ipython",
    "version": 3
   },
   "file_extension": ".py",
   "mimetype": "text/x-python",
   "name": "python",
   "nbconvert_exporter": "python",
   "pygments_lexer": "ipython3",
   "version": "3.8.8"
  }
 },
 "nbformat": 4,
 "nbformat_minor": 5
}
