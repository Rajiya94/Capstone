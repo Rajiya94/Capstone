{
 "cells": [
  {
   "cell_type": "markdown",
   "id": "b6b76131",
   "metadata": {},
   "source": [
    "# Descriptive "
   ]
  },
  {
   "cell_type": "code",
   "execution_count": 2,
   "id": "44141fc3",
   "metadata": {},
   "outputs": [],
   "source": [
    "import pandas as pd\n",
    "import numpy as np\n",
    "import scipy.stats as st\n",
    "import seaborn as sn\n",
    "import matplotlib.pyplot as plt"
   ]
  },
  {
   "cell_type": "code",
   "execution_count": 3,
   "id": "9803a548",
   "metadata": {},
   "outputs": [],
   "source": [
    "df=sn.load_dataset('tips')"
   ]
  },
  {
   "cell_type": "code",
   "execution_count": 3,
   "id": "0c37698d",
   "metadata": {},
   "outputs": [
    {
     "data": {
      "text/plain": [
       "(244, 7)"
      ]
     },
     "execution_count": 3,
     "metadata": {},
     "output_type": "execute_result"
    }
   ],
   "source": [
    "df.shape"
   ]
  },
  {
   "cell_type": "code",
   "execution_count": 6,
   "id": "f7b79d18",
   "metadata": {},
   "outputs": [
    {
     "data": {
      "text/html": [
       "<div>\n",
       "<style scoped>\n",
       "    .dataframe tbody tr th:only-of-type {\n",
       "        vertical-align: middle;\n",
       "    }\n",
       "\n",
       "    .dataframe tbody tr th {\n",
       "        vertical-align: top;\n",
       "    }\n",
       "\n",
       "    .dataframe thead th {\n",
       "        text-align: right;\n",
       "    }\n",
       "</style>\n",
       "<table border=\"1\" class=\"dataframe\">\n",
       "  <thead>\n",
       "    <tr style=\"text-align: right;\">\n",
       "      <th></th>\n",
       "      <th>total_bill</th>\n",
       "      <th>tip</th>\n",
       "      <th>sex</th>\n",
       "      <th>smoker</th>\n",
       "      <th>day</th>\n",
       "      <th>time</th>\n",
       "      <th>size</th>\n",
       "    </tr>\n",
       "  </thead>\n",
       "  <tbody>\n",
       "    <tr>\n",
       "      <th>0</th>\n",
       "      <td>16.99</td>\n",
       "      <td>1.01</td>\n",
       "      <td>Female</td>\n",
       "      <td>No</td>\n",
       "      <td>Sun</td>\n",
       "      <td>Dinner</td>\n",
       "      <td>2</td>\n",
       "    </tr>\n",
       "    <tr>\n",
       "      <th>1</th>\n",
       "      <td>10.34</td>\n",
       "      <td>1.66</td>\n",
       "      <td>Male</td>\n",
       "      <td>No</td>\n",
       "      <td>Sun</td>\n",
       "      <td>Dinner</td>\n",
       "      <td>3</td>\n",
       "    </tr>\n",
       "    <tr>\n",
       "      <th>2</th>\n",
       "      <td>21.01</td>\n",
       "      <td>3.50</td>\n",
       "      <td>Male</td>\n",
       "      <td>No</td>\n",
       "      <td>Sun</td>\n",
       "      <td>Dinner</td>\n",
       "      <td>3</td>\n",
       "    </tr>\n",
       "    <tr>\n",
       "      <th>3</th>\n",
       "      <td>23.68</td>\n",
       "      <td>3.31</td>\n",
       "      <td>Male</td>\n",
       "      <td>No</td>\n",
       "      <td>Sun</td>\n",
       "      <td>Dinner</td>\n",
       "      <td>2</td>\n",
       "    </tr>\n",
       "    <tr>\n",
       "      <th>4</th>\n",
       "      <td>24.59</td>\n",
       "      <td>3.61</td>\n",
       "      <td>Female</td>\n",
       "      <td>No</td>\n",
       "      <td>Sun</td>\n",
       "      <td>Dinner</td>\n",
       "      <td>4</td>\n",
       "    </tr>\n",
       "  </tbody>\n",
       "</table>\n",
       "</div>"
      ],
      "text/plain": [
       "   total_bill   tip     sex smoker  day    time  size\n",
       "0       16.99  1.01  Female     No  Sun  Dinner     2\n",
       "1       10.34  1.66    Male     No  Sun  Dinner     3\n",
       "2       21.01  3.50    Male     No  Sun  Dinner     3\n",
       "3       23.68  3.31    Male     No  Sun  Dinner     2\n",
       "4       24.59  3.61  Female     No  Sun  Dinner     4"
      ]
     },
     "execution_count": 6,
     "metadata": {},
     "output_type": "execute_result"
    }
   ],
   "source": [
    "df.head()"
   ]
  },
  {
   "cell_type": "code",
   "execution_count": 7,
   "id": "e0ca6c41",
   "metadata": {},
   "outputs": [
    {
     "data": {
      "text/html": [
       "<div>\n",
       "<style scoped>\n",
       "    .dataframe tbody tr th:only-of-type {\n",
       "        vertical-align: middle;\n",
       "    }\n",
       "\n",
       "    .dataframe tbody tr th {\n",
       "        vertical-align: top;\n",
       "    }\n",
       "\n",
       "    .dataframe thead th {\n",
       "        text-align: right;\n",
       "    }\n",
       "</style>\n",
       "<table border=\"1\" class=\"dataframe\">\n",
       "  <thead>\n",
       "    <tr style=\"text-align: right;\">\n",
       "      <th></th>\n",
       "      <th>total_bill</th>\n",
       "      <th>tip</th>\n",
       "      <th>size</th>\n",
       "    </tr>\n",
       "  </thead>\n",
       "  <tbody>\n",
       "    <tr>\n",
       "      <th>count</th>\n",
       "      <td>244.000000</td>\n",
       "      <td>244.000000</td>\n",
       "      <td>244.000000</td>\n",
       "    </tr>\n",
       "    <tr>\n",
       "      <th>mean</th>\n",
       "      <td>19.785943</td>\n",
       "      <td>2.998279</td>\n",
       "      <td>2.569672</td>\n",
       "    </tr>\n",
       "    <tr>\n",
       "      <th>std</th>\n",
       "      <td>8.902412</td>\n",
       "      <td>1.383638</td>\n",
       "      <td>0.951100</td>\n",
       "    </tr>\n",
       "    <tr>\n",
       "      <th>min</th>\n",
       "      <td>3.070000</td>\n",
       "      <td>1.000000</td>\n",
       "      <td>1.000000</td>\n",
       "    </tr>\n",
       "    <tr>\n",
       "      <th>25%</th>\n",
       "      <td>13.347500</td>\n",
       "      <td>2.000000</td>\n",
       "      <td>2.000000</td>\n",
       "    </tr>\n",
       "    <tr>\n",
       "      <th>50%</th>\n",
       "      <td>17.795000</td>\n",
       "      <td>2.900000</td>\n",
       "      <td>2.000000</td>\n",
       "    </tr>\n",
       "    <tr>\n",
       "      <th>75%</th>\n",
       "      <td>24.127500</td>\n",
       "      <td>3.562500</td>\n",
       "      <td>3.000000</td>\n",
       "    </tr>\n",
       "    <tr>\n",
       "      <th>max</th>\n",
       "      <td>50.810000</td>\n",
       "      <td>10.000000</td>\n",
       "      <td>6.000000</td>\n",
       "    </tr>\n",
       "  </tbody>\n",
       "</table>\n",
       "</div>"
      ],
      "text/plain": [
       "       total_bill         tip        size\n",
       "count  244.000000  244.000000  244.000000\n",
       "mean    19.785943    2.998279    2.569672\n",
       "std      8.902412    1.383638    0.951100\n",
       "min      3.070000    1.000000    1.000000\n",
       "25%     13.347500    2.000000    2.000000\n",
       "50%     17.795000    2.900000    2.000000\n",
       "75%     24.127500    3.562500    3.000000\n",
       "max     50.810000   10.000000    6.000000"
      ]
     },
     "execution_count": 7,
     "metadata": {},
     "output_type": "execute_result"
    }
   ],
   "source": [
    "df.describe()"
   ]
  },
  {
   "cell_type": "code",
   "execution_count": 8,
   "id": "0a1b58c1",
   "metadata": {},
   "outputs": [
    {
     "data": {
      "text/plain": [
       "count    244.000000\n",
       "mean       2.998279\n",
       "std        1.383638\n",
       "min        1.000000\n",
       "25%        2.000000\n",
       "50%        2.900000\n",
       "75%        3.562500\n",
       "max       10.000000\n",
       "Name: tip, dtype: float64"
      ]
     },
     "execution_count": 8,
     "metadata": {},
     "output_type": "execute_result"
    }
   ],
   "source": [
    "df.tip.describe()"
   ]
  },
  {
   "cell_type": "code",
   "execution_count": 6,
   "id": "1563a280",
   "metadata": {},
   "outputs": [
    {
     "data": {
      "text/html": [
       "<div>\n",
       "<style scoped>\n",
       "    .dataframe tbody tr th:only-of-type {\n",
       "        vertical-align: middle;\n",
       "    }\n",
       "\n",
       "    .dataframe tbody tr th {\n",
       "        vertical-align: top;\n",
       "    }\n",
       "\n",
       "    .dataframe thead th {\n",
       "        text-align: right;\n",
       "    }\n",
       "</style>\n",
       "<table border=\"1\" class=\"dataframe\">\n",
       "  <thead>\n",
       "    <tr style=\"text-align: right;\">\n",
       "      <th></th>\n",
       "      <th>total_bill</th>\n",
       "      <th>tip</th>\n",
       "      <th>sex</th>\n",
       "      <th>smoker</th>\n",
       "      <th>day</th>\n",
       "      <th>time</th>\n",
       "      <th>size</th>\n",
       "    </tr>\n",
       "  </thead>\n",
       "  <tbody>\n",
       "    <tr>\n",
       "      <th>224</th>\n",
       "      <td>13.42</td>\n",
       "      <td>1.58</td>\n",
       "      <td>Male</td>\n",
       "      <td>Yes</td>\n",
       "      <td>Fri</td>\n",
       "      <td>Lunch</td>\n",
       "      <td>2</td>\n",
       "    </tr>\n",
       "    <tr>\n",
       "      <th>225</th>\n",
       "      <td>16.27</td>\n",
       "      <td>2.50</td>\n",
       "      <td>Female</td>\n",
       "      <td>Yes</td>\n",
       "      <td>Fri</td>\n",
       "      <td>Lunch</td>\n",
       "      <td>2</td>\n",
       "    </tr>\n",
       "    <tr>\n",
       "      <th>226</th>\n",
       "      <td>10.09</td>\n",
       "      <td>2.00</td>\n",
       "      <td>Female</td>\n",
       "      <td>Yes</td>\n",
       "      <td>Fri</td>\n",
       "      <td>Lunch</td>\n",
       "      <td>2</td>\n",
       "    </tr>\n",
       "    <tr>\n",
       "      <th>227</th>\n",
       "      <td>20.45</td>\n",
       "      <td>3.00</td>\n",
       "      <td>Male</td>\n",
       "      <td>No</td>\n",
       "      <td>Sat</td>\n",
       "      <td>Dinner</td>\n",
       "      <td>4</td>\n",
       "    </tr>\n",
       "    <tr>\n",
       "      <th>228</th>\n",
       "      <td>13.28</td>\n",
       "      <td>2.72</td>\n",
       "      <td>Male</td>\n",
       "      <td>No</td>\n",
       "      <td>Sat</td>\n",
       "      <td>Dinner</td>\n",
       "      <td>2</td>\n",
       "    </tr>\n",
       "    <tr>\n",
       "      <th>229</th>\n",
       "      <td>22.12</td>\n",
       "      <td>2.88</td>\n",
       "      <td>Female</td>\n",
       "      <td>Yes</td>\n",
       "      <td>Sat</td>\n",
       "      <td>Dinner</td>\n",
       "      <td>2</td>\n",
       "    </tr>\n",
       "    <tr>\n",
       "      <th>230</th>\n",
       "      <td>24.01</td>\n",
       "      <td>2.00</td>\n",
       "      <td>Male</td>\n",
       "      <td>Yes</td>\n",
       "      <td>Sat</td>\n",
       "      <td>Dinner</td>\n",
       "      <td>4</td>\n",
       "    </tr>\n",
       "    <tr>\n",
       "      <th>231</th>\n",
       "      <td>15.69</td>\n",
       "      <td>3.00</td>\n",
       "      <td>Male</td>\n",
       "      <td>Yes</td>\n",
       "      <td>Sat</td>\n",
       "      <td>Dinner</td>\n",
       "      <td>3</td>\n",
       "    </tr>\n",
       "    <tr>\n",
       "      <th>232</th>\n",
       "      <td>11.61</td>\n",
       "      <td>3.39</td>\n",
       "      <td>Male</td>\n",
       "      <td>No</td>\n",
       "      <td>Sat</td>\n",
       "      <td>Dinner</td>\n",
       "      <td>2</td>\n",
       "    </tr>\n",
       "    <tr>\n",
       "      <th>233</th>\n",
       "      <td>10.77</td>\n",
       "      <td>1.47</td>\n",
       "      <td>Male</td>\n",
       "      <td>No</td>\n",
       "      <td>Sat</td>\n",
       "      <td>Dinner</td>\n",
       "      <td>2</td>\n",
       "    </tr>\n",
       "    <tr>\n",
       "      <th>234</th>\n",
       "      <td>15.53</td>\n",
       "      <td>3.00</td>\n",
       "      <td>Male</td>\n",
       "      <td>Yes</td>\n",
       "      <td>Sat</td>\n",
       "      <td>Dinner</td>\n",
       "      <td>2</td>\n",
       "    </tr>\n",
       "    <tr>\n",
       "      <th>235</th>\n",
       "      <td>10.07</td>\n",
       "      <td>1.25</td>\n",
       "      <td>Male</td>\n",
       "      <td>No</td>\n",
       "      <td>Sat</td>\n",
       "      <td>Dinner</td>\n",
       "      <td>2</td>\n",
       "    </tr>\n",
       "    <tr>\n",
       "      <th>236</th>\n",
       "      <td>12.60</td>\n",
       "      <td>1.00</td>\n",
       "      <td>Male</td>\n",
       "      <td>Yes</td>\n",
       "      <td>Sat</td>\n",
       "      <td>Dinner</td>\n",
       "      <td>2</td>\n",
       "    </tr>\n",
       "    <tr>\n",
       "      <th>237</th>\n",
       "      <td>32.83</td>\n",
       "      <td>1.17</td>\n",
       "      <td>Male</td>\n",
       "      <td>Yes</td>\n",
       "      <td>Sat</td>\n",
       "      <td>Dinner</td>\n",
       "      <td>2</td>\n",
       "    </tr>\n",
       "    <tr>\n",
       "      <th>238</th>\n",
       "      <td>35.83</td>\n",
       "      <td>4.67</td>\n",
       "      <td>Female</td>\n",
       "      <td>No</td>\n",
       "      <td>Sat</td>\n",
       "      <td>Dinner</td>\n",
       "      <td>3</td>\n",
       "    </tr>\n",
       "    <tr>\n",
       "      <th>239</th>\n",
       "      <td>29.03</td>\n",
       "      <td>5.92</td>\n",
       "      <td>Male</td>\n",
       "      <td>No</td>\n",
       "      <td>Sat</td>\n",
       "      <td>Dinner</td>\n",
       "      <td>3</td>\n",
       "    </tr>\n",
       "    <tr>\n",
       "      <th>240</th>\n",
       "      <td>27.18</td>\n",
       "      <td>2.00</td>\n",
       "      <td>Female</td>\n",
       "      <td>Yes</td>\n",
       "      <td>Sat</td>\n",
       "      <td>Dinner</td>\n",
       "      <td>2</td>\n",
       "    </tr>\n",
       "    <tr>\n",
       "      <th>241</th>\n",
       "      <td>22.67</td>\n",
       "      <td>2.00</td>\n",
       "      <td>Male</td>\n",
       "      <td>Yes</td>\n",
       "      <td>Sat</td>\n",
       "      <td>Dinner</td>\n",
       "      <td>2</td>\n",
       "    </tr>\n",
       "    <tr>\n",
       "      <th>242</th>\n",
       "      <td>17.82</td>\n",
       "      <td>1.75</td>\n",
       "      <td>Male</td>\n",
       "      <td>No</td>\n",
       "      <td>Sat</td>\n",
       "      <td>Dinner</td>\n",
       "      <td>2</td>\n",
       "    </tr>\n",
       "    <tr>\n",
       "      <th>243</th>\n",
       "      <td>18.78</td>\n",
       "      <td>3.00</td>\n",
       "      <td>Female</td>\n",
       "      <td>No</td>\n",
       "      <td>Thur</td>\n",
       "      <td>Dinner</td>\n",
       "      <td>2</td>\n",
       "    </tr>\n",
       "  </tbody>\n",
       "</table>\n",
       "</div>"
      ],
      "text/plain": [
       "     total_bill   tip     sex smoker   day    time  size\n",
       "224       13.42  1.58    Male    Yes   Fri   Lunch     2\n",
       "225       16.27  2.50  Female    Yes   Fri   Lunch     2\n",
       "226       10.09  2.00  Female    Yes   Fri   Lunch     2\n",
       "227       20.45  3.00    Male     No   Sat  Dinner     4\n",
       "228       13.28  2.72    Male     No   Sat  Dinner     2\n",
       "229       22.12  2.88  Female    Yes   Sat  Dinner     2\n",
       "230       24.01  2.00    Male    Yes   Sat  Dinner     4\n",
       "231       15.69  3.00    Male    Yes   Sat  Dinner     3\n",
       "232       11.61  3.39    Male     No   Sat  Dinner     2\n",
       "233       10.77  1.47    Male     No   Sat  Dinner     2\n",
       "234       15.53  3.00    Male    Yes   Sat  Dinner     2\n",
       "235       10.07  1.25    Male     No   Sat  Dinner     2\n",
       "236       12.60  1.00    Male    Yes   Sat  Dinner     2\n",
       "237       32.83  1.17    Male    Yes   Sat  Dinner     2\n",
       "238       35.83  4.67  Female     No   Sat  Dinner     3\n",
       "239       29.03  5.92    Male     No   Sat  Dinner     3\n",
       "240       27.18  2.00  Female    Yes   Sat  Dinner     2\n",
       "241       22.67  2.00    Male    Yes   Sat  Dinner     2\n",
       "242       17.82  1.75    Male     No   Sat  Dinner     2\n",
       "243       18.78  3.00  Female     No  Thur  Dinner     2"
      ]
     },
     "execution_count": 6,
     "metadata": {},
     "output_type": "execute_result"
    }
   ],
   "source": [
    "df.tail(20)"
   ]
  },
  {
   "cell_type": "code",
   "execution_count": 7,
   "id": "7f9e3b5e",
   "metadata": {},
   "outputs": [],
   "source": [
    "##Descriptive stats of Total bill?"
   ]
  },
  {
   "cell_type": "code",
   "execution_count": 8,
   "id": "84a6f0d2",
   "metadata": {},
   "outputs": [],
   "source": [
    "## Measures of Location-Qunatiles"
   ]
  },
  {
   "cell_type": "code",
   "execution_count": 10,
   "id": "114453e2",
   "metadata": {},
   "outputs": [
    {
     "data": {
      "text/plain": [
       "20.756500000000003"
      ]
     },
     "execution_count": 10,
     "metadata": {},
     "output_type": "execute_result"
    }
   ],
   "source": [
    "##finding 65 percentile data\n",
    "df.total_bill.quantile(0.65)"
   ]
  },
  {
   "cell_type": "code",
   "execution_count": 11,
   "id": "1545904c",
   "metadata": {},
   "outputs": [
    {
     "data": {
      "text/plain": [
       "13.3475"
      ]
     },
     "execution_count": 11,
     "metadata": {},
     "output_type": "execute_result"
    }
   ],
   "source": [
    "df.total_bill.quantile(0.25)"
   ]
  },
  {
   "cell_type": "code",
   "execution_count": 12,
   "id": "6ef661a3",
   "metadata": {},
   "outputs": [
    {
     "data": {
      "text/plain": [
       "17.795"
      ]
     },
     "execution_count": 12,
     "metadata": {},
     "output_type": "execute_result"
    }
   ],
   "source": [
    "df.total_bill.quantile(0.50)"
   ]
  },
  {
   "cell_type": "code",
   "execution_count": 13,
   "id": "63162411",
   "metadata": {},
   "outputs": [
    {
     "data": {
      "text/plain": [
       "24.127499999999998"
      ]
     },
     "execution_count": 13,
     "metadata": {},
     "output_type": "execute_result"
    }
   ],
   "source": [
    "df.total_bill.quantile(0.75)"
   ]
  },
  {
   "cell_type": "code",
   "execution_count": 14,
   "id": "8fbc2054",
   "metadata": {},
   "outputs": [],
   "source": [
    "## qualtile is a function we can find percentile at any point of data"
   ]
  },
  {
   "cell_type": "code",
   "execution_count": 95,
   "id": "91808740",
   "metadata": {},
   "outputs": [
    {
     "data": {
      "text/plain": [
       "count    244.000000\n",
       "mean      19.785943\n",
       "std        8.902412\n",
       "min        3.070000\n",
       "25%       13.347500\n",
       "50%       17.795000\n",
       "75%       24.127500\n",
       "max       50.810000\n",
       "Name: total_bill, dtype: float64"
      ]
     },
     "execution_count": 95,
     "metadata": {},
     "output_type": "execute_result"
    }
   ],
   "source": [
    "##Describe gives the all the qualtiles including mean\n",
    "df.total_bill.describe()"
   ]
  },
  {
   "cell_type": "code",
   "execution_count": 19,
   "id": "2acee5e5",
   "metadata": {},
   "outputs": [
    {
     "data": {
      "text/plain": [
       "3.07"
      ]
     },
     "execution_count": 19,
     "metadata": {},
     "output_type": "execute_result"
    }
   ],
   "source": [
    "##Gives the min Value\n",
    "df.total_bill.quantile(0)"
   ]
  },
  {
   "cell_type": "code",
   "execution_count": 20,
   "id": "4b22c656",
   "metadata": {},
   "outputs": [
    {
     "data": {
      "text/plain": [
       "50.81"
      ]
     },
     "execution_count": 20,
     "metadata": {},
     "output_type": "execute_result"
    }
   ],
   "source": [
    "##Gives the max value\n",
    "df.total_bill.quantile(1)"
   ]
  },
  {
   "cell_type": "code",
   "execution_count": 21,
   "id": "1b229892",
   "metadata": {},
   "outputs": [
    {
     "data": {
      "text/plain": [
       "79.25293861397826"
      ]
     },
     "execution_count": 21,
     "metadata": {},
     "output_type": "execute_result"
    }
   ],
   "source": [
    "## Gives variance\n",
    "df.total_bill.var()"
   ]
  },
  {
   "cell_type": "code",
   "execution_count": 22,
   "id": "0d6124c2",
   "metadata": {
    "scrolled": true
   },
   "outputs": [
    {
     "data": {
      "text/plain": [
       "79.252939417744"
      ]
     },
     "execution_count": 22,
     "metadata": {},
     "output_type": "execute_result"
    }
   ],
   "source": [
    "##square root of standard deviation is variance\n",
    "8.902412**2"
   ]
  },
  {
   "cell_type": "code",
   "execution_count": 24,
   "id": "faf5deab",
   "metadata": {},
   "outputs": [
    {
     "data": {
      "text/plain": [
       "78.92813148851113"
      ]
     },
     "execution_count": 24,
     "metadata": {},
     "output_type": "execute_result"
    }
   ],
   "source": [
    "##numpy always calculate population mean\n",
    "np.var(df.total_bill)"
   ]
  },
  {
   "cell_type": "code",
   "execution_count": 28,
   "id": "7d854f54",
   "metadata": {},
   "outputs": [
    {
     "data": {
      "text/plain": [
       "79.25293861397826"
      ]
     },
     "execution_count": 28,
     "metadata": {},
     "output_type": "execute_result"
    }
   ],
   "source": [
    "#to calculate population mean in numpy\n",
    "#ddod - deduction of degrees of freedom\n",
    "#reduce the denominator by n-1\n",
    "np.var(df.total_bill,ddof=1)"
   ]
  },
  {
   "cell_type": "code",
   "execution_count": 29,
   "id": "22324983",
   "metadata": {},
   "outputs": [
    {
     "data": {
      "text/plain": [
       "0    13.42\n",
       "dtype: float64"
      ]
     },
     "execution_count": 29,
     "metadata": {},
     "output_type": "execute_result"
    }
   ],
   "source": [
    "#calculates the mode\n",
    "df.total_bill.mode()"
   ]
  },
  {
   "cell_type": "code",
   "execution_count": 31,
   "id": "2282f7b2",
   "metadata": {},
   "outputs": [
    {
     "data": {
      "text/plain": [
       "13.42    3\n",
       "21.01    2\n",
       "18.29    2\n",
       "10.07    2\n",
       "20.69    2\n",
       "        ..\n",
       "24.27    1\n",
       "38.07    1\n",
       "7.51     1\n",
       "14.52    1\n",
       "26.88    1\n",
       "Name: total_bill, Length: 229, dtype: int64"
      ]
     },
     "execution_count": 31,
     "metadata": {},
     "output_type": "execute_result"
    }
   ],
   "source": [
    "#calculate no of times each value repeated\n",
    "df.total_bill.value_counts()"
   ]
  },
  {
   "cell_type": "code",
   "execution_count": 37,
   "id": "3053d9ef",
   "metadata": {},
   "outputs": [
    {
     "data": {
      "text/plain": [
       "10.779999999999998"
      ]
     },
     "execution_count": 37,
     "metadata": {},
     "output_type": "execute_result"
    }
   ],
   "source": [
    "#calculates the iqr\n",
    "iqr=df.total_bill.quantile(0.75)-df.total_bill.quantile(0.25)\n",
    "iqr"
   ]
  },
  {
   "cell_type": "code",
   "execution_count": 39,
   "id": "18e45818",
   "metadata": {},
   "outputs": [
    {
     "data": {
      "text/plain": [
       "10.779999999999998"
      ]
     },
     "execution_count": 39,
     "metadata": {},
     "output_type": "execute_result"
    }
   ],
   "source": [
    "#calculates teh iqr by stats function\n",
    "st.iqr(df.total_bill)"
   ]
  },
  {
   "cell_type": "code",
   "execution_count": 49,
   "id": "519b0841",
   "metadata": {},
   "outputs": [
    {
     "data": {
      "text/plain": [
       "<AxesSubplot:ylabel='total_bill'>"
      ]
     },
     "execution_count": 49,
     "metadata": {},
     "output_type": "execute_result"
    },
    {
     "data": {
      "image/png": "[encoded data removed]",
      "text/plain": [
       "<Figure size 432x288 with 1 Axes>"
      ]
     },
     "metadata": {
      "needs_background": "light"
     },
     "output_type": "display_data"
    }
   ],
   "source": [
    "##it shoes the boxplot\n",
    "##the dots represent outliers\n",
    "sn.boxplot(y=df.total_bill)"
   ]
  },
  {
   "cell_type": "code",
   "execution_count": 42,
   "id": "968167f2",
   "metadata": {},
   "outputs": [],
   "source": [
    "q3=df.total_bill.quantile(0.75)\n",
    "q1=df.total_bill.quantile(0.25)"
   ]
  },
  {
   "cell_type": "code",
   "execution_count": 46,
   "id": "fc646c65",
   "metadata": {},
   "outputs": [
    {
     "data": {
      "text/plain": [
       "40.29749999999999"
      ]
     },
     "execution_count": 46,
     "metadata": {},
     "output_type": "execute_result"
    }
   ],
   "source": [
    "#calculates the upper wisker line value\n",
    "uw=q3+1.5*iqr\n",
    "uw"
   ]
  },
  {
   "cell_type": "code",
   "execution_count": 47,
   "id": "c0a5f7c7",
   "metadata": {},
   "outputs": [
    {
     "data": {
      "text/plain": [
       "-2.8224999999999945"
      ]
     },
     "execution_count": 47,
     "metadata": {},
     "output_type": "execute_result"
    }
   ],
   "source": [
    "#calculates the lower wisker line value\n",
    "lw=q1-1.5*iqr\n",
    "lw"
   ]
  },
  {
   "cell_type": "code",
   "execution_count": 93,
   "id": "6f833814",
   "metadata": {},
   "outputs": [],
   "source": [
    "##if no data point below lower wisker line, it consider the min value as lower wisker line\n",
    "##hence lw=min in data\n",
    "##if no data point above upper wisker line, it consider the max value as upper wisker line\n",
    "##hence uw=max in data\n",
    "##if no outliers, your lw = min and ow = max"
   ]
  },
  {
   "cell_type": "code",
   "execution_count": 52,
   "id": "e1bc96e1",
   "metadata": {},
   "outputs": [
    {
     "data": {
      "text/plain": [
       "1.1332130376158205"
      ]
     },
     "execution_count": 52,
     "metadata": {},
     "output_type": "execute_result"
    }
   ],
   "source": [
    "##it shows the skew of the data\n",
    "df.total_bill.skew()"
   ]
  },
  {
   "cell_type": "code",
   "execution_count": 54,
   "id": "b2f33dcf",
   "metadata": {},
   "outputs": [
    {
     "data": {
      "text/plain": [
       "<seaborn.axisgrid.FacetGrid at 0x2cb86902040>"
      ]
     },
     "execution_count": 54,
     "metadata": {},
     "output_type": "execute_result"
    },
    {
     "data": {
      "image/png": "[encoded data removed]",
      "text/plain": [
       "<Figure size 360x360 with 1 Axes>"
      ]
     },
     "metadata": {
      "needs_background": "light"
     },
     "output_type": "display_data"
    }
   ],
   "source": [
    "##shows the graph\n",
    "sn.displot(df.total_bill)"
   ]
  },
  {
   "cell_type": "code",
   "execution_count": 56,
   "id": "7a7cf4e3",
   "metadata": {},
   "outputs": [
    {
     "data": {
      "text/plain": [
       "1.2184840156638854"
      ]
     },
     "execution_count": 56,
     "metadata": {},
     "output_type": "execute_result"
    }
   ],
   "source": [
    "#shows kurtosis value\n",
    "df.total_bill.kurtosis()"
   ]
  },
  {
   "cell_type": "code",
   "execution_count": 59,
   "id": "af2eacfd",
   "metadata": {},
   "outputs": [
    {
     "data": {
      "text/plain": [
       "44.99362059470671"
      ]
     },
     "execution_count": 59,
     "metadata": {},
     "output_type": "execute_result"
    }
   ],
   "source": [
    "#shows the cv value\n",
    "cv=df.total_bill.std()*100/df.total_bill.mean()\n",
    "cv"
   ]
  },
  {
   "cell_type": "code",
   "execution_count": 64,
   "id": "bdfbc6d9",
   "metadata": {},
   "outputs": [
    {
     "data": {
      "text/plain": [
       "8.902411954856856"
      ]
     },
     "execution_count": 64,
     "metadata": {},
     "output_type": "execute_result"
    }
   ],
   "source": [
    "#standard deviation\n",
    "0.4499362059470671*df.total_bill.mean()"
   ]
  },
  {
   "cell_type": "code",
   "execution_count": 67,
   "id": "9ee9e383",
   "metadata": {},
   "outputs": [
    {
     "data": {
      "text/plain": [
       "8.902411954856856"
      ]
     },
     "execution_count": 67,
     "metadata": {},
     "output_type": "execute_result"
    }
   ],
   "source": [
    "#standard deviation\n",
    "df.total_bill.std()"
   ]
  },
  {
   "cell_type": "code",
   "execution_count": 69,
   "id": "3e5b63a7",
   "metadata": {},
   "outputs": [
    {
     "name": "stdout",
     "output_type": "stream",
     "text": [
      "<class 'pandas.core.frame.DataFrame'>\n",
      "RangeIndex: 244 entries, 0 to 243\n",
      "Data columns (total 7 columns):\n",
      " #   Column      Non-Null Count  Dtype   \n",
      "---  ------      --------------  -----   \n",
      " 0   total_bill  244 non-null    float64 \n",
      " 1   tip         244 non-null    float64 \n",
      " 2   sex         244 non-null    category\n",
      " 3   smoker      244 non-null    category\n",
      " 4   day         244 non-null    category\n",
      " 5   time        244 non-null    category\n",
      " 6   size        244 non-null    int64   \n",
      "dtypes: category(4), float64(2), int64(1)\n",
      "memory usage: 7.4 KB\n"
     ]
    }
   ],
   "source": [
    "#gives the information of dataframe\n",
    "df.info()"
   ]
  },
  {
   "cell_type": "code",
   "execution_count": 71,
   "id": "984d167f",
   "metadata": {},
   "outputs": [
    {
     "data": {
      "text/plain": [
       "Male      157\n",
       "Female     87\n",
       "Name: sex, dtype: int64"
      ]
     },
     "execution_count": 71,
     "metadata": {},
     "output_type": "execute_result"
    }
   ],
   "source": [
    "#counts the no of males and no of females\n",
    "df.sex.value_counts()"
   ]
  },
  {
   "cell_type": "code",
   "execution_count": 74,
   "id": "3a882398",
   "metadata": {},
   "outputs": [
    {
     "data": {
      "text/plain": [
       "<AxesSubplot:xlabel='sex', ylabel='count'>"
      ]
     },
     "execution_count": 74,
     "metadata": {},
     "output_type": "execute_result"
    },
    {
     "data": {
      "image/png": "[encoded data removed]",
      "text/plain": [
       "<Figure size 432x288 with 1 Axes>"
      ]
     },
     "metadata": {
      "needs_background": "light"
     },
     "output_type": "display_data"
    }
   ],
   "source": [
    "#graph plots of the sex column\n",
    "sn.countplot(df.sex)"
   ]
  },
  {
   "cell_type": "code",
   "execution_count": 77,
   "id": "31ecfd5e",
   "metadata": {},
   "outputs": [
    {
     "data": {
      "text/plain": [
       "No     151\n",
       "Yes     93\n",
       "Name: smoker, dtype: int64"
      ]
     },
     "execution_count": 77,
     "metadata": {},
     "output_type": "execute_result"
    }
   ],
   "source": [
    "#shows the count of smokers\n",
    "df.smoker.value_counts()"
   ]
  },
  {
   "cell_type": "code",
   "execution_count": 79,
   "id": "99e2a274",
   "metadata": {},
   "outputs": [
    {
     "data": {
      "text/plain": [
       "<AxesSubplot:xlabel='smoker', ylabel='count'>"
      ]
     },
     "execution_count": 79,
     "metadata": {},
     "output_type": "execute_result"
    },
    {
     "data": {
      "image/png": "[encoded data removed]",
      "text/plain": [
       "<Figure size 432x288 with 1 Axes>"
      ]
     },
     "metadata": {
      "needs_background": "light"
     },
     "output_type": "display_data"
    }
   ],
   "source": [
    "#shows the graph of smokers\n",
    "sn.countplot(df.smoker)"
   ]
  },
  {
   "cell_type": "code",
   "execution_count": 82,
   "id": "8d36ca2e",
   "metadata": {},
   "outputs": [
    {
     "data": {
      "text/plain": [
       "Dinner    176\n",
       "Lunch      68\n",
       "Name: time, dtype: int64"
      ]
     },
     "execution_count": 82,
     "metadata": {},
     "output_type": "execute_result"
    }
   ],
   "source": [
    "#shows the count of time\n",
    "df.time.value_counts()"
   ]
  },
  {
   "cell_type": "code",
   "execution_count": 80,
   "id": "3508f6c4",
   "metadata": {},
   "outputs": [
    {
     "data": {
      "text/plain": [
       "<AxesSubplot:xlabel='time', ylabel='count'>"
      ]
     },
     "execution_count": 80,
     "metadata": {},
     "output_type": "execute_result"
    },
    {
     "data": {
      "image/png": "[encoded data removed]",
      "text/plain": [
       "<Figure size 432x288 with 1 Axes>"
      ]
     },
     "metadata": {
      "needs_background": "light"
     },
     "output_type": "display_data"
    }
   ],
   "source": [
    "#shows the graph of count of time(lunch and time)\n",
    "sn.countplot(df.time)"
   ]
  },
  {
   "cell_type": "code",
   "execution_count": 85,
   "id": "40c2d031",
   "metadata": {},
   "outputs": [
    {
     "data": {
      "text/plain": [
       "<AxesSubplot:xlabel='sex', ylabel='count'>"
      ]
     },
     "execution_count": 85,
     "metadata": {},
     "output_type": "execute_result"
    },
    {
     "data": {
      "image/png": "[encoded data removed]",
      "text/plain": [
       "<Figure size 432x288 with 1 Axes>"
      ]
     },
     "metadata": {
      "needs_background": "light"
     },
     "output_type": "display_data"
    }
   ],
   "source": [
    "#combines the graph \n",
    "sn.countplot(x=df.sex,hue=df.smoker)"
   ]
  },
  {
   "cell_type": "code",
   "execution_count": 89,
   "id": "ae562914",
   "metadata": {},
   "outputs": [
    {
     "name": "stderr",
     "output_type": "stream",
     "text": [
      "C:\\Users\\rproddatur\\Anaconda3\\lib\\site-packages\\seaborn\\_decorators.py:36: FutureWarning: Pass the following variables as keyword args: x, y. From version 0.12, the only valid positional argument will be `data`, and passing other arguments without an explicit keyword will result in an error or misinterpretation.\n",
      "  warnings.warn(\n"
     ]
    },
    {
     "data": {
      "text/plain": [
       "<AxesSubplot:xlabel='total_bill', ylabel='tip'>"
      ]
     },
     "execution_count": 89,
     "metadata": {},
     "output_type": "execute_result"
    },
    {
     "data": {
      "image/png": "[encoded data removed]",
      "text/plain": [
       "<Figure size 432x288 with 1 Axes>"
      ]
     },
     "metadata": {
      "needs_background": "light"
     },
     "output_type": "display_data"
    }
   ],
   "source": [
    "#scatter plot diagram of total bill and tip\n",
    "sn.scatterplot(df.total_bill,df.tip)"
   ]
  },
  {
   "cell_type": "code",
   "execution_count": 91,
   "id": "7d4a3b95",
   "metadata": {},
   "outputs": [
    {
     "data": {
      "text/plain": [
       "<AxesSubplot:xlabel='sex', ylabel='total_bill'>"
      ]
     },
     "execution_count": 91,
     "metadata": {},
     "output_type": "execute_result"
    },
    {
     "data": {
      "image/png": "[encoded data removed]",
      "text/plain": [
       "<Figure size 432x288 with 1 Axes>"
      ]
     },
     "metadata": {
      "needs_background": "light"
     },
     "output_type": "display_data"
    }
   ],
   "source": [
    "#the box plot diagram of sex and total_bill\n",
    "sn.boxplot(x=df.sex,y=df.total_bill)"
   ]
  },
  {
   "cell_type": "markdown",
   "id": "32fabee0",
   "metadata": {},
   "source": [
    "Theoritical or classical - probability is ratio of favarable outcomes to the total outcomes\n",
    "Relative fequency - absolute frequnecy /total frequency\n",
    "ubjective probability - derived from individual own opinion, it is used where we dont have a data"
   ]
  },
  {
   "cell_type": "markdown",
   "id": "75936f95",
   "metadata": {},
   "source": [
    "Marginal probability - p(male and Be-cs)\n",
    "joint Probability - \n",
    "Conditional Probability - p(Male given the person is Be-cs)=p(A|B)=p(A and B)/p(B)\n",
    "p(non-BE|person is female)=p(non-be and penson is female)/p(person is female)\n",
    "bayes theorem : p(A|B)=p(B|A)*p(A)/p(B) or p(B|A)=p(A|B)*p(A)/p(A)\n",
    "p(A|B): posterior ,p(B|A): likelihood to happen, p(A):prior, p(B):evidence\n",
    "Mutually Exclusive Events - action cannot occur ar same time, intersection=0\n",
    "independent events - actions occur independtly, p(a and b)=p(a)*p(b)\n",
    "random variables - a variable which may be random or dicrete\n",
    "discrete probability distribution - binomial,possion\n",
    "continous probality distribution - normal"
   ]
  },
  {
   "cell_type": "markdown",
   "id": "a0666495",
   "metadata": {},
   "source": [
    "coin has 2 outcomes is tossed 3 times then total comibination outcomes are 2**n\n",
    "binomial : p(X=x)=f(x)-ncx . p**x .q**(n-x)\n",
    "(p+q)**n = nc0 . p**0 . Q**n + .... +ncn . p**n . Q**0\n",
    "q=1-p"
   ]
  },
  {
   "cell_type": "code",
   "execution_count": 102,
   "id": "0a171bd4",
   "metadata": {},
   "outputs": [
    {
     "data": {
      "text/plain": [
       "array([0.125, 0.375, 0.375, 0.125])"
      ]
     },
     "execution_count": 102,
     "metadata": {},
     "output_type": "execute_result"
    }
   ],
   "source": [
    "#toss a coin 3 times and find prob of getting atleast 2 heads\n",
    "n=3 # sample size\n",
    "p=0.5 #prob of getting head\n",
    "x=np.arange(0,4) #random varible - no of heads\n",
    "#pmf:probability mass function\n",
    "pmf=st.binom.pmf(x,n,p)\n",
    "pmf"
   ]
  },
  {
   "cell_type": "code",
   "execution_count": 103,
   "id": "a1a5ee48",
   "metadata": {},
   "outputs": [
    {
     "data": {
      "text/plain": [
       "<BarContainer object of 4 artists>"
      ]
     },
     "execution_count": 103,
     "metadata": {},
     "output_type": "execute_result"
    },
    {
     "data": {
      "image/png": "[encoded data removed]",
      "text/plain": [
       "<Figure size 432x288 with 1 Axes>"
      ]
     },
     "metadata": {
      "needs_background": "light"
     },
     "output_type": "display_data"
    }
   ],
   "source": [
    "#plot the diagram of pmf\n",
    "plt.bar(x,pmf)"
   ]
  },
  {
   "cell_type": "code",
   "execution_count": 107,
   "id": "b048a178",
   "metadata": {},
   "outputs": [
    {
     "data": {
      "text/plain": [
       "array([0.125, 0.5  , 0.875, 1.   ])"
      ]
     },
     "execution_count": 107,
     "metadata": {},
     "output_type": "execute_result"
    }
   ],
   "source": [
    "#cumulative probability\n",
    "#cdf : cumulative distribution function\n",
    "#sf : survival function\n",
    "cdf=st.binom.cdf(x,n,p)\n",
    "cdf"
   ]
  },
  {
   "cell_type": "code",
   "execution_count": 108,
   "id": "400fa38e",
   "metadata": {},
   "outputs": [],
   "source": [
    "#find prob of getting atleast 2 heads\n",
    "#p(x>=2) = p(x=2)+p(x=3) = 1-p((x=0)+p(x=1)) = 1-cdf(1)\n",
    "#cdf(x)+sf(x)=1"
   ]
  },
  {
   "cell_type": "code",
   "execution_count": 106,
   "id": "a6d8b082",
   "metadata": {},
   "outputs": [
    {
     "data": {
      "text/plain": [
       "0.5"
      ]
     },
     "execution_count": 106,
     "metadata": {},
     "output_type": "execute_result"
    }
   ],
   "source": [
    "#using cdf function\n",
    "1-st.binom.cdf(1,n,p)"
   ]
  },
  {
   "cell_type": "code",
   "execution_count": 110,
   "id": "94f5c1c9",
   "metadata": {},
   "outputs": [
    {
     "data": {
      "text/plain": [
       "0.5"
      ]
     },
     "execution_count": 110,
     "metadata": {},
     "output_type": "execute_result"
    }
   ],
   "source": [
    "#using sf function\n",
    "st.binom.sf(1,n,p)"
   ]
  },
  {
   "cell_type": "code",
   "execution_count": 115,
   "id": "1c5f0277",
   "metadata": {},
   "outputs": [
    {
     "data": {
      "text/plain": [
       "0.875"
      ]
     },
     "execution_count": 115,
     "metadata": {},
     "output_type": "execute_result"
    }
   ],
   "source": [
    "#find the prob that you atleast one head\n",
    "#p(x>=1)\n",
    "1-st.binom.cdf(0,n,p)\n",
    "#st.binom.sf(0,n,p)"
   ]
  },
  {
   "cell_type": "code",
   "execution_count": 117,
   "id": "82292804",
   "metadata": {},
   "outputs": [
    {
     "data": {
      "text/plain": [
       "<BarContainer object of 4 artists>"
      ]
     },
     "execution_count": 117,
     "metadata": {},
     "output_type": "execute_result"
    },
    {
     "data": {
      "image/png": "[encoded data removed]",
      "text/plain": [
       "<Figure size 432x288 with 1 Axes>"
      ]
     },
     "metadata": {
      "needs_background": "light"
     },
     "output_type": "display_data"
    }
   ],
   "source": [
    "#plot the bar graph\n",
    "plt.bar(x,cdf)"
   ]
  },
  {
   "cell_type": "code",
   "execution_count": 119,
   "id": "e3e37ba3",
   "metadata": {},
   "outputs": [
    {
     "data": {
      "text/plain": [
       "array([1.   , 0.875, 0.5  , 0.125])"
      ]
     },
     "execution_count": 119,
     "metadata": {},
     "output_type": "execute_result"
    }
   ],
   "source": [
    "#sf : survival function\n",
    "sf=st.binom.sf(x-1,n,p)\n",
    "sf"
   ]
  },
  {
   "cell_type": "code",
   "execution_count": 120,
   "id": "f56ad110",
   "metadata": {},
   "outputs": [
    {
     "data": {
      "text/plain": [
       "<BarContainer object of 4 artists>"
      ]
     },
     "execution_count": 120,
     "metadata": {},
     "output_type": "execute_result"
    },
    {
     "data": {
      "image/png": "[encoded data removed]",
      "text/plain": [
       "<Figure size 432x288 with 1 Axes>"
      ]
     },
     "metadata": {
      "needs_background": "light"
     },
     "output_type": "display_data"
    }
   ],
   "source": [
    "#plot the bar graph\n",
    "plt.bar(x,sf)"
   ]
  },
  {
   "cell_type": "code",
   "execution_count": 122,
   "id": "829a7da9",
   "metadata": {},
   "outputs": [
    {
     "data": {
      "text/plain": [
       "(array(1.5), array(0.75))"
      ]
     },
     "execution_count": 122,
     "metadata": {},
     "output_type": "execute_result"
    }
   ],
   "source": [
    "##expected value =np =3*0.5=1.5 ## average \n",
    "##variance =npq =3.0*0.5*0.5\n",
    "st.binom.stats(n,p)"
   ]
  },
  {
   "cell_type": "code",
   "execution_count": 123,
   "id": "1662c2c2",
   "metadata": {},
   "outputs": [
    {
     "data": {
      "text/plain": [
       "9.5367431640625e-07"
      ]
     },
     "execution_count": 123,
     "metadata": {},
     "output_type": "execute_result"
    }
   ],
   "source": [
    "##when you toss a coin 20 times  what is the prob you get 20 heads\n",
    "n=20\n",
    "x=20\n",
    "p=0.5\n",
    "st.binom.pmf(x,n,p)"
   ]
  },
  {
   "cell_type": "code",
   "execution_count": 133,
   "id": "06195bd3",
   "metadata": {},
   "outputs": [
    {
     "data": {
      "text/plain": [
       "8.881784197001244e-16"
      ]
     },
     "execution_count": 133,
     "metadata": {},
     "output_type": "execute_result"
    }
   ],
   "source": [
    "##when you toss a coin 50 times  what is the prob you get 50 heads\n",
    "n=50\n",
    "x=50\n",
    "p=0.5\n",
    "st.binom.pmf(x,n,p)"
   ]
  },
  {
   "cell_type": "code",
   "execution_count": 151,
   "id": "084e33cb",
   "metadata": {},
   "outputs": [],
   "source": [
    "x=np.arange(0,51)\n",
    "n=20\n",
    "p=0.5\n",
    "pmf_x=st.binom.cdf(x,n,p)"
   ]
  },
  {
   "cell_type": "code",
   "execution_count": 152,
   "id": "a237900e",
   "metadata": {},
   "outputs": [
    {
     "data": {
      "text/plain": [
       "<BarContainer object of 51 artists>"
      ]
     },
     "execution_count": 152,
     "metadata": {},
     "output_type": "execute_result"
    },
    {
     "data": {
      "image/png": "[encoded data removed]",
      "text/plain": [
       "<Figure size 432x288 with 1 Axes>"
      ]
     },
     "metadata": {
      "needs_background": "light"
     },
     "output_type": "display_data"
    }
   ],
   "source": [
    "#plot the bar diagram\n",
    "plt.bar(x,pmf_x)"
   ]
  },
  {
   "cell_type": "code",
   "execution_count": 155,
   "id": "3bd5ed58",
   "metadata": {},
   "outputs": [],
   "source": [
    "x=np.arange(0,51)\n",
    "n=20\n",
    "p=0.5\n",
    "pmf_x=st.binom.sf(x,n,p)"
   ]
  },
  {
   "cell_type": "code",
   "execution_count": 156,
   "id": "f7f83e13",
   "metadata": {},
   "outputs": [
    {
     "data": {
      "text/plain": [
       "<BarContainer object of 51 artists>"
      ]
     },
     "execution_count": 156,
     "metadata": {},
     "output_type": "execute_result"
    },
    {
     "data": {
      "image/png": "[encoded data removed]",
      "text/plain": [
       "<Figure size 432x288 with 1 Axes>"
      ]
     },
     "metadata": {
      "needs_background": "light"
     },
     "output_type": "display_data"
    }
   ],
   "source": [
    "#plot the bar diagram\n",
    "plt.bar(x,pmf_x)"
   ]
  },
  {
   "cell_type": "markdown",
   "id": "18d6d580",
   "metadata": {},
   "source": [
    "Poisson distribution :n->infinity, y->poisson\n",
    "f(x)=e**(-lamda)*(lamda power x)/x!\n",
    "\n",
    "lambda is the avg no of things with restect to either time or length or area or volume "
   ]
  },
  {
   "cell_type": "markdown",
   "id": "4614774d",
   "metadata": {},
   "source": [
    "In a super market , on an average 35 people visit per day. what is the probability that 100 people visit in a given day?"
   ]
  },
  {
   "cell_type": "code",
   "execution_count": 159,
   "id": "ff0edbce",
   "metadata": {},
   "outputs": [
    {
     "data": {
      "text/plain": [
       "1.7238279327394187e-19"
      ]
     },
     "execution_count": 159,
     "metadata": {},
     "output_type": "execute_result"
    }
   ],
   "source": [
    "lamda=35\n",
    "x=100\n",
    "st.poisson.pmf(x,lamda)"
   ]
  },
  {
   "cell_type": "code",
   "execution_count": 160,
   "id": "72cb2e28",
   "metadata": {},
   "outputs": [
    {
     "data": {
      "text/plain": [
       "0.06727319239963186"
      ]
     },
     "execution_count": 160,
     "metadata": {},
     "output_type": "execute_result"
    }
   ],
   "source": [
    "st.poisson.pmf(35,lamda)"
   ]
  },
  {
   "cell_type": "code",
   "execution_count": 163,
   "id": "61c77f51",
   "metadata": {},
   "outputs": [
    {
     "data": {
      "text/plain": [
       "0.5447920019696894"
      ]
     },
     "execution_count": 163,
     "metadata": {},
     "output_type": "execute_result"
    }
   ],
   "source": [
    "#probability of atmost 35 people visit the store\n",
    "st.poisson.cdf(35,lamda)"
   ]
  },
  {
   "cell_type": "code",
   "execution_count": 167,
   "id": "a2ea025a",
   "metadata": {},
   "outputs": [],
   "source": [
    "x=np.arange(0,100)\n",
    "pmf_poi=st.poisson.pmf(x,lamda)\n",
    "cdf_poi=st.poisson.cdf(x,lamda)\n",
    "sf_poi=st.poisson.sf(x-1,lamda)"
   ]
  },
  {
   "cell_type": "code",
   "execution_count": 171,
   "id": "a3a692f5",
   "metadata": {
    "scrolled": true
   },
   "outputs": [
    {
     "data": {
      "text/plain": [
       "<BarContainer object of 100 artists>"
      ]
     },
     "execution_count": 171,
     "metadata": {},
     "output_type": "execute_result"
    },
    {
     "data": {
      "image/png": "[encoded data removed]",
      "text/plain": [
       "<Figure size 432x288 with 1 Axes>"
      ]
     },
     "metadata": {
      "needs_background": "light"
     },
     "output_type": "display_data"
    }
   ],
   "source": [
    "#resembles normal distribution\n",
    "plt.bar(x,pmf_poi)"
   ]
  },
  {
   "cell_type": "code",
   "execution_count": 169,
   "id": "b64649f0",
   "metadata": {},
   "outputs": [
    {
     "data": {
      "text/plain": [
       "<BarContainer object of 100 artists>"
      ]
     },
     "execution_count": 169,
     "metadata": {},
     "output_type": "execute_result"
    },
    {
     "data": {
      "image/png": "[encoded data removed]",
      "text/plain": [
       "<Figure size 432x288 with 1 Axes>"
      ]
     },
     "metadata": {
      "needs_background": "light"
     },
     "output_type": "display_data"
    }
   ],
   "source": [
    "plt.bar(x,cdf_poi)"
   ]
  },
  {
   "cell_type": "code",
   "execution_count": 170,
   "id": "80ad7f37",
   "metadata": {},
   "outputs": [
    {
     "data": {
      "text/plain": [
       "<BarContainer object of 100 artists>"
      ]
     },
     "execution_count": 170,
     "metadata": {},
     "output_type": "execute_result"
    },
    {
     "data": {
      "image/png": "[encoded data removed]",
      "text/plain": [
       "<Figure size 432x288 with 1 Axes>"
      ]
     },
     "metadata": {
      "needs_background": "light"
     },
     "output_type": "display_data"
    }
   ],
   "source": [
    "plt.bar(x,sf_poi)"
   ]
  },
  {
   "cell_type": "code",
   "execution_count": 172,
   "id": "c60d8a2f",
   "metadata": {},
   "outputs": [
    {
     "data": {
      "text/plain": [
       "(array(35.), array(35.))"
      ]
     },
     "execution_count": 172,
     "metadata": {},
     "output_type": "execute_result"
    }
   ],
   "source": [
    "## expected value and variance of poisson distribution\n",
    "##E=V=lamda\n",
    "st.poisson.stats(lamda)"
   ]
  },
  {
   "cell_type": "code",
   "execution_count": 173,
   "id": "8dc42227",
   "metadata": {
    "scrolled": true
   },
   "outputs": [
    {
     "data": {
      "text/plain": [
       "1.022310811539747"
      ]
     },
     "execution_count": 173,
     "metadata": {},
     "output_type": "execute_result"
    }
   ],
   "source": [
    "st.poisson.cdf(34,lamda)+st.poisson.cdf(35,lamda)"
   ]
  },
  {
   "cell_type": "markdown",
   "id": "d6511bec",
   "metadata": {},
   "source": [
    "Normal Distribution : f(x)=(1/sigma*(square root(2*pie)))(e**-1/2(square(x-mue/sigma))) \n",
    "\n",
    "x->const R V\n",
    "pie,e->math constant\n",
    "sigma->stand deviation\n",
    "mue->mean"
   ]
  },
  {
   "cell_type": "markdown",
   "id": "1b409385",
   "metadata": {},
   "source": [
    "a month balace in the bank account of credit card holders is assumed to be normally distributed with mean 500 and variance 100. what is the probability that the balance can be more than $513.5?"
   ]
  },
  {
   "cell_type": "code",
   "execution_count": 174,
   "id": "e57ad205",
   "metadata": {},
   "outputs": [
    {
     "data": {
      "text/plain": [
       "0.08850799143740196"
      ]
     },
     "execution_count": 174,
     "metadata": {},
     "output_type": "execute_result"
    }
   ],
   "source": [
    "mu=500\n",
    "var=100\n",
    "sigma=10\n",
    "#p(x>=513.5)\n",
    "st.norm.sf(513.5,mu,sigma)"
   ]
  },
  {
   "cell_type": "code",
   "execution_count": 175,
   "id": "662eaba3",
   "metadata": {},
   "outputs": [
    {
     "data": {
      "text/plain": [
       "89.0"
      ]
     },
     "execution_count": 175,
     "metadata": {},
     "output_type": "execute_result"
    }
   ],
   "source": [
    "##if there are 1000 customers, how many customers will have account balance more than $513.5\n",
    "N=1000\n",
    "round(N*st.norm.sf(513.5,mu,sigma),0)"
   ]
  },
  {
   "cell_type": "code",
   "execution_count": 176,
   "id": "e234c968",
   "metadata": {},
   "outputs": [
    {
     "data": {
      "text/plain": [
       "977.0"
      ]
     },
     "execution_count": 176,
     "metadata": {},
     "output_type": "execute_result"
    }
   ],
   "source": [
    "##how many people will have less than 520$ as their account balance?\n",
    "round(N*st.norm.cdf(520,mu,sigma),0)"
   ]
  },
  {
   "cell_type": "code",
   "execution_count": 180,
   "id": "14b0848f",
   "metadata": {},
   "outputs": [
    {
     "data": {
      "text/plain": [
       "0.9544997361036416"
      ]
     },
     "execution_count": 180,
     "metadata": {},
     "output_type": "execute_result"
    }
   ],
   "source": [
    "## mu+- 1sigma\n",
    "x1=mu+2*sigma\n",
    "x2=mu-2*sigma\n",
    "st.norm.cdf(x1,mu,sigma)-st.norm.cdf(x2,mu,sigma)"
   ]
  },
  {
   "cell_type": "code",
   "execution_count": 178,
   "id": "e0bc4dd2",
   "metadata": {},
   "outputs": [
    {
     "data": {
      "text/plain": [
       "0.6826894921370859"
      ]
     },
     "execution_count": 178,
     "metadata": {},
     "output_type": "execute_result"
    }
   ],
   "source": [
    "#3 using cdf\n",
    "st.norm.cdf(510,mu,sigma)-st.norm.cdf(490,mu,sigma)"
   ]
  },
  {
   "cell_type": "code",
   "execution_count": 179,
   "id": "53706cff",
   "metadata": {},
   "outputs": [
    {
     "data": {
      "text/plain": [
       "0.6826894921370859"
      ]
     },
     "execution_count": 179,
     "metadata": {},
     "output_type": "execute_result"
    }
   ],
   "source": [
    "st.norm.cdf(1)-st.norm.cdf(-1)"
   ]
  },
  {
   "cell_type": "code",
   "execution_count": 181,
   "id": "f6fd327d",
   "metadata": {},
   "outputs": [
    {
     "data": {
      "text/plain": [
       "0.9973002039367398"
      ]
     },
     "execution_count": 181,
     "metadata": {},
     "output_type": "execute_result"
    }
   ],
   "source": [
    "st.norm.cdf(3)-st.norm.cdf(-3)"
   ]
  },
  {
   "cell_type": "code",
   "execution_count": 182,
   "id": "450b3e6d",
   "metadata": {},
   "outputs": [
    {
     "data": {
      "text/plain": [
       "0.15865525393145707"
      ]
     },
     "execution_count": 182,
     "metadata": {},
     "output_type": "execute_result"
    }
   ],
   "source": [
    "st.norm.cdf(490,mu,sigma)"
   ]
  },
  {
   "cell_type": "code",
   "execution_count": 183,
   "id": "3465cc5c",
   "metadata": {},
   "outputs": [
    {
     "data": {
      "text/plain": [
       "490.0"
      ]
     },
     "execution_count": 183,
     "metadata": {},
     "output_type": "execute_result"
    }
   ],
   "source": [
    "st.norm.ppf(0.15865525393145707,mu,sigma)"
   ]
  },
  {
   "cell_type": "code",
   "execution_count": 184,
   "id": "66ba5efd",
   "metadata": {},
   "outputs": [
    {
     "data": {
      "text/plain": [
       "0.15865525393145707"
      ]
     },
     "execution_count": 184,
     "metadata": {},
     "output_type": "execute_result"
    }
   ],
   "source": [
    "st.norm.sf(510,mu,sigma)"
   ]
  },
  {
   "cell_type": "code",
   "execution_count": 186,
   "id": "b220cf56",
   "metadata": {},
   "outputs": [
    {
     "data": {
      "text/plain": [
       "510.0"
      ]
     },
     "execution_count": 186,
     "metadata": {},
     "output_type": "execute_result"
    }
   ],
   "source": [
    "st.norm.isf(0.15865525393145707,mu,sigma)"
   ]
  },
  {
   "cell_type": "code",
   "execution_count": 187,
   "id": "55be8b87",
   "metadata": {},
   "outputs": [
    {
     "data": {
      "text/plain": [
       "-1.0"
      ]
     },
     "execution_count": 187,
     "metadata": {},
     "output_type": "execute_result"
    }
   ],
   "source": [
    "st.norm.ppf(0.15865525393145707)"
   ]
  },
  {
   "cell_type": "code",
   "execution_count": 188,
   "id": "edd3424e",
   "metadata": {},
   "outputs": [
    {
     "data": {
      "text/plain": [
       "1.0"
      ]
     },
     "execution_count": 188,
     "metadata": {},
     "output_type": "execute_result"
    }
   ],
   "source": [
    "st.norm.isf(0.15865525393145707)"
   ]
  },
  {
   "cell_type": "markdown",
   "id": "7add13f9",
   "metadata": {},
   "source": [
    "ppf : point percentile function, isf : inverse survival function"
   ]
  },
  {
   "cell_type": "markdown",
   "id": "fc950b18",
   "metadata": {},
   "source": [
    "# sampling"
   ]
  },
  {
   "cell_type": "markdown",
   "id": "28c2d6c3",
   "metadata": {},
   "source": [
    "non probabilistic sampling\n",
    "\n",
    "1. comfortable sampling :\n",
    "samples are taken on basics of comfortable\n",
    "2. quota sampling :\n",
    "apply some blind value to collect the sample\n",
    "3. snow ball sampling : \n",
    "research participants are requested to assist researchers to take sample\n",
    "4. judgemental sampling : \n",
    "taken by the judgement of experts"
   ]
  },
  {
   "cell_type": "markdown",
   "id": "2e045ffe",
   "metadata": {},
   "source": [
    "probabilistic sampling\n",
    "1. simple replacement sampling : \n",
    "there are two techniques SRS with replacement and without replacement. the probability changes with replacement used  when simulation, without replacement the prob remains same usedwhen pop data is huge\n",
    "2. stratified random sampling : \n",
    "the total population is dived in to groups range from 70:30 called strata. strata is a homogenous group used by researchers to select the sample\n",
    "3. systematic sampling : \n",
    "dividing the population size by the desired sample size with random starting point and fixed fixed interval\n",
    "4. cluster sampling : \n",
    "data is divided in to multiple clusters for reasearch\n",
    "5. multi-stage sampling : \n",
    "combination of above 4 methods"
   ]
  },
  {
   "cell_type": "code",
   "execution_count": 189,
   "id": "c0c2249e",
   "metadata": {},
   "outputs": [],
   "source": [
    "import random"
   ]
  },
  {
   "cell_type": "markdown",
   "id": "2fa3158a",
   "metadata": {},
   "source": [
    "an ice cream manufacture wants to study the sales of icecream  to decide the production policies of the company. he collects the data for the number of ice creamsold in a month from "
   ]
  },
  {
   "cell_type": "code",
   "execution_count": 191,
   "id": "c779fde4",
   "metadata": {},
   "outputs": [],
   "source": [
    "data=[21,93,62,76,73,20,56,95,41,36,38,13,80,88,34,18,40,11,25,29,61,23,82,10,92,69,60,87,14,91]"
   ]
  },
  {
   "cell_type": "code",
   "execution_count": 192,
   "id": "92e20aed",
   "metadata": {},
   "outputs": [
    {
     "data": {
      "text/plain": [
       "30"
      ]
     },
     "execution_count": 192,
     "metadata": {},
     "output_type": "execute_result"
    }
   ],
   "source": [
    "len(data)"
   ]
  },
  {
   "cell_type": "code",
   "execution_count": 197,
   "id": "96850795",
   "metadata": {},
   "outputs": [
    {
     "data": {
      "text/plain": [
       "[25, 93, 88, 18, 91, 21, 56, 34, 60, 41]"
      ]
     },
     "execution_count": 197,
     "metadata": {},
     "output_type": "execute_result"
    }
   ],
   "source": [
    "random.seed(10)\n",
    "#SRS without replacement\n",
    "random.sample(data,k=10)"
   ]
  },
  {
   "cell_type": "code",
   "execution_count": 198,
   "id": "0331a18c",
   "metadata": {},
   "outputs": [],
   "source": [
    "data1=[18,13,16,17,15,21,19,21]"
   ]
  },
  {
   "cell_type": "code",
   "execution_count": 205,
   "id": "4869a646",
   "metadata": {},
   "outputs": [
    {
     "data": {
      "text/plain": [
       "[18,\n",
       " 13,\n",
       " 21,\n",
       " 16,\n",
       " 16,\n",
       " 21,\n",
       " 16,\n",
       " 15,\n",
       " 17,\n",
       " 18,\n",
       " 15,\n",
       " 19,\n",
       " 13,\n",
       " 13,\n",
       " 17,\n",
       " 18,\n",
       " 17,\n",
       " 19,\n",
       " 21,\n",
       " 15]"
      ]
     },
     "execution_count": 205,
     "metadata": {},
     "output_type": "execute_result"
    }
   ],
   "source": [
    "#SRS with replacement it gives the huge data event the sample is small\n",
    "random.choices(data1, k=20)"
   ]
  },
  {
   "cell_type": "markdown",
   "id": "87bc7935",
   "metadata": {},
   "source": [
    "Consider the anual income of 15 employees i a country. the socio-economic status of the employee depends on the anula income"
   ]
  },
  {
   "cell_type": "code",
   "execution_count": null,
   "id": "8be98bb0",
   "metadata": {},
   "outputs": [],
   "source": [
    "#stratified sampling\n",
    "income =pd.dataframe({'status':['low']})"
   ]
  },
  {
   "cell_type": "code",
   "execution_count": null,
   "id": "3d83b20c",
   "metadata": {},
   "outputs": [],
   "source": [
    "income.status.value_counts()"
   ]
  },
  {
   "cell_type": "code",
   "execution_count": null,
   "id": "7570d937",
   "metadata": {},
   "outputs": [],
   "source": [
    "#\n",
    "income.groupby('status').apply(lambda x:x.sample(2,random_state=20))"
   ]
  },
  {
   "cell_type": "code",
   "execution_count": null,
   "id": "83a4d366",
   "metadata": {},
   "outputs": [],
   "source": [
    "#gives error below poverty line\n",
    "income.groupby('status').apply(lambda x:x.sample(4,random_state=20))"
   ]
  },
  {
   "cell_type": "markdown",
   "id": "4506ddfd",
   "metadata": {},
   "source": [
    "systematic sampling"
   ]
  },
  {
   "cell_type": "code",
   "execution_count": null,
   "id": "bb761aa4",
   "metadata": {},
   "outputs": [],
   "source": [
    "data2=np.array([21,93,62,])"
   ]
  },
  {
   "cell_type": "code",
   "execution_count": null,
   "id": "6c95856b",
   "metadata": {},
   "outputs": [],
   "source": [
    "len(data2)"
   ]
  },
  {
   "cell_type": "code",
   "execution_count": null,
   "id": "65cc82ab",
   "metadata": {},
   "outputs": [],
   "source": [
    "tab=data2.reshape(6,15)\n",
    "tab"
   ]
  },
  {
   "cell_type": "code",
   "execution_count": null,
   "id": "b9042e48",
   "metadata": {},
   "outputs": [],
   "source": [
    "tab[:,2]"
   ]
  },
  {
   "cell_type": "code",
   "execution_count": null,
   "id": "b419fa85",
   "metadata": {},
   "outputs": [],
   "source": [
    "table=data2.reshape(6,15)\n",
    "table"
   ]
  },
  {
   "cell_type": "code",
   "execution_count": null,
   "id": "f9f619e0",
   "metadata": {},
   "outputs": [],
   "source": [
    "table[:,2]"
   ]
  },
  {
   "cell_type": "code",
   "execution_count": null,
   "id": "70804af4",
   "metadata": {},
   "outputs": [],
   "source": [
    "if we add elements and try to reshape the it gives error"
   ]
  },
  {
   "cell_type": "markdown",
   "id": "315f4dd5",
   "metadata": {},
   "source": [
    "cluster sampling"
   ]
  },
  {
   "cell_type": "code",
   "execution_count": 206,
   "id": "4e732690",
   "metadata": {},
   "outputs": [],
   "source": [
    "states=['']"
   ]
  },
  {
   "cell_type": "code",
   "execution_count": null,
   "id": "04fe5c66",
   "metadata": {},
   "outputs": [],
   "source": [
    "random.sample(states,k=5)"
   ]
  },
  {
   "cell_type": "code",
   "execution_count": null,
   "id": "a4943fe5",
   "metadata": {},
   "outputs": [],
   "source": [
    "np.mean(data2)"
   ]
  },
  {
   "cell_type": "code",
   "execution_count": null,
   "id": "ae3f2e26",
   "metadata": {},
   "outputs": [],
   "source": [
    "#sampling variablility\n",
    "s1=random.sample(list(data2),k=15)\n",
    "s2=random.sample(list(data2),k=15)\n",
    "s3=random.sample(list(data2),k=15)\n",
    "s4=random.sample(list(data2),k=15)\n",
    "s5=random.sample(list(data2),k=15)"
   ]
  },
  {
   "cell_type": "code",
   "execution_count": null,
   "id": "c42f1cce",
   "metadata": {},
   "outputs": [],
   "source": [
    "np.mean(s1)"
   ]
  },
  {
   "cell_type": "code",
   "execution_count": null,
   "id": "3c4898e3",
   "metadata": {},
   "outputs": [],
   "source": [
    "np.mean(s2)"
   ]
  },
  {
   "cell_type": "code",
   "execution_count": null,
   "id": "fd3cc0e5",
   "metadata": {},
   "outputs": [],
   "source": [
    "np.mean(s3)"
   ]
  },
  {
   "cell_type": "code",
   "execution_count": null,
   "id": "4a1253a9",
   "metadata": {},
   "outputs": [],
   "source": [
    "np.mean(s4)"
   ]
  },
  {
   "cell_type": "code",
   "execution_count": null,
   "id": "dd3f3171",
   "metadata": {},
   "outputs": [],
   "source": [
    "np.mean(s5)"
   ]
  },
  {
   "cell_type": "code",
   "execution_count": null,
   "id": "4b7d66ba",
   "metadata": {},
   "outputs": [],
   "source": [
    "#sample error is absolute difference of pop parameter and sample statistics\n",
    "xbar=np.mean(s1)\n",
    "mu=np.mean(data2)\n",
    "sample_error=abs(mu-xbar)\n",
    "sample_error"
   ]
  },
  {
   "cell_type": "markdown",
   "id": "a5169d41",
   "metadata": {},
   "source": [
    "theory of estimation\n",
    "1. point estimation:\n",
    "a point which serves as abest guess\n",
    "2. sample statistic:\n",
    "it is obtained from random sampling which is random experiment\n",
    "3. sampling error:\n",
    "an error that occurs when a analyst does not select a sample that represents entire population\n",
    "4. interval estimation:\n",
    "\n",
    "5. confidence interval:\n",
    "\n",
    "6. confidence level: \n"
   ]
  },
  {
   "cell_type": "markdown",
   "id": "8e6612e9",
   "metadata": {},
   "source": [
    "CI =point estimate +- Margin error"
   ]
  },
  {
   "cell_type": "markdown",
   "id": "db297981",
   "metadata": {},
   "source": [
    "Margin of error(ME) =z alpha by 2 * standard error "
   ]
  },
  {
   "cell_type": "markdown",
   "id": "dcb1dbd9",
   "metadata": {},
   "source": [
    "n= z square alpha by 2 * sigma square / "
   ]
  },
  {
   "cell_type": "markdown",
   "id": "7439882d",
   "metadata": {},
   "source": [
    "1. ci for mean = xbar+- z alpha by 2 * sigma /sqrt(n)\n",
    "when you know sigma and n>30\n",
    "2. ci for mean = xbar+- t alpha by 2 * sigma /sqrt(n)\n",
    "when you dont know sigma and n<30\n",
    "3. ci for proportion = p+- z alpha by 2 * sqtr(p*(1-p)/n)"
   ]
  },
  {
   "cell_type": "markdown",
   "id": "9e0fba67",
   "metadata": {},
   "source": [
    "100 bags of coal were tested and had an average of 35% of ash with the standard deviation of 15% calculatr the margin of error for a 90% confidence interval. find the 95% confidence interval"
   ]
  },
  {
   "cell_type": "code",
   "execution_count": 3,
   "id": "77ecf485",
   "metadata": {},
   "outputs": [],
   "source": [
    "import pandas as pd\n",
    "import numpy as np\n",
    "import scipy.stats as st\n",
    "import seaborn as sn\n",
    "import matplotlib.pyplot as plt"
   ]
  },
  {
   "cell_type": "code",
   "execution_count": 6,
   "id": "15107eac",
   "metadata": {},
   "outputs": [
    {
     "name": "stdout",
     "output_type": "stream",
     "text": [
      "1.6448536269514729 0.015 0.02467280440427209\n"
     ]
    }
   ],
   "source": [
    "n=100\n",
    "xbar=0.35\n",
    "sigma=0.15\n",
    "alpha_me=0.1\n",
    "alpha_ci=0.05\n",
    "std_error=sigma/np.sqrt(n)\n",
    "me_zalphaby2=st.norm.isf(alpha_me/2)\n",
    "##margin_error=me_zalphaby2*std_error\n",
    "margin_error=me_zalphaby2*std_error\n",
    "print(me_zalphaby2,std_error,margin_error)"
   ]
  },
  {
   "cell_type": "code",
   "execution_count": 7,
   "id": "f72ebd59",
   "metadata": {},
   "outputs": [
    {
     "name": "stdout",
     "output_type": "stream",
     "text": [
      "0.32532719559572787 0.3746728044042721\n"
     ]
    }
   ],
   "source": [
    "## 90% confidence interval\n",
    "lci=xbar-margin_error\n",
    "uci=xbar+margin_error\n",
    "print(lci,uci)"
   ]
  },
  {
   "cell_type": "code",
   "execution_count": 8,
   "id": "e7a5418e",
   "metadata": {},
   "outputs": [],
   "source": [
    "##the population average % of ash lies b/w 32.53% to 37.46% with 90% confidence"
   ]
  },
  {
   "cell_type": "code",
   "execution_count": 10,
   "id": "cf4ba9bc",
   "metadata": {},
   "outputs": [
    {
     "name": "stdout",
     "output_type": "stream",
     "text": [
      "0.32060054023189916 0.3793994597681008\n"
     ]
    }
   ],
   "source": [
    "##95% conf interval\n",
    "ci_zalphaby2=st.norm.isf(alpha_ci/2)\n",
    "me_95=ci_zalphaby2*std_error\n",
    "lci=xbar-me_95\n",
    "uci=xbar+me_95\n",
    "print(lci,uci)"
   ]
  },
  {
   "cell_type": "code",
   "execution_count": null,
   "id": "96363548",
   "metadata": {},
   "outputs": [],
   "source": [
    "##the population average % of ash lies b/w 32% to 37.93% with 95% confidence"
   ]
  },
  {
   "cell_type": "markdown",
   "id": "53804d84",
   "metadata": {},
   "source": [
    "20 bags of coal were tested and had an average of 35% of ash with the standard deviation of 15%. find the 95% confidence interval"
   ]
  },
  {
   "cell_type": "code",
   "execution_count": 11,
   "id": "8fbdcd5a",
   "metadata": {},
   "outputs": [
    {
     "name": "stdout",
     "output_type": "stream",
     "text": [
      "0.27979783903701355 0.4202021609629864\n"
     ]
    }
   ],
   "source": [
    "n=20\n",
    "xbar=0.35\n",
    "s=0.15\n",
    "alpha=0.05\n",
    "talphaby2=st.t.isf(alpha/2,n-1)\n",
    "se=s/np.sqrt(n)\n",
    "me=talphaby2*se\n",
    "lci=xbar-me\n",
    "uci=xbar+me\n",
    "print(lci,uci)"
   ]
  },
  {
   "cell_type": "code",
   "execution_count": null,
   "id": "9eb01fd8",
   "metadata": {},
   "outputs": [],
   "source": [
    "## the production avg % of ash lies b/w 27.97% to 42% with 95% confidence level"
   ]
  },
  {
   "cell_type": "code",
   "execution_count": null,
   "id": "07741351",
   "metadata": {},
   "outputs": [],
   "source": [
    "##confidence interval"
   ]
  },
  {
   "cell_type": "markdown",
   "id": "40f92ef9",
   "metadata": {},
   "source": [
    "a financial firm has created 50 portfolios. from them a sample of 13 portfolios was selected, out of which 8 weer found to be underperforming. costruct a 99% confidence interval to estimate the population proportion"
   ]
  },
  {
   "cell_type": "code",
   "execution_count": 12,
   "id": "b4d8c71e",
   "metadata": {},
   "outputs": [
    {
     "name": "stdout",
     "output_type": "stream",
     "text": [
      "0.26782280814713794 0.962946422622093\n"
     ]
    }
   ],
   "source": [
    "N=50\n",
    "n=13\n",
    "x=8\n",
    "p=x/n\n",
    "alpha=0.01\n",
    "zalphaby2_p=st.norm.isf(alpha/2)\n",
    "se_p=np.sqrt(p*(1-p)/n)\n",
    "me_p=zalphaby2_p*se_p\n",
    "lci=p-me_p\n",
    "uci=p+me_p\n",
    "print(lci,uci)"
   ]
  },
  {
   "cell_type": "code",
   "execution_count": 13,
   "id": "b5297d98",
   "metadata": {},
   "outputs": [
    {
     "data": {
      "text/plain": [
       "(0.2769203960393589, 0.42307960396064104)"
      ]
     },
     "execution_count": 13,
     "metadata": {},
     "output_type": "execute_result"
    }
   ],
   "source": [
    "#st.t.interval(confidence level,dof,xbar,std_error)\n",
    "st.t.interval(0.95,n-1,xbar,se)"
   ]
  },
  {
   "cell_type": "code",
   "execution_count": 14,
   "id": "eda17582",
   "metadata": {},
   "outputs": [],
   "source": [
    "from statsmodels.stats.proportion import proportion_confint"
   ]
  },
  {
   "cell_type": "code",
   "execution_count": 16,
   "id": "399fd77c",
   "metadata": {},
   "outputs": [
    {
     "data": {
      "text/plain": [
       "(0.26782280814713794, 0.962946422622093)"
      ]
     },
     "execution_count": 16,
     "metadata": {},
     "output_type": "execute_result"
    }
   ],
   "source": [
    "proportion_confint(x,n,alpha)"
   ]
  },
  {
   "cell_type": "markdown",
   "id": "0a96bc4e",
   "metadata": {},
   "source": [
    "3 aspect \n",
    "1. check the pattern in sample is same as in population\n",
    "v(income)=f(x1(age),x2(education,x3(gender)))\n",
    "2. feature selection\n",
    "3. to check the model is significant"
   ]
  },
  {
   "cell_type": "markdown",
   "id": "960cd41c",
   "metadata": {},
   "source": [
    "assumptions\n",
    "1. Null hypothesis : \n",
    "status quo - no difference, no impact, (=or>=or<=)\n",
    "2. alternate hypothesis : \n",
    "research hypotehsis ,claim (!= or < or >)\n",
    "3. type-1 error : \n",
    "alpha, level of significance , false positive\n",
    "4. typ2-2 error : \n",
    "beta or false negative\n",
    "5. p-value : \n",
    "if p-value < alpha->Reject H0 else we fail to reject(accept) H0\n",
    "6. critical value : \n"
   ]
  },
  {
   "cell_type": "code",
   "execution_count": null,
   "id": "da111ff4",
   "metadata": {},
   "outputs": [],
   "source": []
  },
  {
   "cell_type": "code",
   "execution_count": null,
   "id": "50b2c1a6",
   "metadata": {},
   "outputs": [],
   "source": []
  },
  {
   "cell_type": "code",
   "execution_count": null,
   "id": "e80a1ac8",
   "metadata": {},
   "outputs": [],
   "source": []
  },
  {
   "cell_type": "code",
   "execution_count": null,
   "id": "5850a8b4",
   "metadata": {},
   "outputs": [],
   "source": []
  },
  {
   "cell_type": "code",
   "execution_count": null,
   "id": "26f5cf57",
   "metadata": {},
   "outputs": [],
   "source": []
  },
  {
   "cell_type": "code",
   "execution_count": null,
   "id": "9e473a0d",
   "metadata": {},
   "outputs": [],
   "source": []
  },
  {
   "cell_type": "code",
   "execution_count": null,
   "id": "aa7b0877",
   "metadata": {},
   "outputs": [],
   "source": []
  },
  {
   "cell_type": "code",
   "execution_count": null,
   "id": "73863ec9",
   "metadata": {},
   "outputs": [],
   "source": []
  },
  {
   "cell_type": "code",
   "execution_count": null,
   "id": "b76201f0",
   "metadata": {},
   "outputs": [],
   "source": []
  },
  {
   "cell_type": "code",
   "execution_count": null,
   "id": "c795b3f9",
   "metadata": {},
   "outputs": [],
   "source": []
  },
  {
   "cell_type": "code",
   "execution_count": null,
   "id": "9bfcc260",
   "metadata": {},
   "outputs": [],
   "source": []
  },
  {
   "cell_type": "code",
   "execution_count": null,
   "id": "03a0bdb5",
   "metadata": {},
   "outputs": [],
   "source": []
  },
  {
   "cell_type": "code",
   "execution_count": null,
   "id": "39ab7c06",
   "metadata": {},
   "outputs": [],
   "source": []
  },
  {
   "cell_type": "code",
   "execution_count": null,
   "id": "5f15b83a",
   "metadata": {},
   "outputs": [],
   "source": []
  },
  {
   "cell_type": "code",
   "execution_count": null,
   "id": "ac650db4",
   "metadata": {},
   "outputs": [],
   "source": []
  },
  {
   "cell_type": "code",
   "execution_count": null,
   "id": "23f773fc",
   "metadata": {},
   "outputs": [],
   "source": [
    "## pvalue > alpha (0.05)--> reject H0\n",
    "## at least one of the pop avg total bill is different from rst of the days"
   ]
  },
  {
   "cell_type": "code",
   "execution_count": null,
   "id": "1c546901",
   "metadata": {},
   "outputs": [],
   "source": [
    "pvalue=st.f.sf(2.7674794432863363,3,240)"
   ]
  },
  {
   "cell_type": "code",
   "execution_count": null,
   "id": "646abcd8",
   "metadata": {},
   "outputs": [],
   "source": [
    "##test of association - chi square test\n",
    "##test the chaim that is there any association b/w smoking and the day\n",
    "## H0: there is no association b/w smoking and the day\n",
    "## H1: there is an association b/w smoking and the day"
   ]
  },
  {
   "cell_type": "code",
   "execution_count": null,
   "id": "b0628b82",
   "metadata": {},
   "outputs": [],
   "source": [
    "pd.crosstab(df.day,df.smoker)"
   ]
  },
  {
   "cell_type": "code",
   "execution_count": null,
   "id": "07e693ae",
   "metadata": {},
   "outputs": [],
   "source": [
    "st.chi2_contingency(table)"
   ]
  },
  {
   "cell_type": "code",
   "execution_count": null,
   "id": "8cd07049",
   "metadata": {},
   "outputs": [],
   "source": [
    "## since p value (1.056..) is less than alpha --> reject H0\n",
    "## we conclude that there is an association b/w day and smoking"
   ]
  },
  {
   "cell_type": "code",
   "execution_count": null,
   "id": "939a2dd4",
   "metadata": {},
   "outputs": [],
   "source": [
    "df.day.value_count()"
   ]
  },
  {
   "cell_type": "code",
   "execution_count": null,
   "id": "7fc0005c",
   "metadata": {},
   "outputs": [],
   "source": []
  },
  {
   "cell_type": "code",
   "execution_count": null,
   "id": "fec59229",
   "metadata": {},
   "outputs": [],
   "source": []
  },
  {
   "cell_type": "code",
   "execution_count": null,
   "id": "04be826c",
   "metadata": {},
   "outputs": [],
   "source": []
  },
  {
   "cell_type": "code",
   "execution_count": null,
   "id": "aef45bd8",
   "metadata": {},
   "outputs": [],
   "source": []
  },
  {
   "cell_type": "code",
   "execution_count": null,
   "id": "fc1616dd",
   "metadata": {},
   "outputs": [],
   "source": []
  },
  {
   "cell_type": "code",
   "execution_count": null,
   "id": "5daaaa1c",
   "metadata": {},
   "outputs": [],
   "source": []
  },
  {
   "cell_type": "code",
   "execution_count": null,
   "id": "689dba43",
   "metadata": {},
   "outputs": [],
   "source": []
  },
  {
   "cell_type": "code",
   "execution_count": null,
   "id": "10ad05af",
   "metadata": {},
   "outputs": [],
   "source": []
  },
  {
   "cell_type": "code",
   "execution_count": null,
   "id": "9af63cfd",
   "metadata": {},
   "outputs": [],
   "source": []
  },
  {
   "cell_type": "code",
   "execution_count": null,
   "id": "6d85f0e2",
   "metadata": {},
   "outputs": [],
   "source": []
  }
 ],
 "metadata": {
  "kernelspec": {
   "display_name": "Python 3",
   "language": "python",
   "name": "python3"
  },
  "language_info": {
   "codemirror_mode": {
    "name": "ipython",
    "version": 3
   },
   "file_extension": ".py",
   "mimetype": "text/x-python",
   "name": "python",
   "nbconvert_exporter": "python",
   "pygments_lexer": "ipython3",
   "version": "3.8.8"
  }
 },
 "nbformat": 4,
 "nbformat_minor": 5
}
